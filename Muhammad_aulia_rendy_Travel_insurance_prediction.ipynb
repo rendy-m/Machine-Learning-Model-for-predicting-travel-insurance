{
  "nbformat": 4,
  "nbformat_minor": 0,
  "metadata": {
    "colab": {
      "name": "Muhammad aulia rendy_Travel insurance prediction.ipynb",
      "provenance": [],
      "collapsed_sections": [],
      "toc_visible": true
    },
    "kernelspec": {
      "name": "python3",
      "display_name": "Python 3"
    },
    "language_info": {
      "name": "python"
    }
  },
  "cells": [
    {
      "cell_type": "markdown",
      "metadata": {
        "id": "Ykho94Y9HZd3"
      },
      "source": [
        "# **Import Package**"
      ]
    },
    {
      "cell_type": "code",
      "metadata": {
        "id": "ZRVUCEQo-5u9"
      },
      "source": [
        "import numpy as np\n",
        "import pandas as pd\n",
        "import seaborn as sns\n",
        "import matplotlib.pyplot as plt\n",
        "import warnings \n",
        "warnings.filterwarnings('ignore')"
      ],
      "execution_count": null,
      "outputs": []
    },
    {
      "cell_type": "markdown",
      "metadata": {
        "id": "9znBKZbVjn7r"
      },
      "source": [
        "#Data Understanding"
      ]
    },
    {
      "cell_type": "markdown",
      "metadata": {
        "id": "fv3QQWD-7R84"
      },
      "source": [
        "The goal of this dataset is to predict whether a customer will be interested in buying travel insurance or not"
      ]
    },
    {
      "cell_type": "markdown",
      "metadata": {
        "id": "dQ4_mxG8jOYS"
      },
      "source": [
        "| column | information |\n",
        "|--|--|\n",
        "|Age| Age Of The Customer|\n",
        "Employment Type| The Sector In Which Customer Is Employed|\n",
        "GraduateOrNot| Whether The Customer Is College Graduate Or Not\n",
        "AnnualIncome| The Yearly Income Of The Customer In Indian Rupees[Rounded To Nearest 50 Thousand Rupees]\n",
        "FamilyMembers| Number Of Members In Customer's Family\n",
        "ChronicDisease| Whether The Customer Suffers From Any Major Disease Or Conditions Like Diabetes/High BP or Asthama,etc.\n",
        "FrequentFlyer| Derived Data Based On Customer's History Of Booking Air Tickets On Atleast 4 Different Instances In The Last 2 Years[2017-2019].\n",
        "EverTravelledAbroad| Has The Customer Ever Travelled To A Foreign Country[Not Necessarily Using The Company's Services]\n",
        "TravelInsurance| Did The Customer Buy Travel Insurance Package During Introductory Offering Held In The Year 2019."
      ]
    },
    {
      "cell_type": "code",
      "metadata": {
        "id": "2ysUUV8v_pCi"
      },
      "source": [
        "df = pd.read_csv('TravelInsurancePrediction.csv')"
      ],
      "execution_count": null,
      "outputs": []
    },
    {
      "cell_type": "code",
      "metadata": {
        "colab": {
          "base_uri": "https://localhost:8080/",
          "height": 204
        },
        "id": "IQmx7JqcHgFY",
        "outputId": "defdb523-d29a-452d-bff3-94de11b7dbb4"
      },
      "source": [
        "df.head(5)"
      ],
      "execution_count": null,
      "outputs": [
        {
          "output_type": "execute_result",
          "data": {
            "text/html": [
              "<div>\n",
              "<style scoped>\n",
              "    .dataframe tbody tr th:only-of-type {\n",
              "        vertical-align: middle;\n",
              "    }\n",
              "\n",
              "    .dataframe tbody tr th {\n",
              "        vertical-align: top;\n",
              "    }\n",
              "\n",
              "    .dataframe thead th {\n",
              "        text-align: right;\n",
              "    }\n",
              "</style>\n",
              "<table border=\"1\" class=\"dataframe\">\n",
              "  <thead>\n",
              "    <tr style=\"text-align: right;\">\n",
              "      <th></th>\n",
              "      <th>Unnamed: 0</th>\n",
              "      <th>Age</th>\n",
              "      <th>Employment Type</th>\n",
              "      <th>GraduateOrNot</th>\n",
              "      <th>AnnualIncome</th>\n",
              "      <th>FamilyMembers</th>\n",
              "      <th>ChronicDiseases</th>\n",
              "      <th>FrequentFlyer</th>\n",
              "      <th>EverTravelledAbroad</th>\n",
              "      <th>TravelInsurance</th>\n",
              "    </tr>\n",
              "  </thead>\n",
              "  <tbody>\n",
              "    <tr>\n",
              "      <th>0</th>\n",
              "      <td>0</td>\n",
              "      <td>31</td>\n",
              "      <td>Government Sector</td>\n",
              "      <td>Yes</td>\n",
              "      <td>400000</td>\n",
              "      <td>6</td>\n",
              "      <td>1</td>\n",
              "      <td>No</td>\n",
              "      <td>No</td>\n",
              "      <td>0</td>\n",
              "    </tr>\n",
              "    <tr>\n",
              "      <th>1</th>\n",
              "      <td>1</td>\n",
              "      <td>31</td>\n",
              "      <td>Private Sector/Self Employed</td>\n",
              "      <td>Yes</td>\n",
              "      <td>1250000</td>\n",
              "      <td>7</td>\n",
              "      <td>0</td>\n",
              "      <td>No</td>\n",
              "      <td>No</td>\n",
              "      <td>0</td>\n",
              "    </tr>\n",
              "    <tr>\n",
              "      <th>2</th>\n",
              "      <td>2</td>\n",
              "      <td>34</td>\n",
              "      <td>Private Sector/Self Employed</td>\n",
              "      <td>Yes</td>\n",
              "      <td>500000</td>\n",
              "      <td>4</td>\n",
              "      <td>1</td>\n",
              "      <td>No</td>\n",
              "      <td>No</td>\n",
              "      <td>1</td>\n",
              "    </tr>\n",
              "    <tr>\n",
              "      <th>3</th>\n",
              "      <td>3</td>\n",
              "      <td>28</td>\n",
              "      <td>Private Sector/Self Employed</td>\n",
              "      <td>Yes</td>\n",
              "      <td>700000</td>\n",
              "      <td>3</td>\n",
              "      <td>1</td>\n",
              "      <td>No</td>\n",
              "      <td>No</td>\n",
              "      <td>0</td>\n",
              "    </tr>\n",
              "    <tr>\n",
              "      <th>4</th>\n",
              "      <td>4</td>\n",
              "      <td>28</td>\n",
              "      <td>Private Sector/Self Employed</td>\n",
              "      <td>Yes</td>\n",
              "      <td>700000</td>\n",
              "      <td>8</td>\n",
              "      <td>1</td>\n",
              "      <td>Yes</td>\n",
              "      <td>No</td>\n",
              "      <td>0</td>\n",
              "    </tr>\n",
              "  </tbody>\n",
              "</table>\n",
              "</div>"
            ],
            "text/plain": [
              "   Unnamed: 0  Age  ... EverTravelledAbroad TravelInsurance\n",
              "0           0   31  ...                  No               0\n",
              "1           1   31  ...                  No               0\n",
              "2           2   34  ...                  No               1\n",
              "3           3   28  ...                  No               0\n",
              "4           4   28  ...                  No               0\n",
              "\n",
              "[5 rows x 10 columns]"
            ]
          },
          "metadata": {},
          "execution_count": 376
        }
      ]
    },
    {
      "cell_type": "code",
      "metadata": {
        "colab": {
          "base_uri": "https://localhost:8080/"
        },
        "id": "5corMtqlBQEw",
        "outputId": "755b7de5-57a6-47ae-ae68-6fadeb97115e"
      },
      "source": [
        "df.info()"
      ],
      "execution_count": null,
      "outputs": [
        {
          "output_type": "stream",
          "name": "stdout",
          "text": [
            "<class 'pandas.core.frame.DataFrame'>\n",
            "RangeIndex: 1987 entries, 0 to 1986\n",
            "Data columns (total 10 columns):\n",
            " #   Column               Non-Null Count  Dtype \n",
            "---  ------               --------------  ----- \n",
            " 0   Unnamed: 0           1987 non-null   int64 \n",
            " 1   Age                  1987 non-null   int64 \n",
            " 2   Employment Type      1987 non-null   object\n",
            " 3   GraduateOrNot        1987 non-null   object\n",
            " 4   AnnualIncome         1987 non-null   int64 \n",
            " 5   FamilyMembers        1987 non-null   int64 \n",
            " 6   ChronicDiseases      1987 non-null   int64 \n",
            " 7   FrequentFlyer        1987 non-null   object\n",
            " 8   EverTravelledAbroad  1987 non-null   object\n",
            " 9   TravelInsurance      1987 non-null   int64 \n",
            "dtypes: int64(6), object(4)\n",
            "memory usage: 155.4+ KB\n"
          ]
        }
      ]
    },
    {
      "cell_type": "markdown",
      "metadata": {
        "id": "vBfUMAMi5d1S"
      },
      "source": [
        "Delete unneccesarry column"
      ]
    },
    {
      "cell_type": "code",
      "metadata": {
        "id": "ypQJ1-yD_wiW"
      },
      "source": [
        "df_new = df.drop(['Unnamed: 0'],axis=1)"
      ],
      "execution_count": null,
      "outputs": []
    },
    {
      "cell_type": "code",
      "metadata": {
        "colab": {
          "base_uri": "https://localhost:8080/"
        },
        "id": "UJkGMs0yaFqo",
        "outputId": "6b2ceaf5-dbc1-45b0-c45a-70be058fd036"
      },
      "source": [
        "df_new.info()"
      ],
      "execution_count": null,
      "outputs": [
        {
          "output_type": "stream",
          "name": "stdout",
          "text": [
            "<class 'pandas.core.frame.DataFrame'>\n",
            "RangeIndex: 1987 entries, 0 to 1986\n",
            "Data columns (total 9 columns):\n",
            " #   Column               Non-Null Count  Dtype \n",
            "---  ------               --------------  ----- \n",
            " 0   Age                  1987 non-null   int64 \n",
            " 1   Employment Type      1987 non-null   object\n",
            " 2   GraduateOrNot        1987 non-null   object\n",
            " 3   AnnualIncome         1987 non-null   int64 \n",
            " 4   FamilyMembers        1987 non-null   int64 \n",
            " 5   ChronicDiseases      1987 non-null   int64 \n",
            " 6   FrequentFlyer        1987 non-null   object\n",
            " 7   EverTravelledAbroad  1987 non-null   object\n",
            " 8   TravelInsurance      1987 non-null   int64 \n",
            "dtypes: int64(5), object(4)\n",
            "memory usage: 139.8+ KB\n"
          ]
        }
      ]
    },
    {
      "cell_type": "code",
      "metadata": {
        "colab": {
          "base_uri": "https://localhost:8080/",
          "height": 204
        },
        "id": "Pk6psGOHBMMS",
        "outputId": "62609171-b0cd-4af9-c963-366d8b814fca"
      },
      "source": [
        "df_new.head()"
      ],
      "execution_count": null,
      "outputs": [
        {
          "output_type": "execute_result",
          "data": {
            "text/html": [
              "<div>\n",
              "<style scoped>\n",
              "    .dataframe tbody tr th:only-of-type {\n",
              "        vertical-align: middle;\n",
              "    }\n",
              "\n",
              "    .dataframe tbody tr th {\n",
              "        vertical-align: top;\n",
              "    }\n",
              "\n",
              "    .dataframe thead th {\n",
              "        text-align: right;\n",
              "    }\n",
              "</style>\n",
              "<table border=\"1\" class=\"dataframe\">\n",
              "  <thead>\n",
              "    <tr style=\"text-align: right;\">\n",
              "      <th></th>\n",
              "      <th>Age</th>\n",
              "      <th>Employment Type</th>\n",
              "      <th>GraduateOrNot</th>\n",
              "      <th>AnnualIncome</th>\n",
              "      <th>FamilyMembers</th>\n",
              "      <th>ChronicDiseases</th>\n",
              "      <th>FrequentFlyer</th>\n",
              "      <th>EverTravelledAbroad</th>\n",
              "      <th>TravelInsurance</th>\n",
              "    </tr>\n",
              "  </thead>\n",
              "  <tbody>\n",
              "    <tr>\n",
              "      <th>0</th>\n",
              "      <td>31</td>\n",
              "      <td>Government Sector</td>\n",
              "      <td>Yes</td>\n",
              "      <td>400000</td>\n",
              "      <td>6</td>\n",
              "      <td>1</td>\n",
              "      <td>No</td>\n",
              "      <td>No</td>\n",
              "      <td>0</td>\n",
              "    </tr>\n",
              "    <tr>\n",
              "      <th>1</th>\n",
              "      <td>31</td>\n",
              "      <td>Private Sector/Self Employed</td>\n",
              "      <td>Yes</td>\n",
              "      <td>1250000</td>\n",
              "      <td>7</td>\n",
              "      <td>0</td>\n",
              "      <td>No</td>\n",
              "      <td>No</td>\n",
              "      <td>0</td>\n",
              "    </tr>\n",
              "    <tr>\n",
              "      <th>2</th>\n",
              "      <td>34</td>\n",
              "      <td>Private Sector/Self Employed</td>\n",
              "      <td>Yes</td>\n",
              "      <td>500000</td>\n",
              "      <td>4</td>\n",
              "      <td>1</td>\n",
              "      <td>No</td>\n",
              "      <td>No</td>\n",
              "      <td>1</td>\n",
              "    </tr>\n",
              "    <tr>\n",
              "      <th>3</th>\n",
              "      <td>28</td>\n",
              "      <td>Private Sector/Self Employed</td>\n",
              "      <td>Yes</td>\n",
              "      <td>700000</td>\n",
              "      <td>3</td>\n",
              "      <td>1</td>\n",
              "      <td>No</td>\n",
              "      <td>No</td>\n",
              "      <td>0</td>\n",
              "    </tr>\n",
              "    <tr>\n",
              "      <th>4</th>\n",
              "      <td>28</td>\n",
              "      <td>Private Sector/Self Employed</td>\n",
              "      <td>Yes</td>\n",
              "      <td>700000</td>\n",
              "      <td>8</td>\n",
              "      <td>1</td>\n",
              "      <td>Yes</td>\n",
              "      <td>No</td>\n",
              "      <td>0</td>\n",
              "    </tr>\n",
              "  </tbody>\n",
              "</table>\n",
              "</div>"
            ],
            "text/plain": [
              "   Age               Employment Type  ... EverTravelledAbroad  TravelInsurance\n",
              "0   31             Government Sector  ...                  No                0\n",
              "1   31  Private Sector/Self Employed  ...                  No                0\n",
              "2   34  Private Sector/Self Employed  ...                  No                1\n",
              "3   28  Private Sector/Self Employed  ...                  No                0\n",
              "4   28  Private Sector/Self Employed  ...                  No                0\n",
              "\n",
              "[5 rows x 9 columns]"
            ]
          },
          "metadata": {},
          "execution_count": 380
        }
      ]
    },
    {
      "cell_type": "code",
      "metadata": {
        "colab": {
          "base_uri": "https://localhost:8080/",
          "height": 296
        },
        "id": "fCPhLC-LHjw5",
        "outputId": "92010077-b56a-4bb4-804c-048606c0180f"
      },
      "source": [
        "df_new.describe()"
      ],
      "execution_count": null,
      "outputs": [
        {
          "output_type": "execute_result",
          "data": {
            "text/html": [
              "<div>\n",
              "<style scoped>\n",
              "    .dataframe tbody tr th:only-of-type {\n",
              "        vertical-align: middle;\n",
              "    }\n",
              "\n",
              "    .dataframe tbody tr th {\n",
              "        vertical-align: top;\n",
              "    }\n",
              "\n",
              "    .dataframe thead th {\n",
              "        text-align: right;\n",
              "    }\n",
              "</style>\n",
              "<table border=\"1\" class=\"dataframe\">\n",
              "  <thead>\n",
              "    <tr style=\"text-align: right;\">\n",
              "      <th></th>\n",
              "      <th>Age</th>\n",
              "      <th>AnnualIncome</th>\n",
              "      <th>FamilyMembers</th>\n",
              "      <th>ChronicDiseases</th>\n",
              "      <th>TravelInsurance</th>\n",
              "    </tr>\n",
              "  </thead>\n",
              "  <tbody>\n",
              "    <tr>\n",
              "      <th>count</th>\n",
              "      <td>1987.000000</td>\n",
              "      <td>1.987000e+03</td>\n",
              "      <td>1987.000000</td>\n",
              "      <td>1987.000000</td>\n",
              "      <td>1987.000000</td>\n",
              "    </tr>\n",
              "    <tr>\n",
              "      <th>mean</th>\n",
              "      <td>29.650226</td>\n",
              "      <td>9.327630e+05</td>\n",
              "      <td>4.752894</td>\n",
              "      <td>0.277806</td>\n",
              "      <td>0.357323</td>\n",
              "    </tr>\n",
              "    <tr>\n",
              "      <th>std</th>\n",
              "      <td>2.913308</td>\n",
              "      <td>3.768557e+05</td>\n",
              "      <td>1.609650</td>\n",
              "      <td>0.448030</td>\n",
              "      <td>0.479332</td>\n",
              "    </tr>\n",
              "    <tr>\n",
              "      <th>min</th>\n",
              "      <td>25.000000</td>\n",
              "      <td>3.000000e+05</td>\n",
              "      <td>2.000000</td>\n",
              "      <td>0.000000</td>\n",
              "      <td>0.000000</td>\n",
              "    </tr>\n",
              "    <tr>\n",
              "      <th>25%</th>\n",
              "      <td>28.000000</td>\n",
              "      <td>6.000000e+05</td>\n",
              "      <td>4.000000</td>\n",
              "      <td>0.000000</td>\n",
              "      <td>0.000000</td>\n",
              "    </tr>\n",
              "    <tr>\n",
              "      <th>50%</th>\n",
              "      <td>29.000000</td>\n",
              "      <td>9.000000e+05</td>\n",
              "      <td>5.000000</td>\n",
              "      <td>0.000000</td>\n",
              "      <td>0.000000</td>\n",
              "    </tr>\n",
              "    <tr>\n",
              "      <th>75%</th>\n",
              "      <td>32.000000</td>\n",
              "      <td>1.250000e+06</td>\n",
              "      <td>6.000000</td>\n",
              "      <td>1.000000</td>\n",
              "      <td>1.000000</td>\n",
              "    </tr>\n",
              "    <tr>\n",
              "      <th>max</th>\n",
              "      <td>35.000000</td>\n",
              "      <td>1.800000e+06</td>\n",
              "      <td>9.000000</td>\n",
              "      <td>1.000000</td>\n",
              "      <td>1.000000</td>\n",
              "    </tr>\n",
              "  </tbody>\n",
              "</table>\n",
              "</div>"
            ],
            "text/plain": [
              "               Age  AnnualIncome  ...  ChronicDiseases  TravelInsurance\n",
              "count  1987.000000  1.987000e+03  ...      1987.000000      1987.000000\n",
              "mean     29.650226  9.327630e+05  ...         0.277806         0.357323\n",
              "std       2.913308  3.768557e+05  ...         0.448030         0.479332\n",
              "min      25.000000  3.000000e+05  ...         0.000000         0.000000\n",
              "25%      28.000000  6.000000e+05  ...         0.000000         0.000000\n",
              "50%      29.000000  9.000000e+05  ...         0.000000         0.000000\n",
              "75%      32.000000  1.250000e+06  ...         1.000000         1.000000\n",
              "max      35.000000  1.800000e+06  ...         1.000000         1.000000\n",
              "\n",
              "[8 rows x 5 columns]"
            ]
          },
          "metadata": {},
          "execution_count": 381
        }
      ]
    },
    {
      "cell_type": "markdown",
      "metadata": {
        "id": "chAZhdoC4-pK"
      },
      "source": [
        "#**Data Cleaning**"
      ]
    },
    {
      "cell_type": "markdown",
      "metadata": {
        "id": "KJTKaE6UnvCk"
      },
      "source": [
        "##Split Dataset"
      ]
    },
    {
      "cell_type": "code",
      "metadata": {
        "colab": {
          "base_uri": "https://localhost:8080/"
        },
        "id": "l4wvofc3ZuPi",
        "outputId": "59870389-83fc-4f7e-9236-1d8434eaaac6"
      },
      "source": [
        "from sklearn.model_selection import train_test_split\n",
        "training_data, testing_data = train_test_split(df_new, test_size=0.3, random_state=42)\n",
        "print(f\"No. of training examples: {training_data.shape[0]}\")\n",
        "print(f\"No. of testing examples: {testing_data.shape[0]}\")"
      ],
      "execution_count": null,
      "outputs": [
        {
          "output_type": "stream",
          "name": "stdout",
          "text": [
            "No. of training examples: 1390\n",
            "No. of testing examples: 597\n"
          ]
        }
      ]
    },
    {
      "cell_type": "code",
      "metadata": {
        "colab": {
          "base_uri": "https://localhost:8080/",
          "height": 204
        },
        "id": "7IQX-uYSapmv",
        "outputId": "79de4e7f-b37c-4ec4-9854-6099c8109a78"
      },
      "source": [
        "training_data.head(5)"
      ],
      "execution_count": null,
      "outputs": [
        {
          "output_type": "execute_result",
          "data": {
            "text/html": [
              "<div>\n",
              "<style scoped>\n",
              "    .dataframe tbody tr th:only-of-type {\n",
              "        vertical-align: middle;\n",
              "    }\n",
              "\n",
              "    .dataframe tbody tr th {\n",
              "        vertical-align: top;\n",
              "    }\n",
              "\n",
              "    .dataframe thead th {\n",
              "        text-align: right;\n",
              "    }\n",
              "</style>\n",
              "<table border=\"1\" class=\"dataframe\">\n",
              "  <thead>\n",
              "    <tr style=\"text-align: right;\">\n",
              "      <th></th>\n",
              "      <th>Age</th>\n",
              "      <th>Employment Type</th>\n",
              "      <th>GraduateOrNot</th>\n",
              "      <th>AnnualIncome</th>\n",
              "      <th>FamilyMembers</th>\n",
              "      <th>ChronicDiseases</th>\n",
              "      <th>FrequentFlyer</th>\n",
              "      <th>EverTravelledAbroad</th>\n",
              "      <th>TravelInsurance</th>\n",
              "    </tr>\n",
              "  </thead>\n",
              "  <tbody>\n",
              "    <tr>\n",
              "      <th>1953</th>\n",
              "      <td>34</td>\n",
              "      <td>Government Sector</td>\n",
              "      <td>Yes</td>\n",
              "      <td>1300000</td>\n",
              "      <td>7</td>\n",
              "      <td>0</td>\n",
              "      <td>No</td>\n",
              "      <td>No</td>\n",
              "      <td>1</td>\n",
              "    </tr>\n",
              "    <tr>\n",
              "      <th>1642</th>\n",
              "      <td>31</td>\n",
              "      <td>Private Sector/Self Employed</td>\n",
              "      <td>Yes</td>\n",
              "      <td>1250000</td>\n",
              "      <td>7</td>\n",
              "      <td>0</td>\n",
              "      <td>No</td>\n",
              "      <td>No</td>\n",
              "      <td>0</td>\n",
              "    </tr>\n",
              "    <tr>\n",
              "      <th>943</th>\n",
              "      <td>29</td>\n",
              "      <td>Private Sector/Self Employed</td>\n",
              "      <td>Yes</td>\n",
              "      <td>1200000</td>\n",
              "      <td>5</td>\n",
              "      <td>1</td>\n",
              "      <td>No</td>\n",
              "      <td>No</td>\n",
              "      <td>0</td>\n",
              "    </tr>\n",
              "    <tr>\n",
              "      <th>286</th>\n",
              "      <td>28</td>\n",
              "      <td>Private Sector/Self Employed</td>\n",
              "      <td>Yes</td>\n",
              "      <td>600000</td>\n",
              "      <td>3</td>\n",
              "      <td>0</td>\n",
              "      <td>No</td>\n",
              "      <td>No</td>\n",
              "      <td>0</td>\n",
              "    </tr>\n",
              "    <tr>\n",
              "      <th>1593</th>\n",
              "      <td>26</td>\n",
              "      <td>Private Sector/Self Employed</td>\n",
              "      <td>Yes</td>\n",
              "      <td>500000</td>\n",
              "      <td>8</td>\n",
              "      <td>0</td>\n",
              "      <td>No</td>\n",
              "      <td>No</td>\n",
              "      <td>0</td>\n",
              "    </tr>\n",
              "  </tbody>\n",
              "</table>\n",
              "</div>"
            ],
            "text/plain": [
              "      Age               Employment Type  ... EverTravelledAbroad  TravelInsurance\n",
              "1953   34             Government Sector  ...                  No                1\n",
              "1642   31  Private Sector/Self Employed  ...                  No                0\n",
              "943    29  Private Sector/Self Employed  ...                  No                0\n",
              "286    28  Private Sector/Self Employed  ...                  No                0\n",
              "1593   26  Private Sector/Self Employed  ...                  No                0\n",
              "\n",
              "[5 rows x 9 columns]"
            ]
          },
          "metadata": {},
          "execution_count": 383
        }
      ]
    },
    {
      "cell_type": "code",
      "metadata": {
        "colab": {
          "base_uri": "https://localhost:8080/"
        },
        "id": "-ZSKypbvoN5b",
        "outputId": "581a7918-3d69-41c6-889c-0dc6e5d9c213"
      },
      "source": [
        "df_train.info()"
      ],
      "execution_count": null,
      "outputs": [
        {
          "output_type": "stream",
          "name": "stdout",
          "text": [
            "<class 'pandas.core.frame.DataFrame'>\n",
            "Int64Index: 955 entries, 1953 to 860\n",
            "Data columns (total 9 columns):\n",
            " #   Column               Non-Null Count  Dtype\n",
            "---  ------               --------------  -----\n",
            " 0   Age                  955 non-null    int64\n",
            " 1   EmploymentType       955 non-null    int64\n",
            " 2   GraduateOrNot        955 non-null    int64\n",
            " 3   AnnualIncome         955 non-null    int64\n",
            " 4   FamilyMembers        955 non-null    int64\n",
            " 5   ChronicDiseases      955 non-null    int64\n",
            " 6   FrequentFlyer        955 non-null    int64\n",
            " 7   EverTravelledAbroad  955 non-null    int64\n",
            " 8   TravelInsurance      955 non-null    int64\n",
            "dtypes: int64(9)\n",
            "memory usage: 74.6 KB\n"
          ]
        }
      ]
    },
    {
      "cell_type": "markdown",
      "metadata": {
        "id": "Nr_z04TW1cCF"
      },
      "source": [
        "##Check duplicated "
      ]
    },
    {
      "cell_type": "markdown",
      "metadata": {
        "id": "EEefo_lCrz-W"
      },
      "source": [
        "df train"
      ]
    },
    {
      "cell_type": "code",
      "metadata": {
        "colab": {
          "base_uri": "https://localhost:8080/"
        },
        "id": "hGeBZEiXDsau",
        "outputId": "31e83a2b-923d-45b8-ea58-8082f6d42ef1"
      },
      "source": [
        "print(f'Data dimension before duplicate handling:{training_data.shape[0]}')\n",
        "df_train = training_data.drop_duplicates()\n",
        "print(f'Data dimension after duplicate handling:{df_train.shape[0]}')"
      ],
      "execution_count": null,
      "outputs": [
        {
          "output_type": "stream",
          "name": "stdout",
          "text": [
            "Data dimension before duplicate handling:1390\n",
            "Data dimension after duplicate handling:955\n"
          ]
        }
      ]
    },
    {
      "cell_type": "markdown",
      "metadata": {
        "id": "1KlI4M89ryQr"
      },
      "source": [
        "df test"
      ]
    },
    {
      "cell_type": "code",
      "metadata": {
        "colab": {
          "base_uri": "https://localhost:8080/"
        },
        "id": "0LjCQE1wrZDq",
        "outputId": "afd22d36-da03-4876-d6be-908464593696"
      },
      "source": [
        "print(f'Data dimension before duplicate handling:{testing_data.shape[0]}')\n",
        "df_test = testing_data.drop_duplicates()\n",
        "print(f'Data dimension after duplicate handling:{df_test.shape[0]}')"
      ],
      "execution_count": null,
      "outputs": [
        {
          "output_type": "stream",
          "name": "stdout",
          "text": [
            "Data dimension before duplicate handling:597\n",
            "Data dimension after duplicate handling:500\n"
          ]
        }
      ]
    },
    {
      "cell_type": "markdown",
      "metadata": {
        "id": "n2AODRHIIEpJ"
      },
      "source": [
        "##Missing Value Check"
      ]
    },
    {
      "cell_type": "markdown",
      "metadata": {
        "id": "TpHhf1furxOL"
      },
      "source": [
        "df train"
      ]
    },
    {
      "cell_type": "code",
      "metadata": {
        "colab": {
          "base_uri": "https://localhost:8080/"
        },
        "id": "JNnN2Bu4BkCf",
        "outputId": "34eae711-a04e-44fc-83ab-2d0c8b69d8ac"
      },
      "source": [
        "df_train.isnull().sum()"
      ],
      "execution_count": null,
      "outputs": [
        {
          "output_type": "execute_result",
          "data": {
            "text/plain": [
              "Age                    0\n",
              "Employment Type        0\n",
              "GraduateOrNot          0\n",
              "AnnualIncome           0\n",
              "FamilyMembers          0\n",
              "ChronicDiseases        0\n",
              "FrequentFlyer          0\n",
              "EverTravelledAbroad    0\n",
              "TravelInsurance        0\n",
              "dtype: int64"
            ]
          },
          "metadata": {},
          "execution_count": 387
        }
      ]
    },
    {
      "cell_type": "markdown",
      "metadata": {
        "id": "NsRysK3DrwPe"
      },
      "source": [
        "df test"
      ]
    },
    {
      "cell_type": "code",
      "metadata": {
        "colab": {
          "base_uri": "https://localhost:8080/"
        },
        "id": "igDA29MwroPC",
        "outputId": "a3bf5e16-ee28-4cea-e879-49efa2443c86"
      },
      "source": [
        "df_test.isnull().sum()"
      ],
      "execution_count": null,
      "outputs": [
        {
          "output_type": "execute_result",
          "data": {
            "text/plain": [
              "Age                    0\n",
              "Employment Type        0\n",
              "GraduateOrNot          0\n",
              "AnnualIncome           0\n",
              "FamilyMembers          0\n",
              "ChronicDiseases        0\n",
              "FrequentFlyer          0\n",
              "EverTravelledAbroad    0\n",
              "TravelInsurance        0\n",
              "dtype: int64"
            ]
          },
          "metadata": {},
          "execution_count": 388
        }
      ]
    },
    {
      "cell_type": "markdown",
      "metadata": {
        "id": "Pb1rM6-HngiB"
      },
      "source": [
        "there are no missing values in both of dataset train and test"
      ]
    },
    {
      "cell_type": "markdown",
      "metadata": {
        "id": "2iPnGxhoC-1Z"
      },
      "source": [
        "##Check Outliers"
      ]
    },
    {
      "cell_type": "markdown",
      "metadata": {
        "id": "F7ro2yw1rut8"
      },
      "source": [
        "df train"
      ]
    },
    {
      "cell_type": "code",
      "metadata": {
        "colab": {
          "base_uri": "https://localhost:8080/",
          "height": 333
        },
        "id": "h6Gbq1wcC6K3",
        "outputId": "d2cf8ea1-577c-49f7-acc0-05dfc4d2c292"
      },
      "source": [
        "plt.figure(figsize=(10,5))\n",
        "\n",
        "df_train.boxplot(vert=False)\n",
        "plt.show()"
      ],
      "execution_count": null,
      "outputs": [
        {
          "output_type": "display_data",
          "data": {
            "image/png": "[encoded data removed]",
            "text/plain": [
              "<Figure size 720x360 with 1 Axes>"
            ]
          },
          "metadata": {
            "needs_background": "light"
          }
        }
      ]
    },
    {
      "cell_type": "markdown",
      "metadata": {
        "id": "9gW32CvErte-"
      },
      "source": [
        "df test"
      ]
    },
    {
      "cell_type": "code",
      "metadata": {
        "colab": {
          "base_uri": "https://localhost:8080/",
          "height": 333
        },
        "id": "fbJqPQ6grrxY",
        "outputId": "aaf3cbf9-d116-4c6a-b563-4fd2745d1f61"
      },
      "source": [
        "plt.figure(figsize=(10,5))\n",
        "\n",
        "df_test.boxplot(vert=False)\n",
        "plt.show()"
      ],
      "execution_count": null,
      "outputs": [
        {
          "output_type": "display_data",
          "data": {
            "image/png": "[encoded data removed]",
            "text/plain": [
              "<Figure size 720x360 with 1 Axes>"
            ]
          },
          "metadata": {
            "needs_background": "light"
          }
        }
      ]
    },
    {
      "cell_type": "markdown",
      "metadata": {
        "id": "imA91bDOnoqC"
      },
      "source": [
        "there are no outlier in both of dataset train and test"
      ]
    },
    {
      "cell_type": "markdown",
      "metadata": {
        "id": "2kyEzWjB0D9y"
      },
      "source": [
        "##Feature Encoding"
      ]
    },
    {
      "cell_type": "markdown",
      "metadata": {
        "id": "u8MTZtgT8HeO"
      },
      "source": [
        "Check the value each columns"
      ]
    },
    {
      "cell_type": "code",
      "metadata": {
        "colab": {
          "base_uri": "https://localhost:8080/",
          "height": 1000
        },
        "id": "7NCCAxdJBokb",
        "outputId": "27bce3dd-0b98-41fe-a122-a65dea3d997e"
      },
      "source": [
        "for column_value in df_train.columns:\n",
        "  print(f'========={column_value}=========')\n",
        "  display(df_train[column_value].value_counts().sort_values(ascending=True))\n",
        "  print()"
      ],
      "execution_count": null,
      "outputs": [
        {
          "output_type": "stream",
          "name": "stdout",
          "text": [
            "=========Age=========\n"
          ]
        },
        {
          "output_type": "display_data",
          "data": {
            "text/plain": [
              "35     32\n",
              "30     36\n",
              "32     53\n",
              "27     65\n",
              "25     72\n",
              "26     73\n",
              "33     78\n",
              "29     97\n",
              "31    107\n",
              "34    117\n",
              "28    225\n",
              "Name: Age, dtype: int64"
            ]
          },
          "metadata": {}
        },
        {
          "output_type": "stream",
          "name": "stdout",
          "text": [
            "\n",
            "=========Employment Type=========\n"
          ]
        },
        {
          "output_type": "display_data",
          "data": {
            "text/plain": [
              "Government Sector               270\n",
              "Private Sector/Self Employed    685\n",
              "Name: Employment Type, dtype: int64"
            ]
          },
          "metadata": {}
        },
        {
          "output_type": "stream",
          "name": "stdout",
          "text": [
            "\n",
            "=========GraduateOrNot=========\n"
          ]
        },
        {
          "output_type": "display_data",
          "data": {
            "text/plain": [
              "No     158\n",
              "Yes    797\n",
              "Name: GraduateOrNot, dtype: int64"
            ]
          },
          "metadata": {}
        },
        {
          "output_type": "stream",
          "name": "stdout",
          "text": [
            "\n",
            "=========AnnualIncome=========\n"
          ]
        },
        {
          "output_type": "display_data",
          "data": {
            "text/plain": [
              "1550000     3\n",
              "1800000     4\n",
              "450000      8\n",
              "1750000    11\n",
              "950000     13\n",
              "1450000    13\n",
              "1700000    14\n",
              "1350000    19\n",
              "650000     22\n",
              "350000     24\n",
              "400000     24\n",
              "300000     25\n",
              "1000000    29\n",
              "1500000    31\n",
              "850000     31\n",
              "1250000    36\n",
              "750000     37\n",
              "900000     38\n",
              "1150000    38\n",
              "1050000    39\n",
              "550000     41\n",
              "700000     44\n",
              "1200000    50\n",
              "1300000    53\n",
              "600000     56\n",
              "1100000    56\n",
              "1400000    60\n",
              "500000     68\n",
              "800000     68\n",
              "Name: AnnualIncome, dtype: int64"
            ]
          },
          "metadata": {}
        },
        {
          "output_type": "stream",
          "name": "stdout",
          "text": [
            "\n",
            "=========FamilyMembers=========\n"
          ]
        },
        {
          "output_type": "display_data",
          "data": {
            "text/plain": [
              "8     37\n",
              "9     39\n",
              "2     61\n",
              "7    105\n",
              "6    137\n",
              "3    176\n",
              "5    191\n",
              "4    209\n",
              "Name: FamilyMembers, dtype: int64"
            ]
          },
          "metadata": {}
        },
        {
          "output_type": "stream",
          "name": "stdout",
          "text": [
            "\n",
            "=========ChronicDiseases=========\n"
          ]
        },
        {
          "output_type": "display_data",
          "data": {
            "text/plain": [
              "1    311\n",
              "0    644\n",
              "Name: ChronicDiseases, dtype: int64"
            ]
          },
          "metadata": {}
        },
        {
          "output_type": "stream",
          "name": "stdout",
          "text": [
            "\n",
            "=========FrequentFlyer=========\n"
          ]
        },
        {
          "output_type": "display_data",
          "data": {
            "text/plain": [
              "Yes    224\n",
              "No     731\n",
              "Name: FrequentFlyer, dtype: int64"
            ]
          },
          "metadata": {}
        },
        {
          "output_type": "stream",
          "name": "stdout",
          "text": [
            "\n",
            "=========EverTravelledAbroad=========\n"
          ]
        },
        {
          "output_type": "display_data",
          "data": {
            "text/plain": [
              "Yes    179\n",
              "No     776\n",
              "Name: EverTravelledAbroad, dtype: int64"
            ]
          },
          "metadata": {}
        },
        {
          "output_type": "stream",
          "name": "stdout",
          "text": [
            "\n",
            "=========TravelInsurance=========\n"
          ]
        },
        {
          "output_type": "display_data",
          "data": {
            "text/plain": [
              "1    358\n",
              "0    597\n",
              "Name: TravelInsurance, dtype: int64"
            ]
          },
          "metadata": {}
        },
        {
          "output_type": "stream",
          "name": "stdout",
          "text": [
            "\n"
          ]
        }
      ]
    },
    {
      "cell_type": "markdown",
      "metadata": {
        "id": "46MNdl9V8zzf"
      },
      "source": [
        "Do a feature encoding based on above information for each categorical data type"
      ]
    },
    {
      "cell_type": "code",
      "metadata": {
        "id": "b2EVTdjLqE8M"
      },
      "source": [
        "from sklearn.preprocessing import LabelEncoder, OneHotEncoder"
      ],
      "execution_count": null,
      "outputs": []
    },
    {
      "cell_type": "code",
      "metadata": {
        "id": "vhfxeJjJqJp7"
      },
      "source": [
        "label_encoder = LabelEncoder()"
      ],
      "execution_count": null,
      "outputs": []
    },
    {
      "cell_type": "markdown",
      "metadata": {
        "id": "1Loen5bD0Y7v"
      },
      "source": [
        "###Data train"
      ]
    },
    {
      "cell_type": "code",
      "metadata": {
        "id": "AvP-e_T_wZj-"
      },
      "source": [
        "def encoding_kolom_train (kolom):\n",
        "  df_train[kolom] = label_encoder.fit_transform(df_train[kolom])\n",
        "  print(kolom)"
      ],
      "execution_count": null,
      "outputs": []
    },
    {
      "cell_type": "code",
      "metadata": {
        "colab": {
          "base_uri": "https://localhost:8080/"
        },
        "id": "g1cIRO0dwkXm",
        "outputId": "e08499e3-ec50-44ec-ff4e-4ed7a4289bad"
      },
      "source": [
        "encoding_kolom_train('Employment Type')\n",
        "encoding_kolom_train('GraduateOrNot')\n",
        "encoding_kolom_train('FrequentFlyer')\n",
        "encoding_kolom_train('EverTravelledAbroad')"
      ],
      "execution_count": null,
      "outputs": [
        {
          "output_type": "stream",
          "name": "stdout",
          "text": [
            "Employment Type\n",
            "GraduateOrNot\n",
            "FrequentFlyer\n",
            "EverTravelledAbroad\n"
          ]
        }
      ]
    },
    {
      "cell_type": "code",
      "metadata": {
        "id": "h_HZ_Cg_6nnl"
      },
      "source": [
        "df_train.rename(columns={'Employment Type': 'EmploymentType'},inplace=True)"
      ],
      "execution_count": null,
      "outputs": []
    },
    {
      "cell_type": "code",
      "metadata": {
        "colab": {
          "base_uri": "https://localhost:8080/",
          "height": 204
        },
        "id": "h39dw_G6rbgD",
        "outputId": "15a3b28e-7838-42da-c173-50f255a1ceae"
      },
      "source": [
        "df_train.head(5)"
      ],
      "execution_count": null,
      "outputs": [
        {
          "output_type": "execute_result",
          "data": {
            "text/html": [
              "<div>\n",
              "<style scoped>\n",
              "    .dataframe tbody tr th:only-of-type {\n",
              "        vertical-align: middle;\n",
              "    }\n",
              "\n",
              "    .dataframe tbody tr th {\n",
              "        vertical-align: top;\n",
              "    }\n",
              "\n",
              "    .dataframe thead th {\n",
              "        text-align: right;\n",
              "    }\n",
              "</style>\n",
              "<table border=\"1\" class=\"dataframe\">\n",
              "  <thead>\n",
              "    <tr style=\"text-align: right;\">\n",
              "      <th></th>\n",
              "      <th>Age</th>\n",
              "      <th>EmploymentType</th>\n",
              "      <th>GraduateOrNot</th>\n",
              "      <th>AnnualIncome</th>\n",
              "      <th>FamilyMembers</th>\n",
              "      <th>ChronicDiseases</th>\n",
              "      <th>FrequentFlyer</th>\n",
              "      <th>EverTravelledAbroad</th>\n",
              "      <th>TravelInsurance</th>\n",
              "    </tr>\n",
              "  </thead>\n",
              "  <tbody>\n",
              "    <tr>\n",
              "      <th>1953</th>\n",
              "      <td>34</td>\n",
              "      <td>0</td>\n",
              "      <td>1</td>\n",
              "      <td>1300000</td>\n",
              "      <td>7</td>\n",
              "      <td>0</td>\n",
              "      <td>0</td>\n",
              "      <td>0</td>\n",
              "      <td>1</td>\n",
              "    </tr>\n",
              "    <tr>\n",
              "      <th>1642</th>\n",
              "      <td>31</td>\n",
              "      <td>1</td>\n",
              "      <td>1</td>\n",
              "      <td>1250000</td>\n",
              "      <td>7</td>\n",
              "      <td>0</td>\n",
              "      <td>0</td>\n",
              "      <td>0</td>\n",
              "      <td>0</td>\n",
              "    </tr>\n",
              "    <tr>\n",
              "      <th>943</th>\n",
              "      <td>29</td>\n",
              "      <td>1</td>\n",
              "      <td>1</td>\n",
              "      <td>1200000</td>\n",
              "      <td>5</td>\n",
              "      <td>1</td>\n",
              "      <td>0</td>\n",
              "      <td>0</td>\n",
              "      <td>0</td>\n",
              "    </tr>\n",
              "    <tr>\n",
              "      <th>286</th>\n",
              "      <td>28</td>\n",
              "      <td>1</td>\n",
              "      <td>1</td>\n",
              "      <td>600000</td>\n",
              "      <td>3</td>\n",
              "      <td>0</td>\n",
              "      <td>0</td>\n",
              "      <td>0</td>\n",
              "      <td>0</td>\n",
              "    </tr>\n",
              "    <tr>\n",
              "      <th>1593</th>\n",
              "      <td>26</td>\n",
              "      <td>1</td>\n",
              "      <td>1</td>\n",
              "      <td>500000</td>\n",
              "      <td>8</td>\n",
              "      <td>0</td>\n",
              "      <td>0</td>\n",
              "      <td>0</td>\n",
              "      <td>0</td>\n",
              "    </tr>\n",
              "  </tbody>\n",
              "</table>\n",
              "</div>"
            ],
            "text/plain": [
              "      Age  EmploymentType  ...  EverTravelledAbroad  TravelInsurance\n",
              "1953   34               0  ...                    0                1\n",
              "1642   31               1  ...                    0                0\n",
              "943    29               1  ...                    0                0\n",
              "286    28               1  ...                    0                0\n",
              "1593   26               1  ...                    0                0\n",
              "\n",
              "[5 rows x 9 columns]"
            ]
          },
          "metadata": {},
          "execution_count": 398
        }
      ]
    },
    {
      "cell_type": "markdown",
      "metadata": {
        "id": "dFGWLXEr0ao2"
      },
      "source": [
        "###Data test"
      ]
    },
    {
      "cell_type": "code",
      "metadata": {
        "id": "egRKUxFdr7Cl"
      },
      "source": [
        "def encoding_kolom (kolom):\n",
        "  df_test[kolom] = label_encoder.fit_transform(df_test[kolom])\n",
        "  print(kolom)"
      ],
      "execution_count": null,
      "outputs": []
    },
    {
      "cell_type": "code",
      "metadata": {
        "colab": {
          "base_uri": "https://localhost:8080/"
        },
        "id": "q6MKfzAUuc9c",
        "outputId": "d9170312-d881-4367-fdf7-055c319d4842"
      },
      "source": [
        "encoding_kolom('Employment Type')\n",
        "encoding_kolom('GraduateOrNot')\n",
        "encoding_kolom('FrequentFlyer')\n",
        "encoding_kolom('EverTravelledAbroad')"
      ],
      "execution_count": null,
      "outputs": [
        {
          "output_type": "stream",
          "name": "stdout",
          "text": [
            "Employment Type\n",
            "GraduateOrNot\n",
            "FrequentFlyer\n",
            "EverTravelledAbroad\n"
          ]
        }
      ]
    },
    {
      "cell_type": "code",
      "metadata": {
        "id": "IWzCrPEH6eSs"
      },
      "source": [
        "df_test.rename(columns={'Employment Type': 'EmploymentType'},inplace=True)"
      ],
      "execution_count": null,
      "outputs": []
    },
    {
      "cell_type": "code",
      "metadata": {
        "colab": {
          "base_uri": "https://localhost:8080/",
          "height": 204
        },
        "id": "OnlyPWOFuik8",
        "outputId": "a0b58a6b-cd72-444f-ebc9-c1cdd1ee7367"
      },
      "source": [
        "df_test.head(5)"
      ],
      "execution_count": null,
      "outputs": [
        {
          "output_type": "execute_result",
          "data": {
            "text/html": [
              "<div>\n",
              "<style scoped>\n",
              "    .dataframe tbody tr th:only-of-type {\n",
              "        vertical-align: middle;\n",
              "    }\n",
              "\n",
              "    .dataframe tbody tr th {\n",
              "        vertical-align: top;\n",
              "    }\n",
              "\n",
              "    .dataframe thead th {\n",
              "        text-align: right;\n",
              "    }\n",
              "</style>\n",
              "<table border=\"1\" class=\"dataframe\">\n",
              "  <thead>\n",
              "    <tr style=\"text-align: right;\">\n",
              "      <th></th>\n",
              "      <th>Age</th>\n",
              "      <th>EmploymentType</th>\n",
              "      <th>GraduateOrNot</th>\n",
              "      <th>AnnualIncome</th>\n",
              "      <th>FamilyMembers</th>\n",
              "      <th>ChronicDiseases</th>\n",
              "      <th>FrequentFlyer</th>\n",
              "      <th>EverTravelledAbroad</th>\n",
              "      <th>TravelInsurance</th>\n",
              "    </tr>\n",
              "  </thead>\n",
              "  <tbody>\n",
              "    <tr>\n",
              "      <th>212</th>\n",
              "      <td>28</td>\n",
              "      <td>1</td>\n",
              "      <td>1</td>\n",
              "      <td>750000</td>\n",
              "      <td>5</td>\n",
              "      <td>1</td>\n",
              "      <td>0</td>\n",
              "      <td>0</td>\n",
              "      <td>0</td>\n",
              "    </tr>\n",
              "    <tr>\n",
              "      <th>1517</th>\n",
              "      <td>26</td>\n",
              "      <td>1</td>\n",
              "      <td>1</td>\n",
              "      <td>1400000</td>\n",
              "      <td>4</td>\n",
              "      <td>1</td>\n",
              "      <td>0</td>\n",
              "      <td>1</td>\n",
              "      <td>1</td>\n",
              "    </tr>\n",
              "    <tr>\n",
              "      <th>785</th>\n",
              "      <td>29</td>\n",
              "      <td>1</td>\n",
              "      <td>1</td>\n",
              "      <td>1200000</td>\n",
              "      <td>7</td>\n",
              "      <td>0</td>\n",
              "      <td>0</td>\n",
              "      <td>1</td>\n",
              "      <td>0</td>\n",
              "    </tr>\n",
              "    <tr>\n",
              "      <th>1175</th>\n",
              "      <td>33</td>\n",
              "      <td>0</td>\n",
              "      <td>1</td>\n",
              "      <td>400000</td>\n",
              "      <td>4</td>\n",
              "      <td>1</td>\n",
              "      <td>0</td>\n",
              "      <td>0</td>\n",
              "      <td>0</td>\n",
              "    </tr>\n",
              "    <tr>\n",
              "      <th>1760</th>\n",
              "      <td>34</td>\n",
              "      <td>1</td>\n",
              "      <td>1</td>\n",
              "      <td>1500000</td>\n",
              "      <td>3</td>\n",
              "      <td>0</td>\n",
              "      <td>1</td>\n",
              "      <td>1</td>\n",
              "      <td>1</td>\n",
              "    </tr>\n",
              "  </tbody>\n",
              "</table>\n",
              "</div>"
            ],
            "text/plain": [
              "      Age  EmploymentType  ...  EverTravelledAbroad  TravelInsurance\n",
              "212    28               1  ...                    0                0\n",
              "1517   26               1  ...                    1                1\n",
              "785    29               1  ...                    1                0\n",
              "1175   33               0  ...                    0                0\n",
              "1760   34               1  ...                    1                1\n",
              "\n",
              "[5 rows x 9 columns]"
            ]
          },
          "metadata": {},
          "execution_count": 402
        }
      ]
    },
    {
      "cell_type": "code",
      "metadata": {
        "colab": {
          "base_uri": "https://localhost:8080/"
        },
        "id": "hOGsomJbaNTP",
        "outputId": "d7b4bd07-ea11-4796-b3d9-c77246926783"
      },
      "source": [
        "print(df_train['TravelInsurance'].value_counts())\n",
        "print(df_test['TravelInsurance'].value_counts())"
      ],
      "execution_count": null,
      "outputs": [
        {
          "output_type": "stream",
          "name": "stdout",
          "text": [
            "0    597\n",
            "1    358\n",
            "Name: TravelInsurance, dtype: int64\n",
            "0    309\n",
            "1    191\n",
            "Name: TravelInsurance, dtype: int64\n"
          ]
        }
      ]
    },
    {
      "cell_type": "markdown",
      "metadata": {
        "id": "QtKOvA7mIO0D"
      },
      "source": [
        "#**Exploratory Data Analysis**"
      ]
    },
    {
      "cell_type": "code",
      "metadata": {
        "colab": {
          "base_uri": "https://localhost:8080/",
          "height": 413
        },
        "id": "xbWUG1tG2chp",
        "outputId": "e8811c29-ac09-413d-d5dc-f5ac2ba63999"
      },
      "source": [
        "plt.figure(figsize=(10,5))\n",
        "mask = np.triu(np.ones_like(df_train.corr(),dtype=np.bool))\n",
        "sns.heatmap(df_train.corr(),mask=mask,annot=True,cmap='BrBG')\n",
        "plt.show()"
      ],
      "execution_count": null,
      "outputs": [
        {
          "output_type": "display_data",
          "data": {
            "image/png": "[encoded data removed]",
            "text/plain": [
              "<Figure size 720x360 with 2 Axes>"
            ]
          },
          "metadata": {
            "needs_background": "light"
          }
        }
      ]
    },
    {
      "cell_type": "markdown",
      "metadata": {
        "id": "9sRl5o1u9NeJ"
      },
      "source": [
        "There are 2 columns that have quite correlation with data target (TravelInsurance)"
      ]
    },
    {
      "cell_type": "markdown",
      "metadata": {
        "id": "POP5b19TIM48"
      },
      "source": [
        "Employment Type"
      ]
    },
    {
      "cell_type": "code",
      "metadata": {
        "colab": {
          "base_uri": "https://localhost:8080/",
          "height": 111
        },
        "id": "HAVCMo5LGok5",
        "outputId": "69a9b62b-e308-40b8-a455-9213b9c11e30"
      },
      "source": [
        "df_employment = df_train['EmploymentType'].value_counts().reset_index()\n",
        "df_employment.columns= ['Employment','Count']\n",
        "df_employment"
      ],
      "execution_count": null,
      "outputs": [
        {
          "output_type": "execute_result",
          "data": {
            "text/html": [
              "<div>\n",
              "<style scoped>\n",
              "    .dataframe tbody tr th:only-of-type {\n",
              "        vertical-align: middle;\n",
              "    }\n",
              "\n",
              "    .dataframe tbody tr th {\n",
              "        vertical-align: top;\n",
              "    }\n",
              "\n",
              "    .dataframe thead th {\n",
              "        text-align: right;\n",
              "    }\n",
              "</style>\n",
              "<table border=\"1\" class=\"dataframe\">\n",
              "  <thead>\n",
              "    <tr style=\"text-align: right;\">\n",
              "      <th></th>\n",
              "      <th>Employment</th>\n",
              "      <th>Count</th>\n",
              "    </tr>\n",
              "  </thead>\n",
              "  <tbody>\n",
              "    <tr>\n",
              "      <th>0</th>\n",
              "      <td>1</td>\n",
              "      <td>685</td>\n",
              "    </tr>\n",
              "    <tr>\n",
              "      <th>1</th>\n",
              "      <td>0</td>\n",
              "      <td>270</td>\n",
              "    </tr>\n",
              "  </tbody>\n",
              "</table>\n",
              "</div>"
            ],
            "text/plain": [
              "   Employment  Count\n",
              "0           1    685\n",
              "1           0    270"
            ]
          },
          "metadata": {},
          "execution_count": 407
        }
      ]
    },
    {
      "cell_type": "markdown",
      "metadata": {
        "id": "rMADb96y2rfY"
      },
      "source": [
        "1. Government Sector = 0 \n",
        "2. Private Sector/Self Employed = 1\n",
        "\n",
        "---\n",
        "\n"
      ]
    },
    {
      "cell_type": "code",
      "metadata": {
        "colab": {
          "base_uri": "https://localhost:8080/",
          "height": 297
        },
        "id": "gzB1Ou8ZH-b2",
        "outputId": "6d336cd1-b54c-4876-a754-69c343a47bc2"
      },
      "source": [
        "sns.barplot(data=df_employment,x='Employment',y='Count')"
      ],
      "execution_count": null,
      "outputs": [
        {
          "output_type": "execute_result",
          "data": {
            "text/plain": [
              "<matplotlib.axes._subplots.AxesSubplot at 0x7f4928956f10>"
            ]
          },
          "metadata": {},
          "execution_count": 408
        },
        {
          "output_type": "display_data",
          "data": {
            "image/png": "[encoded data removed]",
            "text/plain": [
              "<Figure size 432x288 with 1 Axes>"
            ]
          },
          "metadata": {
            "needs_background": "light"
          }
        }
      ]
    },
    {
      "cell_type": "markdown",
      "metadata": {
        "id": "eJxFV3c7KHoQ"
      },
      "source": [
        "Income"
      ]
    },
    {
      "cell_type": "code",
      "metadata": {
        "colab": {
          "base_uri": "https://localhost:8080/",
          "height": 297
        },
        "id": "voADWqQiKGyE",
        "outputId": "ebeafed4-c15d-48dd-f3f3-3649eaee88ed"
      },
      "source": [
        "# Know the distribution of Income \n",
        "plt.figure(figsize=(10,4))\n",
        "sns.histplot(df_train, x='AnnualIncome')"
      ],
      "execution_count": null,
      "outputs": [
        {
          "output_type": "execute_result",
          "data": {
            "text/plain": [
              "<matplotlib.axes._subplots.AxesSubplot at 0x7f4928941650>"
            ]
          },
          "metadata": {},
          "execution_count": 409
        },
        {
          "output_type": "display_data",
          "data": {
            "image/png": "[encoded data removed]",
            "text/plain": [
              "<Figure size 720x288 with 1 Axes>"
            ]
          },
          "metadata": {
            "needs_background": "light"
          }
        }
      ]
    },
    {
      "cell_type": "code",
      "metadata": {
        "colab": {
          "base_uri": "https://localhost:8080/",
          "height": 297
        },
        "id": "IT2JCbrN3o-9",
        "outputId": "dfe7649e-2d96-4481-ce87-3b858372f01c"
      },
      "source": [
        "freq_flyer = df_train[df_train['EmploymentType']==1].reset_index()\n",
        "freq_flyer = freq_flyer.groupby('FrequentFlyer').agg({'EmploymentType':'count'}).reset_index()\n",
        "sns.barplot(data=freq_flyer,x='FrequentFlyer',y='EmploymentType')"
      ],
      "execution_count": null,
      "outputs": [
        {
          "output_type": "execute_result",
          "data": {
            "text/plain": [
              "<matplotlib.axes._subplots.AxesSubplot at 0x7f4928a4df10>"
            ]
          },
          "metadata": {},
          "execution_count": 410
        },
        {
          "output_type": "display_data",
          "data": {
            "image/png": "[encoded data removed]",
            "text/plain": [
              "<Figure size 432x288 with 1 Axes>"
            ]
          },
          "metadata": {
            "needs_background": "light"
          }
        }
      ]
    },
    {
      "cell_type": "markdown",
      "metadata": {
        "id": "zeQ0sWsk7xfd"
      },
      "source": [
        "private employees tend not to participate in loyalty programs such as frequent flyers"
      ]
    },
    {
      "cell_type": "code",
      "metadata": {
        "colab": {
          "base_uri": "https://localhost:8080/",
          "height": 297
        },
        "id": "EBuu5gE_8hyH",
        "outputId": "c63c135b-f737-4aa5-f8b7-df95ce465ffb"
      },
      "source": [
        "EverTravelledAbroad = df_train[df_train['EmploymentType']==1].reset_index()\n",
        "EverTravelledAbroad = EverTravelledAbroad.groupby('EverTravelledAbroad').agg({'EmploymentType':'count'}).reset_index()\n",
        "sns.barplot(data=EverTravelledAbroad,x='EverTravelledAbroad',y='EmploymentType')"
      ],
      "execution_count": null,
      "outputs": [
        {
          "output_type": "execute_result",
          "data": {
            "text/plain": [
              "<matplotlib.axes._subplots.AxesSubplot at 0x7f49288da4d0>"
            ]
          },
          "metadata": {},
          "execution_count": 411
        },
        {
          "output_type": "display_data",
          "data": {
            "image/png": "[encoded data removed]",
            "text/plain": [
              "<Figure size 432x288 with 1 Axes>"
            ]
          },
          "metadata": {
            "needs_background": "light"
          }
        }
      ]
    },
    {
      "cell_type": "markdown",
      "metadata": {
        "id": "Z5z7W0DC82gJ"
      },
      "source": [
        "most of the private employees have never travelled abroad"
      ]
    },
    {
      "cell_type": "code",
      "metadata": {
        "colab": {
          "base_uri": "https://localhost:8080/",
          "height": 297
        },
        "id": "C1sCE37AFh1m",
        "outputId": "8d7cb875-ce91-4bef-8ac6-12a52e9167c3"
      },
      "source": [
        "travelaboard = df_train['EverTravelledAbroad'].value_counts().reset_index()\n",
        "travelaboard.columns= ['EverTravelledAbroad\t','Count']\n",
        "sns.barplot(data=travelaboard,x='EverTravelledAbroad\t',y='Count')"
      ],
      "execution_count": null,
      "outputs": [
        {
          "output_type": "execute_result",
          "data": {
            "text/plain": [
              "<matplotlib.axes._subplots.AxesSubplot at 0x7f492931c090>"
            ]
          },
          "metadata": {},
          "execution_count": 412
        },
        {
          "output_type": "display_data",
          "data": {
            "image/png": "[encoded data removed]",
            "text/plain": [
              "<Figure size 432x288 with 1 Axes>"
            ]
          },
          "metadata": {
            "needs_background": "light"
          }
        }
      ]
    },
    {
      "cell_type": "markdown",
      "metadata": {
        "id": "fdEIXZrfACfH"
      },
      "source": [
        "Distribution of TravelInsurance column"
      ]
    },
    {
      "cell_type": "code",
      "metadata": {
        "colab": {
          "base_uri": "https://localhost:8080/",
          "height": 297
        },
        "id": "xv4FgQI8_oaw",
        "outputId": "81a16d7f-b183-4b3b-dd88-93e47a5ff9f6"
      },
      "source": [
        "travelinsurance = df_train['TravelInsurance'].value_counts().reset_index()\n",
        "travelinsurance.columns= ['TravelInsurance','Count']\n",
        "sns.barplot(data=travelinsurance,x='TravelInsurance',y='Count')"
      ],
      "execution_count": null,
      "outputs": [
        {
          "output_type": "execute_result",
          "data": {
            "text/plain": [
              "<matplotlib.axes._subplots.AxesSubplot at 0x7f4928c9af90>"
            ]
          },
          "metadata": {},
          "execution_count": 414
        },
        {
          "output_type": "display_data",
          "data": {
            "image/png": "[encoded data removed]",
            "text/plain": [
              "<Figure size 432x288 with 1 Axes>"
            ]
          },
          "metadata": {
            "needs_background": "light"
          }
        }
      ]
    },
    {
      "cell_type": "code",
      "metadata": {
        "colab": {
          "base_uri": "https://localhost:8080/",
          "height": 297
        },
        "id": "4lNWQ4iK-Val",
        "outputId": "2ea2d997-1a2f-43a8-f407-c773b7988350"
      },
      "source": [
        "TravelIns1 = df_train[df_train['EverTravelledAbroad']==1].reset_index()\n",
        "TravelIns1 = TravelIns1.groupby('TravelInsurance').agg({'EverTravelledAbroad':'count'}).reset_index()\n",
        "sns.barplot(data=TravelIns1,x='TravelInsurance',y='EverTravelledAbroad')"
      ],
      "execution_count": null,
      "outputs": [
        {
          "output_type": "execute_result",
          "data": {
            "text/plain": [
              "<matplotlib.axes._subplots.AxesSubplot at 0x7f492884f310>"
            ]
          },
          "metadata": {},
          "execution_count": 413
        },
        {
          "output_type": "display_data",
          "data": {
            "image/png": "[encoded data removed]",
            "text/plain": [
              "<Figure size 432x288 with 1 Axes>"
            ]
          },
          "metadata": {
            "needs_background": "light"
          }
        }
      ]
    },
    {
      "cell_type": "markdown",
      "metadata": {
        "id": "hpZ4zX-AD9Hk"
      },
      "source": [
        "Most of people that ever travelled aboard tend to buy for travel insurance packages"
      ]
    },
    {
      "cell_type": "code",
      "metadata": {
        "colab": {
          "base_uri": "https://localhost:8080/",
          "height": 297
        },
        "id": "lHAqte2A_jGP",
        "outputId": "13e9c94d-974c-455b-fb83-e90736b48e7b"
      },
      "source": [
        "TravelIns2 = df_train[df_train['EverTravelledAbroad']==0].reset_index()\n",
        "TravelIns2 = TravelIns2.groupby('TravelInsurance').agg({'EverTravelledAbroad':'count'}).reset_index()\n",
        "sns.barplot(data=TravelIns2,x='TravelInsurance',y='EverTravelledAbroad')"
      ],
      "execution_count": null,
      "outputs": [
        {
          "output_type": "execute_result",
          "data": {
            "text/plain": [
              "<matplotlib.axes._subplots.AxesSubplot at 0x7f4929376110>"
            ]
          },
          "metadata": {},
          "execution_count": 415
        },
        {
          "output_type": "display_data",
          "data": {
            "image/png": "[encoded data removed]",
            "text/plain": [
              "<Figure size 432x288 with 1 Axes>"
            ]
          },
          "metadata": {
            "needs_background": "light"
          }
        }
      ]
    },
    {
      "cell_type": "markdown",
      "metadata": {
        "id": "1guwqdvaEHTV"
      },
      "source": [
        "Most of people that never travelled aboard,only a few buy travel insurance packages"
      ]
    },
    {
      "cell_type": "markdown",
      "metadata": {
        "id": "YgByyeorPcE8"
      },
      "source": [
        "# Modelling"
      ]
    },
    {
      "cell_type": "markdown",
      "metadata": {
        "id": "V1UjbbkXGMzQ"
      },
      "source": [
        "##Split data into X and y"
      ]
    },
    {
      "cell_type": "markdown",
      "metadata": {
        "id": "aWPT7I-r2d0j"
      },
      "source": [
        "Data Train"
      ]
    },
    {
      "cell_type": "code",
      "metadata": {
        "id": "kWsOhm7-8UHz"
      },
      "source": [
        "X_train = df_train.drop(['TravelInsurance'],axis=1)\n",
        "y_train = df_train['TravelInsurance'].values"
      ],
      "execution_count": null,
      "outputs": []
    },
    {
      "cell_type": "markdown",
      "metadata": {
        "id": "xa8AIJiu9byn"
      },
      "source": [
        "Data Test"
      ]
    },
    {
      "cell_type": "code",
      "metadata": {
        "id": "qhVEK-X59bN6"
      },
      "source": [
        "X_test = df_test.drop(['TravelInsurance'],axis=1)\n",
        "y_test = df_test['TravelInsurance'].values"
      ],
      "execution_count": null,
      "outputs": []
    },
    {
      "cell_type": "markdown",
      "metadata": {
        "id": "1AJnmHhTWoYc"
      },
      "source": [
        "Code to show model result"
      ]
    },
    {
      "cell_type": "code",
      "metadata": {
        "id": "60sCnvtPVu4s"
      },
      "source": [
        "from sklearn.metrics import confusion_matrix\n",
        "from sklearn.metrics import classification_report\n",
        "from sklearn.metrics import f1_score\n",
        "from sklearn.metrics import accuracy_score\n",
        "\n",
        "# suatu fungsi untuk menampilkan summary/report dari model ML kita\n",
        "def summary_report(y_true, y_pred, X_test, clf): # clf = clasifier\n",
        "    # Get Prediction Result\n",
        "    print(classification_report(y_true,y_pred))\n",
        "        \n",
        "    # Show Confusion Matrix Data\n",
        "    tn, fp, fn, tp = confusion_matrix(y_true, y_pred).ravel()\n",
        "    print(f'True Positives: {tp}')\n",
        "    print(f'False Positives: {fp}')\n",
        "    print(f'True Negatives: {tn}')\n",
        "    print(f'False Negatives: {fn}')\n",
        "  "
      ],
      "execution_count": null,
      "outputs": []
    },
    {
      "cell_type": "markdown",
      "metadata": {
        "id": "noc082rQQJHh"
      },
      "source": [
        "## CatBoost Model"
      ]
    },
    {
      "cell_type": "code",
      "metadata": {
        "colab": {
          "base_uri": "https://localhost:8080/"
        },
        "id": "f6Aw1T_YPSC8",
        "outputId": "5cca69bf-536b-4100-e630-3922359ca1db"
      },
      "source": [
        "!pip install catboost"
      ],
      "execution_count": null,
      "outputs": [
        {
          "output_type": "stream",
          "name": "stdout",
          "text": [
            "Collecting catboost\n",
            "  Downloading catboost-1.0.0-cp37-none-manylinux1_x86_64.whl (76.4 MB)\n",
            "\u001b[K     |████████████████████████████████| 76.4 MB 32 kB/s \n",
            "\u001b[?25hRequirement already satisfied: matplotlib in /usr/local/lib/python3.7/dist-packages (from catboost) (3.2.2)\n",
            "Requirement already satisfied: graphviz in /usr/local/lib/python3.7/dist-packages (from catboost) (0.10.1)\n",
            "Requirement already satisfied: scipy in /usr/local/lib/python3.7/dist-packages (from catboost) (1.4.1)\n",
            "Requirement already satisfied: numpy>=1.16.0 in /usr/local/lib/python3.7/dist-packages (from catboost) (1.19.5)\n",
            "Requirement already satisfied: plotly in /usr/local/lib/python3.7/dist-packages (from catboost) (4.4.1)\n",
            "Requirement already satisfied: six in /usr/local/lib/python3.7/dist-packages (from catboost) (1.15.0)\n",
            "Requirement already satisfied: pandas>=0.24.0 in /usr/local/lib/python3.7/dist-packages (from catboost) (1.1.5)\n",
            "Requirement already satisfied: python-dateutil>=2.7.3 in /usr/local/lib/python3.7/dist-packages (from pandas>=0.24.0->catboost) (2.8.2)\n",
            "Requirement already satisfied: pytz>=2017.2 in /usr/local/lib/python3.7/dist-packages (from pandas>=0.24.0->catboost) (2018.9)\n",
            "Requirement already satisfied: cycler>=0.10 in /usr/local/lib/python3.7/dist-packages (from matplotlib->catboost) (0.10.0)\n",
            "Requirement already satisfied: pyparsing!=2.0.4,!=2.1.2,!=2.1.6,>=2.0.1 in /usr/local/lib/python3.7/dist-packages (from matplotlib->catboost) (2.4.7)\n",
            "Requirement already satisfied: kiwisolver>=1.0.1 in /usr/local/lib/python3.7/dist-packages (from matplotlib->catboost) (1.3.2)\n",
            "Requirement already satisfied: retrying>=1.3.3 in /usr/local/lib/python3.7/dist-packages (from plotly->catboost) (1.3.3)\n",
            "Installing collected packages: catboost\n",
            "Successfully installed catboost-1.0.0\n"
          ]
        }
      ]
    },
    {
      "cell_type": "markdown",
      "metadata": {
        "id": "uyTKRL0mfjaj"
      },
      "source": [
        "####Model"
      ]
    },
    {
      "cell_type": "code",
      "metadata": {
        "colab": {
          "base_uri": "https://localhost:8080/"
        },
        "id": "0Fee_Sq3Sqtd",
        "outputId": "bac5ea4f-f9f5-4f3d-cc6d-92277c30ab35"
      },
      "source": [
        "import catboost as ctb\n",
        "model_cb= ctb.CatBoostClassifier()\n",
        "model_cb.fit(X_train,y_train)"
      ],
      "execution_count": null,
      "outputs": [
        {
          "output_type": "stream",
          "name": "stdout",
          "text": [
            "Learning rate set to 0.010102\n",
            "0:\tlearn: 0.6893326\ttotal: 4.9ms\tremaining: 4.89s\n",
            "1:\tlearn: 0.6872628\ttotal: 5.57ms\tremaining: 2.78s\n",
            "2:\tlearn: 0.6837633\ttotal: 6.61ms\tremaining: 2.2s\n",
            "3:\tlearn: 0.6805152\ttotal: 7.27ms\tremaining: 1.81s\n",
            "4:\tlearn: 0.6767334\ttotal: 8.32ms\tremaining: 1.66s\n",
            "5:\tlearn: 0.6732704\ttotal: 10.3ms\tremaining: 1.7s\n",
            "6:\tlearn: 0.6693846\ttotal: 11.5ms\tremaining: 1.63s\n",
            "7:\tlearn: 0.6667755\ttotal: 12.3ms\tremaining: 1.53s\n",
            "8:\tlearn: 0.6631104\ttotal: 13.2ms\tremaining: 1.45s\n",
            "9:\tlearn: 0.6605583\ttotal: 14.2ms\tremaining: 1.4s\n",
            "10:\tlearn: 0.6579188\ttotal: 15.3ms\tremaining: 1.38s\n",
            "11:\tlearn: 0.6545200\ttotal: 16.4ms\tremaining: 1.35s\n",
            "12:\tlearn: 0.6515849\ttotal: 17.7ms\tremaining: 1.34s\n",
            "13:\tlearn: 0.6480860\ttotal: 18.9ms\tremaining: 1.33s\n",
            "14:\tlearn: 0.6449702\ttotal: 19.9ms\tremaining: 1.31s\n",
            "15:\tlearn: 0.6424874\ttotal: 20.8ms\tremaining: 1.28s\n",
            "16:\tlearn: 0.6401342\ttotal: 21.7ms\tremaining: 1.26s\n",
            "17:\tlearn: 0.6371992\ttotal: 22.6ms\tremaining: 1.23s\n",
            "18:\tlearn: 0.6359495\ttotal: 23.5ms\tremaining: 1.21s\n",
            "19:\tlearn: 0.6336076\ttotal: 24.3ms\tremaining: 1.19s\n",
            "20:\tlearn: 0.6306500\ttotal: 25.1ms\tremaining: 1.17s\n",
            "21:\tlearn: 0.6282644\ttotal: 26.2ms\tremaining: 1.16s\n",
            "22:\tlearn: 0.6263156\ttotal: 27.2ms\tremaining: 1.16s\n",
            "23:\tlearn: 0.6236138\ttotal: 28.2ms\tremaining: 1.15s\n",
            "24:\tlearn: 0.6212278\ttotal: 29.1ms\tremaining: 1.13s\n",
            "25:\tlearn: 0.6184800\ttotal: 30ms\tremaining: 1.12s\n",
            "26:\tlearn: 0.6161243\ttotal: 30.9ms\tremaining: 1.11s\n",
            "27:\tlearn: 0.6138267\ttotal: 31.7ms\tremaining: 1.1s\n",
            "28:\tlearn: 0.6114795\ttotal: 32.6ms\tremaining: 1.09s\n",
            "29:\tlearn: 0.6093154\ttotal: 33.5ms\tremaining: 1.08s\n",
            "30:\tlearn: 0.6071279\ttotal: 34.4ms\tremaining: 1.07s\n",
            "31:\tlearn: 0.6046004\ttotal: 35.2ms\tremaining: 1.06s\n",
            "32:\tlearn: 0.6019499\ttotal: 36.2ms\tremaining: 1.06s\n",
            "33:\tlearn: 0.6001013\ttotal: 37ms\tremaining: 1.05s\n",
            "34:\tlearn: 0.5983111\ttotal: 37.9ms\tremaining: 1.05s\n",
            "35:\tlearn: 0.5959468\ttotal: 39.1ms\tremaining: 1.05s\n",
            "36:\tlearn: 0.5942388\ttotal: 40ms\tremaining: 1.04s\n",
            "37:\tlearn: 0.5926596\ttotal: 40.8ms\tremaining: 1.03s\n",
            "38:\tlearn: 0.5905135\ttotal: 41.7ms\tremaining: 1.03s\n",
            "39:\tlearn: 0.5886702\ttotal: 42.6ms\tremaining: 1.02s\n",
            "40:\tlearn: 0.5867647\ttotal: 43.4ms\tremaining: 1.01s\n",
            "41:\tlearn: 0.5851629\ttotal: 44.2ms\tremaining: 1.01s\n",
            "42:\tlearn: 0.5832928\ttotal: 45.3ms\tremaining: 1.01s\n",
            "43:\tlearn: 0.5816119\ttotal: 46.1ms\tremaining: 1s\n",
            "44:\tlearn: 0.5799819\ttotal: 47.1ms\tremaining: 1s\n",
            "45:\tlearn: 0.5785411\ttotal: 48.1ms\tremaining: 997ms\n",
            "46:\tlearn: 0.5768091\ttotal: 49ms\tremaining: 993ms\n",
            "47:\tlearn: 0.5748614\ttotal: 49.8ms\tremaining: 988ms\n",
            "48:\tlearn: 0.5737711\ttotal: 50.7ms\tremaining: 983ms\n",
            "49:\tlearn: 0.5718782\ttotal: 51.5ms\tremaining: 978ms\n",
            "50:\tlearn: 0.5701093\ttotal: 52.3ms\tremaining: 974ms\n",
            "51:\tlearn: 0.5688538\ttotal: 53.3ms\tremaining: 971ms\n",
            "52:\tlearn: 0.5673908\ttotal: 54.1ms\tremaining: 966ms\n",
            "53:\tlearn: 0.5665170\ttotal: 54.8ms\tremaining: 960ms\n",
            "54:\tlearn: 0.5650430\ttotal: 55.6ms\tremaining: 956ms\n",
            "55:\tlearn: 0.5638218\ttotal: 56.5ms\tremaining: 952ms\n",
            "56:\tlearn: 0.5622883\ttotal: 57.3ms\tremaining: 948ms\n",
            "57:\tlearn: 0.5606543\ttotal: 58.5ms\tremaining: 951ms\n",
            "58:\tlearn: 0.5594605\ttotal: 59.4ms\tremaining: 948ms\n",
            "59:\tlearn: 0.5578093\ttotal: 60.3ms\tremaining: 944ms\n",
            "60:\tlearn: 0.5566146\ttotal: 61.2ms\tremaining: 942ms\n",
            "61:\tlearn: 0.5556408\ttotal: 62ms\tremaining: 938ms\n",
            "62:\tlearn: 0.5547297\ttotal: 62.9ms\tremaining: 935ms\n",
            "63:\tlearn: 0.5534364\ttotal: 63.7ms\tremaining: 931ms\n",
            "64:\tlearn: 0.5518643\ttotal: 64.8ms\tremaining: 933ms\n",
            "65:\tlearn: 0.5504478\ttotal: 65.7ms\tremaining: 930ms\n",
            "66:\tlearn: 0.5491360\ttotal: 66.6ms\tremaining: 927ms\n",
            "67:\tlearn: 0.5482247\ttotal: 67.4ms\tremaining: 924ms\n",
            "68:\tlearn: 0.5471135\ttotal: 68.3ms\tremaining: 921ms\n",
            "69:\tlearn: 0.5463612\ttotal: 69.2ms\tremaining: 919ms\n",
            "70:\tlearn: 0.5454269\ttotal: 70.1ms\tremaining: 917ms\n",
            "71:\tlearn: 0.5441264\ttotal: 70.9ms\tremaining: 914ms\n",
            "72:\tlearn: 0.5428098\ttotal: 71.8ms\tremaining: 912ms\n",
            "73:\tlearn: 0.5418030\ttotal: 72.7ms\tremaining: 909ms\n",
            "74:\tlearn: 0.5406301\ttotal: 73.6ms\tremaining: 907ms\n",
            "75:\tlearn: 0.5397573\ttotal: 74.4ms\tremaining: 904ms\n",
            "76:\tlearn: 0.5389785\ttotal: 75.3ms\tremaining: 903ms\n",
            "77:\tlearn: 0.5379382\ttotal: 76.2ms\tremaining: 900ms\n",
            "78:\tlearn: 0.5371319\ttotal: 77ms\tremaining: 898ms\n",
            "79:\tlearn: 0.5363565\ttotal: 78.1ms\tremaining: 898ms\n",
            "80:\tlearn: 0.5351359\ttotal: 79ms\tremaining: 896ms\n",
            "81:\tlearn: 0.5341690\ttotal: 79.8ms\tremaining: 894ms\n",
            "82:\tlearn: 0.5330714\ttotal: 80.7ms\tremaining: 891ms\n",
            "83:\tlearn: 0.5321068\ttotal: 81.5ms\tremaining: 889ms\n",
            "84:\tlearn: 0.5311206\ttotal: 82.4ms\tremaining: 887ms\n",
            "85:\tlearn: 0.5304026\ttotal: 83.2ms\tremaining: 884ms\n",
            "86:\tlearn: 0.5295553\ttotal: 84.1ms\tremaining: 882ms\n",
            "87:\tlearn: 0.5287158\ttotal: 84.9ms\tremaining: 880ms\n",
            "88:\tlearn: 0.5278188\ttotal: 85.8ms\tremaining: 878ms\n",
            "89:\tlearn: 0.5271721\ttotal: 86.6ms\tremaining: 876ms\n",
            "90:\tlearn: 0.5262437\ttotal: 87.5ms\tremaining: 874ms\n",
            "91:\tlearn: 0.5255862\ttotal: 88.3ms\tremaining: 872ms\n",
            "92:\tlearn: 0.5249042\ttotal: 89.2ms\tremaining: 870ms\n",
            "93:\tlearn: 0.5243396\ttotal: 90.2ms\tremaining: 869ms\n",
            "94:\tlearn: 0.5232969\ttotal: 91.1ms\tremaining: 868ms\n",
            "95:\tlearn: 0.5225723\ttotal: 92ms\tremaining: 866ms\n",
            "96:\tlearn: 0.5222093\ttotal: 92.7ms\tremaining: 863ms\n",
            "97:\tlearn: 0.5216536\ttotal: 93.5ms\tremaining: 861ms\n",
            "98:\tlearn: 0.5207940\ttotal: 94.4ms\tremaining: 859ms\n",
            "99:\tlearn: 0.5202872\ttotal: 95.3ms\tremaining: 857ms\n",
            "100:\tlearn: 0.5194800\ttotal: 96.2ms\tremaining: 856ms\n",
            "101:\tlearn: 0.5187948\ttotal: 97ms\tremaining: 854ms\n",
            "102:\tlearn: 0.5181269\ttotal: 97.9ms\tremaining: 852ms\n",
            "103:\tlearn: 0.5170564\ttotal: 98.7ms\tremaining: 850ms\n",
            "104:\tlearn: 0.5164157\ttotal: 99.6ms\tremaining: 849ms\n",
            "105:\tlearn: 0.5155201\ttotal: 100ms\tremaining: 847ms\n",
            "106:\tlearn: 0.5144651\ttotal: 101ms\tremaining: 846ms\n",
            "107:\tlearn: 0.5140155\ttotal: 102ms\tremaining: 844ms\n",
            "108:\tlearn: 0.5133355\ttotal: 103ms\tremaining: 843ms\n",
            "109:\tlearn: 0.5128220\ttotal: 104ms\tremaining: 842ms\n",
            "110:\tlearn: 0.5122090\ttotal: 105ms\tremaining: 840ms\n",
            "111:\tlearn: 0.5113627\ttotal: 106ms\tremaining: 838ms\n",
            "112:\tlearn: 0.5107179\ttotal: 107ms\tremaining: 837ms\n",
            "113:\tlearn: 0.5101478\ttotal: 108ms\tremaining: 836ms\n",
            "114:\tlearn: 0.5094586\ttotal: 108ms\tremaining: 834ms\n",
            "115:\tlearn: 0.5087637\ttotal: 109ms\tremaining: 833ms\n",
            "116:\tlearn: 0.5081984\ttotal: 110ms\tremaining: 831ms\n",
            "117:\tlearn: 0.5077564\ttotal: 111ms\tremaining: 829ms\n",
            "118:\tlearn: 0.5076003\ttotal: 112ms\tremaining: 826ms\n",
            "119:\tlearn: 0.5070342\ttotal: 112ms\tremaining: 825ms\n",
            "120:\tlearn: 0.5064874\ttotal: 113ms\tremaining: 823ms\n",
            "121:\tlearn: 0.5058792\ttotal: 114ms\tremaining: 822ms\n",
            "122:\tlearn: 0.5054464\ttotal: 115ms\tremaining: 821ms\n",
            "123:\tlearn: 0.5049224\ttotal: 116ms\tremaining: 821ms\n",
            "124:\tlearn: 0.5045084\ttotal: 117ms\tremaining: 819ms\n",
            "125:\tlearn: 0.5043820\ttotal: 118ms\tremaining: 816ms\n",
            "126:\tlearn: 0.5038826\ttotal: 119ms\tremaining: 817ms\n",
            "127:\tlearn: 0.5033726\ttotal: 120ms\tremaining: 815ms\n",
            "128:\tlearn: 0.5029498\ttotal: 121ms\tremaining: 816ms\n",
            "129:\tlearn: 0.5024962\ttotal: 122ms\tremaining: 814ms\n",
            "130:\tlearn: 0.5020593\ttotal: 122ms\tremaining: 812ms\n",
            "131:\tlearn: 0.5015346\ttotal: 123ms\tremaining: 812ms\n",
            "132:\tlearn: 0.5011294\ttotal: 124ms\tremaining: 810ms\n",
            "133:\tlearn: 0.5006855\ttotal: 125ms\tremaining: 809ms\n",
            "134:\tlearn: 0.5005533\ttotal: 126ms\tremaining: 806ms\n",
            "135:\tlearn: 0.5002904\ttotal: 127ms\tremaining: 804ms\n",
            "136:\tlearn: 0.4998602\ttotal: 127ms\tremaining: 803ms\n",
            "137:\tlearn: 0.4993339\ttotal: 128ms\tremaining: 802ms\n",
            "138:\tlearn: 0.4986974\ttotal: 129ms\tremaining: 800ms\n",
            "139:\tlearn: 0.4984996\ttotal: 130ms\tremaining: 799ms\n",
            "140:\tlearn: 0.4980944\ttotal: 131ms\tremaining: 798ms\n",
            "141:\tlearn: 0.4979512\ttotal: 132ms\tremaining: 796ms\n",
            "142:\tlearn: 0.4975570\ttotal: 133ms\tremaining: 795ms\n",
            "143:\tlearn: 0.4970212\ttotal: 133ms\tremaining: 793ms\n",
            "144:\tlearn: 0.4967318\ttotal: 134ms\tremaining: 792ms\n",
            "145:\tlearn: 0.4963063\ttotal: 135ms\tremaining: 791ms\n",
            "146:\tlearn: 0.4957749\ttotal: 136ms\tremaining: 789ms\n",
            "147:\tlearn: 0.4953764\ttotal: 137ms\tremaining: 788ms\n",
            "148:\tlearn: 0.4952771\ttotal: 138ms\tremaining: 786ms\n",
            "149:\tlearn: 0.4948828\ttotal: 138ms\tremaining: 785ms\n",
            "150:\tlearn: 0.4945770\ttotal: 139ms\tremaining: 784ms\n",
            "151:\tlearn: 0.4942051\ttotal: 140ms\tremaining: 783ms\n",
            "152:\tlearn: 0.4938767\ttotal: 141ms\tremaining: 783ms\n",
            "153:\tlearn: 0.4935119\ttotal: 142ms\tremaining: 781ms\n",
            "154:\tlearn: 0.4930776\ttotal: 143ms\tremaining: 780ms\n",
            "155:\tlearn: 0.4927216\ttotal: 144ms\tremaining: 779ms\n",
            "156:\tlearn: 0.4922028\ttotal: 145ms\tremaining: 777ms\n",
            "157:\tlearn: 0.4918049\ttotal: 146ms\tremaining: 776ms\n",
            "158:\tlearn: 0.4913826\ttotal: 147ms\tremaining: 775ms\n",
            "159:\tlearn: 0.4909099\ttotal: 147ms\tremaining: 774ms\n",
            "160:\tlearn: 0.4907582\ttotal: 148ms\tremaining: 772ms\n",
            "161:\tlearn: 0.4904930\ttotal: 149ms\tremaining: 771ms\n",
            "162:\tlearn: 0.4899620\ttotal: 150ms\tremaining: 770ms\n",
            "163:\tlearn: 0.4894607\ttotal: 151ms\tremaining: 768ms\n",
            "164:\tlearn: 0.4890555\ttotal: 152ms\tremaining: 767ms\n",
            "165:\tlearn: 0.4886977\ttotal: 153ms\tremaining: 766ms\n",
            "166:\tlearn: 0.4883670\ttotal: 153ms\tremaining: 765ms\n",
            "167:\tlearn: 0.4879587\ttotal: 154ms\tremaining: 764ms\n",
            "168:\tlearn: 0.4874864\ttotal: 155ms\tremaining: 763ms\n",
            "169:\tlearn: 0.4871334\ttotal: 156ms\tremaining: 762ms\n",
            "170:\tlearn: 0.4868463\ttotal: 157ms\tremaining: 761ms\n",
            "171:\tlearn: 0.4864258\ttotal: 158ms\tremaining: 759ms\n",
            "172:\tlearn: 0.4860258\ttotal: 159ms\tremaining: 758ms\n",
            "173:\tlearn: 0.4856744\ttotal: 159ms\tremaining: 757ms\n",
            "174:\tlearn: 0.4854155\ttotal: 160ms\tremaining: 756ms\n",
            "175:\tlearn: 0.4851702\ttotal: 161ms\tremaining: 755ms\n",
            "176:\tlearn: 0.4847547\ttotal: 162ms\tremaining: 754ms\n",
            "177:\tlearn: 0.4844765\ttotal: 163ms\tremaining: 752ms\n",
            "178:\tlearn: 0.4839205\ttotal: 164ms\tremaining: 751ms\n",
            "179:\tlearn: 0.4835818\ttotal: 165ms\tremaining: 750ms\n",
            "180:\tlearn: 0.4834495\ttotal: 165ms\tremaining: 749ms\n",
            "181:\tlearn: 0.4831303\ttotal: 166ms\tremaining: 748ms\n",
            "182:\tlearn: 0.4827745\ttotal: 167ms\tremaining: 747ms\n",
            "183:\tlearn: 0.4824391\ttotal: 168ms\tremaining: 746ms\n",
            "184:\tlearn: 0.4824010\ttotal: 174ms\tremaining: 767ms\n",
            "185:\tlearn: 0.4819832\ttotal: 175ms\tremaining: 766ms\n",
            "186:\tlearn: 0.4816163\ttotal: 176ms\tremaining: 764ms\n",
            "187:\tlearn: 0.4813007\ttotal: 178ms\tremaining: 769ms\n",
            "188:\tlearn: 0.4810184\ttotal: 180ms\tremaining: 773ms\n",
            "189:\tlearn: 0.4806849\ttotal: 181ms\tremaining: 771ms\n",
            "190:\tlearn: 0.4803320\ttotal: 182ms\tremaining: 771ms\n",
            "191:\tlearn: 0.4802002\ttotal: 183ms\tremaining: 770ms\n",
            "192:\tlearn: 0.4801676\ttotal: 184ms\tremaining: 768ms\n",
            "193:\tlearn: 0.4798146\ttotal: 184ms\tremaining: 766ms\n",
            "194:\tlearn: 0.4795662\ttotal: 185ms\tremaining: 766ms\n",
            "195:\tlearn: 0.4792951\ttotal: 186ms\tremaining: 764ms\n",
            "196:\tlearn: 0.4788995\ttotal: 187ms\tremaining: 763ms\n",
            "197:\tlearn: 0.4786521\ttotal: 188ms\tremaining: 762ms\n",
            "198:\tlearn: 0.4783569\ttotal: 189ms\tremaining: 761ms\n",
            "199:\tlearn: 0.4782038\ttotal: 190ms\tremaining: 760ms\n",
            "200:\tlearn: 0.4780247\ttotal: 191ms\tremaining: 758ms\n",
            "201:\tlearn: 0.4775621\ttotal: 192ms\tremaining: 757ms\n",
            "202:\tlearn: 0.4773831\ttotal: 192ms\tremaining: 756ms\n",
            "203:\tlearn: 0.4772652\ttotal: 193ms\tremaining: 754ms\n",
            "204:\tlearn: 0.4768984\ttotal: 194ms\tremaining: 752ms\n",
            "205:\tlearn: 0.4766167\ttotal: 195ms\tremaining: 751ms\n",
            "206:\tlearn: 0.4765293\ttotal: 196ms\tremaining: 749ms\n",
            "207:\tlearn: 0.4762529\ttotal: 196ms\tremaining: 748ms\n",
            "208:\tlearn: 0.4760254\ttotal: 197ms\tremaining: 747ms\n",
            "209:\tlearn: 0.4757746\ttotal: 198ms\tremaining: 746ms\n",
            "210:\tlearn: 0.4753484\ttotal: 199ms\tremaining: 745ms\n",
            "211:\tlearn: 0.4751024\ttotal: 200ms\tremaining: 743ms\n",
            "212:\tlearn: 0.4748336\ttotal: 201ms\tremaining: 742ms\n",
            "213:\tlearn: 0.4746419\ttotal: 202ms\tremaining: 741ms\n",
            "214:\tlearn: 0.4743692\ttotal: 203ms\tremaining: 740ms\n",
            "215:\tlearn: 0.4742462\ttotal: 203ms\tremaining: 738ms\n",
            "216:\tlearn: 0.4740401\ttotal: 204ms\tremaining: 737ms\n",
            "217:\tlearn: 0.4736726\ttotal: 205ms\tremaining: 735ms\n",
            "218:\tlearn: 0.4735318\ttotal: 206ms\tremaining: 734ms\n",
            "219:\tlearn: 0.4733383\ttotal: 207ms\tremaining: 733ms\n",
            "220:\tlearn: 0.4731268\ttotal: 208ms\tremaining: 732ms\n",
            "221:\tlearn: 0.4727589\ttotal: 208ms\tremaining: 730ms\n",
            "222:\tlearn: 0.4726157\ttotal: 209ms\tremaining: 729ms\n",
            "223:\tlearn: 0.4723375\ttotal: 210ms\tremaining: 728ms\n",
            "224:\tlearn: 0.4720001\ttotal: 211ms\tremaining: 727ms\n",
            "225:\tlearn: 0.4717023\ttotal: 212ms\tremaining: 726ms\n",
            "226:\tlearn: 0.4716352\ttotal: 213ms\tremaining: 724ms\n",
            "227:\tlearn: 0.4712146\ttotal: 213ms\tremaining: 723ms\n",
            "228:\tlearn: 0.4709134\ttotal: 214ms\tremaining: 722ms\n",
            "229:\tlearn: 0.4705235\ttotal: 215ms\tremaining: 720ms\n",
            "230:\tlearn: 0.4701772\ttotal: 216ms\tremaining: 719ms\n",
            "231:\tlearn: 0.4699365\ttotal: 217ms\tremaining: 718ms\n",
            "232:\tlearn: 0.4696738\ttotal: 218ms\tremaining: 717ms\n",
            "233:\tlearn: 0.4695021\ttotal: 219ms\tremaining: 716ms\n",
            "234:\tlearn: 0.4692148\ttotal: 219ms\tremaining: 714ms\n",
            "235:\tlearn: 0.4690075\ttotal: 220ms\tremaining: 713ms\n",
            "236:\tlearn: 0.4688086\ttotal: 221ms\tremaining: 712ms\n",
            "237:\tlearn: 0.4687618\ttotal: 222ms\tremaining: 711ms\n",
            "238:\tlearn: 0.4685255\ttotal: 223ms\tremaining: 709ms\n",
            "239:\tlearn: 0.4683308\ttotal: 224ms\tremaining: 708ms\n",
            "240:\tlearn: 0.4680448\ttotal: 224ms\tremaining: 707ms\n",
            "241:\tlearn: 0.4679336\ttotal: 225ms\tremaining: 706ms\n",
            "242:\tlearn: 0.4677627\ttotal: 226ms\tremaining: 705ms\n",
            "243:\tlearn: 0.4675134\ttotal: 227ms\tremaining: 704ms\n",
            "244:\tlearn: 0.4671836\ttotal: 228ms\tremaining: 703ms\n",
            "245:\tlearn: 0.4669588\ttotal: 229ms\tremaining: 702ms\n",
            "246:\tlearn: 0.4666594\ttotal: 230ms\tremaining: 701ms\n",
            "247:\tlearn: 0.4664456\ttotal: 231ms\tremaining: 701ms\n",
            "248:\tlearn: 0.4662505\ttotal: 232ms\tremaining: 700ms\n",
            "249:\tlearn: 0.4660990\ttotal: 233ms\tremaining: 699ms\n",
            "250:\tlearn: 0.4657644\ttotal: 234ms\tremaining: 698ms\n",
            "251:\tlearn: 0.4654885\ttotal: 235ms\tremaining: 697ms\n",
            "252:\tlearn: 0.4652379\ttotal: 236ms\tremaining: 697ms\n",
            "253:\tlearn: 0.4652033\ttotal: 237ms\tremaining: 695ms\n",
            "254:\tlearn: 0.4648773\ttotal: 238ms\tremaining: 694ms\n",
            "255:\tlearn: 0.4646179\ttotal: 238ms\tremaining: 693ms\n",
            "256:\tlearn: 0.4643079\ttotal: 240ms\tremaining: 692ms\n",
            "257:\tlearn: 0.4639877\ttotal: 240ms\tremaining: 691ms\n",
            "258:\tlearn: 0.4637834\ttotal: 241ms\tremaining: 690ms\n",
            "259:\tlearn: 0.4634925\ttotal: 242ms\tremaining: 689ms\n",
            "260:\tlearn: 0.4632371\ttotal: 243ms\tremaining: 688ms\n",
            "261:\tlearn: 0.4629501\ttotal: 244ms\tremaining: 687ms\n",
            "262:\tlearn: 0.4627506\ttotal: 245ms\tremaining: 686ms\n",
            "263:\tlearn: 0.4625825\ttotal: 246ms\tremaining: 685ms\n",
            "264:\tlearn: 0.4624035\ttotal: 247ms\tremaining: 684ms\n",
            "265:\tlearn: 0.4620138\ttotal: 248ms\tremaining: 683ms\n",
            "266:\tlearn: 0.4617735\ttotal: 248ms\tremaining: 682ms\n",
            "267:\tlearn: 0.4614909\ttotal: 249ms\tremaining: 681ms\n",
            "268:\tlearn: 0.4613426\ttotal: 250ms\tremaining: 680ms\n",
            "269:\tlearn: 0.4611291\ttotal: 251ms\tremaining: 679ms\n",
            "270:\tlearn: 0.4608334\ttotal: 252ms\tremaining: 678ms\n",
            "271:\tlearn: 0.4605794\ttotal: 253ms\tremaining: 677ms\n",
            "272:\tlearn: 0.4604081\ttotal: 254ms\tremaining: 676ms\n",
            "273:\tlearn: 0.4601057\ttotal: 255ms\tremaining: 674ms\n",
            "274:\tlearn: 0.4599394\ttotal: 255ms\tremaining: 673ms\n",
            "275:\tlearn: 0.4597490\ttotal: 256ms\tremaining: 672ms\n",
            "276:\tlearn: 0.4595210\ttotal: 257ms\tremaining: 671ms\n",
            "277:\tlearn: 0.4592103\ttotal: 258ms\tremaining: 670ms\n",
            "278:\tlearn: 0.4589209\ttotal: 259ms\tremaining: 669ms\n",
            "279:\tlearn: 0.4585682\ttotal: 260ms\tremaining: 668ms\n",
            "280:\tlearn: 0.4582964\ttotal: 261ms\tremaining: 667ms\n",
            "281:\tlearn: 0.4580782\ttotal: 261ms\tremaining: 666ms\n",
            "282:\tlearn: 0.4578270\ttotal: 262ms\tremaining: 665ms\n",
            "283:\tlearn: 0.4576685\ttotal: 263ms\tremaining: 664ms\n",
            "284:\tlearn: 0.4574013\ttotal: 264ms\tremaining: 662ms\n",
            "285:\tlearn: 0.4572261\ttotal: 265ms\tremaining: 661ms\n",
            "286:\tlearn: 0.4570644\ttotal: 266ms\tremaining: 660ms\n",
            "287:\tlearn: 0.4569640\ttotal: 267ms\tremaining: 659ms\n",
            "288:\tlearn: 0.4568182\ttotal: 268ms\tremaining: 659ms\n",
            "289:\tlearn: 0.4566962\ttotal: 268ms\tremaining: 657ms\n",
            "290:\tlearn: 0.4565003\ttotal: 269ms\tremaining: 656ms\n",
            "291:\tlearn: 0.4562605\ttotal: 270ms\tremaining: 655ms\n",
            "292:\tlearn: 0.4560873\ttotal: 271ms\tremaining: 654ms\n",
            "293:\tlearn: 0.4560606\ttotal: 272ms\tremaining: 653ms\n",
            "294:\tlearn: 0.4559230\ttotal: 273ms\tremaining: 652ms\n",
            "295:\tlearn: 0.4558053\ttotal: 274ms\tremaining: 651ms\n",
            "296:\tlearn: 0.4557443\ttotal: 274ms\tremaining: 649ms\n",
            "297:\tlearn: 0.4554065\ttotal: 275ms\tremaining: 648ms\n",
            "298:\tlearn: 0.4553693\ttotal: 276ms\tremaining: 647ms\n",
            "299:\tlearn: 0.4552038\ttotal: 277ms\tremaining: 646ms\n",
            "300:\tlearn: 0.4548526\ttotal: 278ms\tremaining: 645ms\n",
            "301:\tlearn: 0.4546530\ttotal: 279ms\tremaining: 644ms\n",
            "302:\tlearn: 0.4544641\ttotal: 279ms\tremaining: 643ms\n",
            "303:\tlearn: 0.4542419\ttotal: 280ms\tremaining: 642ms\n",
            "304:\tlearn: 0.4540814\ttotal: 281ms\tremaining: 641ms\n",
            "305:\tlearn: 0.4539050\ttotal: 282ms\tremaining: 640ms\n",
            "306:\tlearn: 0.4536625\ttotal: 283ms\tremaining: 639ms\n",
            "307:\tlearn: 0.4533896\ttotal: 284ms\tremaining: 638ms\n",
            "308:\tlearn: 0.4532278\ttotal: 285ms\tremaining: 637ms\n",
            "309:\tlearn: 0.4529922\ttotal: 286ms\tremaining: 636ms\n",
            "310:\tlearn: 0.4528920\ttotal: 286ms\tremaining: 635ms\n",
            "311:\tlearn: 0.4528515\ttotal: 287ms\tremaining: 633ms\n",
            "312:\tlearn: 0.4526071\ttotal: 288ms\tremaining: 632ms\n",
            "313:\tlearn: 0.4524302\ttotal: 289ms\tremaining: 631ms\n",
            "314:\tlearn: 0.4522712\ttotal: 290ms\tremaining: 631ms\n",
            "315:\tlearn: 0.4520485\ttotal: 291ms\tremaining: 629ms\n",
            "316:\tlearn: 0.4519457\ttotal: 292ms\tremaining: 629ms\n",
            "317:\tlearn: 0.4517121\ttotal: 293ms\tremaining: 628ms\n",
            "318:\tlearn: 0.4515251\ttotal: 293ms\tremaining: 626ms\n",
            "319:\tlearn: 0.4512652\ttotal: 294ms\tremaining: 625ms\n",
            "320:\tlearn: 0.4511652\ttotal: 295ms\tremaining: 624ms\n",
            "321:\tlearn: 0.4510585\ttotal: 296ms\tremaining: 623ms\n",
            "322:\tlearn: 0.4509112\ttotal: 297ms\tremaining: 622ms\n",
            "323:\tlearn: 0.4507398\ttotal: 298ms\tremaining: 621ms\n",
            "324:\tlearn: 0.4506307\ttotal: 299ms\tremaining: 620ms\n",
            "325:\tlearn: 0.4505219\ttotal: 299ms\tremaining: 619ms\n",
            "326:\tlearn: 0.4504055\ttotal: 300ms\tremaining: 618ms\n",
            "327:\tlearn: 0.4501922\ttotal: 301ms\tremaining: 617ms\n",
            "328:\tlearn: 0.4500170\ttotal: 302ms\tremaining: 616ms\n",
            "329:\tlearn: 0.4498219\ttotal: 303ms\tremaining: 615ms\n",
            "330:\tlearn: 0.4496617\ttotal: 304ms\tremaining: 614ms\n",
            "331:\tlearn: 0.4494157\ttotal: 305ms\tremaining: 613ms\n",
            "332:\tlearn: 0.4492430\ttotal: 306ms\tremaining: 612ms\n",
            "333:\tlearn: 0.4490818\ttotal: 307ms\tremaining: 611ms\n",
            "334:\tlearn: 0.4489665\ttotal: 307ms\tremaining: 610ms\n",
            "335:\tlearn: 0.4488340\ttotal: 308ms\tremaining: 609ms\n",
            "336:\tlearn: 0.4486183\ttotal: 309ms\tremaining: 608ms\n",
            "337:\tlearn: 0.4484401\ttotal: 310ms\tremaining: 607ms\n",
            "338:\tlearn: 0.4482707\ttotal: 311ms\tremaining: 606ms\n",
            "339:\tlearn: 0.4482509\ttotal: 312ms\tremaining: 605ms\n",
            "340:\tlearn: 0.4481956\ttotal: 312ms\tremaining: 604ms\n",
            "341:\tlearn: 0.4480541\ttotal: 313ms\tremaining: 603ms\n",
            "342:\tlearn: 0.4479289\ttotal: 314ms\tremaining: 602ms\n",
            "343:\tlearn: 0.4477672\ttotal: 315ms\tremaining: 601ms\n",
            "344:\tlearn: 0.4477358\ttotal: 316ms\tremaining: 599ms\n",
            "345:\tlearn: 0.4476298\ttotal: 317ms\tremaining: 598ms\n",
            "346:\tlearn: 0.4474870\ttotal: 318ms\tremaining: 598ms\n",
            "347:\tlearn: 0.4473735\ttotal: 318ms\tremaining: 597ms\n",
            "348:\tlearn: 0.4472797\ttotal: 319ms\tremaining: 596ms\n",
            "349:\tlearn: 0.4470821\ttotal: 320ms\tremaining: 595ms\n",
            "350:\tlearn: 0.4469623\ttotal: 321ms\tremaining: 594ms\n",
            "351:\tlearn: 0.4467577\ttotal: 322ms\tremaining: 593ms\n",
            "352:\tlearn: 0.4465331\ttotal: 323ms\tremaining: 592ms\n",
            "353:\tlearn: 0.4463767\ttotal: 324ms\tremaining: 591ms\n",
            "354:\tlearn: 0.4462700\ttotal: 324ms\tremaining: 589ms\n",
            "355:\tlearn: 0.4460977\ttotal: 325ms\tremaining: 588ms\n",
            "356:\tlearn: 0.4459932\ttotal: 326ms\tremaining: 587ms\n",
            "357:\tlearn: 0.4457932\ttotal: 327ms\tremaining: 586ms\n",
            "358:\tlearn: 0.4455967\ttotal: 328ms\tremaining: 585ms\n",
            "359:\tlearn: 0.4453867\ttotal: 329ms\tremaining: 584ms\n",
            "360:\tlearn: 0.4452617\ttotal: 330ms\tremaining: 583ms\n",
            "361:\tlearn: 0.4451180\ttotal: 330ms\tremaining: 582ms\n",
            "362:\tlearn: 0.4448472\ttotal: 331ms\tremaining: 581ms\n",
            "363:\tlearn: 0.4447353\ttotal: 332ms\tremaining: 581ms\n",
            "364:\tlearn: 0.4445132\ttotal: 333ms\tremaining: 580ms\n",
            "365:\tlearn: 0.4443714\ttotal: 334ms\tremaining: 579ms\n",
            "366:\tlearn: 0.4442228\ttotal: 335ms\tremaining: 578ms\n",
            "367:\tlearn: 0.4440811\ttotal: 336ms\tremaining: 577ms\n",
            "368:\tlearn: 0.4439064\ttotal: 337ms\tremaining: 576ms\n",
            "369:\tlearn: 0.4437063\ttotal: 338ms\tremaining: 575ms\n",
            "370:\tlearn: 0.4436728\ttotal: 338ms\tremaining: 574ms\n",
            "371:\tlearn: 0.4434592\ttotal: 339ms\tremaining: 573ms\n",
            "372:\tlearn: 0.4433234\ttotal: 340ms\tremaining: 572ms\n",
            "373:\tlearn: 0.4430759\ttotal: 341ms\tremaining: 571ms\n",
            "374:\tlearn: 0.4429157\ttotal: 342ms\tremaining: 570ms\n",
            "375:\tlearn: 0.4427016\ttotal: 343ms\tremaining: 569ms\n",
            "376:\tlearn: 0.4426101\ttotal: 344ms\tremaining: 568ms\n",
            "377:\tlearn: 0.4424269\ttotal: 344ms\tremaining: 567ms\n",
            "378:\tlearn: 0.4421857\ttotal: 345ms\tremaining: 566ms\n",
            "379:\tlearn: 0.4420905\ttotal: 353ms\tremaining: 576ms\n",
            "380:\tlearn: 0.4419202\ttotal: 353ms\tremaining: 574ms\n",
            "381:\tlearn: 0.4417120\ttotal: 355ms\tremaining: 574ms\n",
            "382:\tlearn: 0.4415016\ttotal: 355ms\tremaining: 573ms\n",
            "383:\tlearn: 0.4413958\ttotal: 356ms\tremaining: 572ms\n",
            "384:\tlearn: 0.4412664\ttotal: 357ms\tremaining: 570ms\n",
            "385:\tlearn: 0.4411400\ttotal: 358ms\tremaining: 569ms\n",
            "386:\tlearn: 0.4409828\ttotal: 359ms\tremaining: 568ms\n",
            "387:\tlearn: 0.4408334\ttotal: 359ms\tremaining: 567ms\n",
            "388:\tlearn: 0.4406523\ttotal: 360ms\tremaining: 565ms\n",
            "389:\tlearn: 0.4406085\ttotal: 361ms\tremaining: 564ms\n",
            "390:\tlearn: 0.4404791\ttotal: 361ms\tremaining: 563ms\n",
            "391:\tlearn: 0.4403291\ttotal: 362ms\tremaining: 562ms\n",
            "392:\tlearn: 0.4402537\ttotal: 363ms\tremaining: 561ms\n",
            "393:\tlearn: 0.4400738\ttotal: 364ms\tremaining: 560ms\n",
            "394:\tlearn: 0.4398871\ttotal: 365ms\tremaining: 559ms\n",
            "395:\tlearn: 0.4397867\ttotal: 366ms\tremaining: 558ms\n",
            "396:\tlearn: 0.4397862\ttotal: 366ms\tremaining: 557ms\n",
            "397:\tlearn: 0.4396912\ttotal: 367ms\tremaining: 556ms\n",
            "398:\tlearn: 0.4394592\ttotal: 368ms\tremaining: 555ms\n",
            "399:\tlearn: 0.4392831\ttotal: 369ms\tremaining: 553ms\n",
            "400:\tlearn: 0.4390941\ttotal: 370ms\tremaining: 553ms\n",
            "401:\tlearn: 0.4389138\ttotal: 371ms\tremaining: 552ms\n",
            "402:\tlearn: 0.4388683\ttotal: 372ms\tremaining: 550ms\n",
            "403:\tlearn: 0.4387545\ttotal: 372ms\tremaining: 549ms\n",
            "404:\tlearn: 0.4386240\ttotal: 373ms\tremaining: 548ms\n",
            "405:\tlearn: 0.4384950\ttotal: 374ms\tremaining: 547ms\n",
            "406:\tlearn: 0.4383947\ttotal: 375ms\tremaining: 546ms\n",
            "407:\tlearn: 0.4382757\ttotal: 376ms\tremaining: 545ms\n",
            "408:\tlearn: 0.4380813\ttotal: 377ms\tremaining: 544ms\n",
            "409:\tlearn: 0.4379598\ttotal: 378ms\tremaining: 543ms\n",
            "410:\tlearn: 0.4378339\ttotal: 378ms\tremaining: 542ms\n",
            "411:\tlearn: 0.4376767\ttotal: 379ms\tremaining: 541ms\n",
            "412:\tlearn: 0.4375665\ttotal: 380ms\tremaining: 540ms\n",
            "413:\tlearn: 0.4374357\ttotal: 381ms\tremaining: 539ms\n",
            "414:\tlearn: 0.4372485\ttotal: 382ms\tremaining: 538ms\n",
            "415:\tlearn: 0.4372481\ttotal: 383ms\tremaining: 537ms\n",
            "416:\tlearn: 0.4371592\ttotal: 383ms\tremaining: 536ms\n",
            "417:\tlearn: 0.4369866\ttotal: 384ms\tremaining: 535ms\n",
            "418:\tlearn: 0.4368202\ttotal: 385ms\tremaining: 534ms\n",
            "419:\tlearn: 0.4365928\ttotal: 386ms\tremaining: 533ms\n",
            "420:\tlearn: 0.4365605\ttotal: 387ms\tremaining: 532ms\n",
            "421:\tlearn: 0.4364676\ttotal: 388ms\tremaining: 531ms\n",
            "422:\tlearn: 0.4364044\ttotal: 388ms\tremaining: 530ms\n",
            "423:\tlearn: 0.4362337\ttotal: 389ms\tremaining: 529ms\n",
            "424:\tlearn: 0.4361026\ttotal: 390ms\tremaining: 528ms\n",
            "425:\tlearn: 0.4360076\ttotal: 391ms\tremaining: 527ms\n",
            "426:\tlearn: 0.4358021\ttotal: 392ms\tremaining: 526ms\n",
            "427:\tlearn: 0.4357214\ttotal: 393ms\tremaining: 525ms\n",
            "428:\tlearn: 0.4357179\ttotal: 393ms\tremaining: 524ms\n",
            "429:\tlearn: 0.4354834\ttotal: 394ms\tremaining: 523ms\n",
            "430:\tlearn: 0.4354266\ttotal: 395ms\tremaining: 522ms\n",
            "431:\tlearn: 0.4352888\ttotal: 396ms\tremaining: 521ms\n",
            "432:\tlearn: 0.4351616\ttotal: 397ms\tremaining: 520ms\n",
            "433:\tlearn: 0.4350388\ttotal: 398ms\tremaining: 519ms\n",
            "434:\tlearn: 0.4349652\ttotal: 399ms\tremaining: 518ms\n",
            "435:\tlearn: 0.4347279\ttotal: 400ms\tremaining: 517ms\n",
            "436:\tlearn: 0.4346155\ttotal: 401ms\tremaining: 516ms\n",
            "437:\tlearn: 0.4346151\ttotal: 401ms\tremaining: 515ms\n",
            "438:\tlearn: 0.4344595\ttotal: 402ms\tremaining: 514ms\n",
            "439:\tlearn: 0.4343441\ttotal: 403ms\tremaining: 513ms\n",
            "440:\tlearn: 0.4342141\ttotal: 404ms\tremaining: 512ms\n",
            "441:\tlearn: 0.4341069\ttotal: 405ms\tremaining: 511ms\n",
            "442:\tlearn: 0.4338976\ttotal: 406ms\tremaining: 510ms\n",
            "443:\tlearn: 0.4336908\ttotal: 407ms\tremaining: 509ms\n",
            "444:\tlearn: 0.4335646\ttotal: 408ms\tremaining: 508ms\n",
            "445:\tlearn: 0.4333910\ttotal: 409ms\tremaining: 507ms\n",
            "446:\tlearn: 0.4332882\ttotal: 409ms\tremaining: 507ms\n",
            "447:\tlearn: 0.4331135\ttotal: 410ms\tremaining: 506ms\n",
            "448:\tlearn: 0.4329893\ttotal: 411ms\tremaining: 505ms\n",
            "449:\tlearn: 0.4329044\ttotal: 412ms\tremaining: 504ms\n",
            "450:\tlearn: 0.4327562\ttotal: 413ms\tremaining: 503ms\n",
            "451:\tlearn: 0.4326479\ttotal: 414ms\tremaining: 502ms\n",
            "452:\tlearn: 0.4326008\ttotal: 415ms\tremaining: 501ms\n",
            "453:\tlearn: 0.4324333\ttotal: 416ms\tremaining: 500ms\n",
            "454:\tlearn: 0.4323157\ttotal: 416ms\tremaining: 499ms\n",
            "455:\tlearn: 0.4322187\ttotal: 417ms\tremaining: 498ms\n",
            "456:\tlearn: 0.4320884\ttotal: 418ms\tremaining: 497ms\n",
            "457:\tlearn: 0.4320355\ttotal: 419ms\tremaining: 496ms\n",
            "458:\tlearn: 0.4317349\ttotal: 420ms\tremaining: 495ms\n",
            "459:\tlearn: 0.4315758\ttotal: 421ms\tremaining: 494ms\n",
            "460:\tlearn: 0.4314053\ttotal: 422ms\tremaining: 493ms\n",
            "461:\tlearn: 0.4312368\ttotal: 423ms\tremaining: 492ms\n",
            "462:\tlearn: 0.4311667\ttotal: 424ms\tremaining: 491ms\n",
            "463:\tlearn: 0.4309663\ttotal: 424ms\tremaining: 490ms\n",
            "464:\tlearn: 0.4308105\ttotal: 425ms\tremaining: 489ms\n",
            "465:\tlearn: 0.4306468\ttotal: 426ms\tremaining: 488ms\n",
            "466:\tlearn: 0.4304629\ttotal: 427ms\tremaining: 487ms\n",
            "467:\tlearn: 0.4303946\ttotal: 428ms\tremaining: 486ms\n",
            "468:\tlearn: 0.4302939\ttotal: 429ms\tremaining: 485ms\n",
            "469:\tlearn: 0.4300866\ttotal: 430ms\tremaining: 485ms\n",
            "470:\tlearn: 0.4300258\ttotal: 430ms\tremaining: 484ms\n",
            "471:\tlearn: 0.4298613\ttotal: 431ms\tremaining: 483ms\n",
            "472:\tlearn: 0.4297262\ttotal: 432ms\tremaining: 482ms\n",
            "473:\tlearn: 0.4295827\ttotal: 433ms\tremaining: 481ms\n",
            "474:\tlearn: 0.4294721\ttotal: 434ms\tremaining: 480ms\n",
            "475:\tlearn: 0.4293334\ttotal: 435ms\tremaining: 479ms\n",
            "476:\tlearn: 0.4291174\ttotal: 436ms\tremaining: 478ms\n",
            "477:\tlearn: 0.4289862\ttotal: 437ms\tremaining: 477ms\n",
            "478:\tlearn: 0.4288257\ttotal: 437ms\tremaining: 476ms\n",
            "479:\tlearn: 0.4287490\ttotal: 438ms\tremaining: 475ms\n",
            "480:\tlearn: 0.4286083\ttotal: 439ms\tremaining: 474ms\n",
            "481:\tlearn: 0.4284703\ttotal: 440ms\tremaining: 473ms\n",
            "482:\tlearn: 0.4283099\ttotal: 441ms\tremaining: 472ms\n",
            "483:\tlearn: 0.4282274\ttotal: 442ms\tremaining: 471ms\n",
            "484:\tlearn: 0.4279823\ttotal: 443ms\tremaining: 470ms\n",
            "485:\tlearn: 0.4278523\ttotal: 444ms\tremaining: 469ms\n",
            "486:\tlearn: 0.4278035\ttotal: 445ms\tremaining: 468ms\n",
            "487:\tlearn: 0.4276689\ttotal: 445ms\tremaining: 467ms\n",
            "488:\tlearn: 0.4275208\ttotal: 446ms\tremaining: 466ms\n",
            "489:\tlearn: 0.4274382\ttotal: 447ms\tremaining: 465ms\n",
            "490:\tlearn: 0.4272729\ttotal: 448ms\tremaining: 465ms\n",
            "491:\tlearn: 0.4270960\ttotal: 449ms\tremaining: 464ms\n",
            "492:\tlearn: 0.4270220\ttotal: 450ms\tremaining: 463ms\n",
            "493:\tlearn: 0.4269137\ttotal: 451ms\tremaining: 462ms\n",
            "494:\tlearn: 0.4268784\ttotal: 452ms\tremaining: 461ms\n",
            "495:\tlearn: 0.4267515\ttotal: 453ms\tremaining: 460ms\n",
            "496:\tlearn: 0.4266152\ttotal: 453ms\tremaining: 459ms\n",
            "497:\tlearn: 0.4264942\ttotal: 454ms\tremaining: 458ms\n",
            "498:\tlearn: 0.4263709\ttotal: 455ms\tremaining: 457ms\n",
            "499:\tlearn: 0.4263150\ttotal: 456ms\tremaining: 456ms\n",
            "500:\tlearn: 0.4262581\ttotal: 457ms\tremaining: 455ms\n",
            "501:\tlearn: 0.4261901\ttotal: 458ms\tremaining: 454ms\n",
            "502:\tlearn: 0.4260346\ttotal: 458ms\tremaining: 453ms\n",
            "503:\tlearn: 0.4259207\ttotal: 459ms\tremaining: 452ms\n",
            "504:\tlearn: 0.4257949\ttotal: 460ms\tremaining: 451ms\n",
            "505:\tlearn: 0.4256922\ttotal: 461ms\tremaining: 450ms\n",
            "506:\tlearn: 0.4255944\ttotal: 462ms\tremaining: 449ms\n",
            "507:\tlearn: 0.4253954\ttotal: 463ms\tremaining: 448ms\n",
            "508:\tlearn: 0.4251144\ttotal: 464ms\tremaining: 447ms\n",
            "509:\tlearn: 0.4250047\ttotal: 465ms\tremaining: 446ms\n",
            "510:\tlearn: 0.4248453\ttotal: 465ms\tremaining: 445ms\n",
            "511:\tlearn: 0.4247290\ttotal: 466ms\tremaining: 444ms\n",
            "512:\tlearn: 0.4246278\ttotal: 468ms\tremaining: 444ms\n",
            "513:\tlearn: 0.4245339\ttotal: 469ms\tremaining: 443ms\n",
            "514:\tlearn: 0.4243950\ttotal: 469ms\tremaining: 442ms\n",
            "515:\tlearn: 0.4242654\ttotal: 470ms\tremaining: 441ms\n",
            "516:\tlearn: 0.4240629\ttotal: 471ms\tremaining: 440ms\n",
            "517:\tlearn: 0.4239798\ttotal: 472ms\tremaining: 439ms\n",
            "518:\tlearn: 0.4238698\ttotal: 473ms\tremaining: 438ms\n",
            "519:\tlearn: 0.4236653\ttotal: 474ms\tremaining: 437ms\n",
            "520:\tlearn: 0.4236087\ttotal: 475ms\tremaining: 436ms\n",
            "521:\tlearn: 0.4235086\ttotal: 476ms\tremaining: 436ms\n",
            "522:\tlearn: 0.4233435\ttotal: 476ms\tremaining: 435ms\n",
            "523:\tlearn: 0.4231618\ttotal: 477ms\tremaining: 434ms\n",
            "524:\tlearn: 0.4230777\ttotal: 478ms\tremaining: 433ms\n",
            "525:\tlearn: 0.4228510\ttotal: 479ms\tremaining: 432ms\n",
            "526:\tlearn: 0.4227091\ttotal: 480ms\tremaining: 431ms\n",
            "527:\tlearn: 0.4225897\ttotal: 481ms\tremaining: 430ms\n",
            "528:\tlearn: 0.4224642\ttotal: 487ms\tremaining: 434ms\n",
            "529:\tlearn: 0.4223520\ttotal: 494ms\tremaining: 438ms\n",
            "530:\tlearn: 0.4221890\ttotal: 495ms\tremaining: 437ms\n",
            "531:\tlearn: 0.4220523\ttotal: 496ms\tremaining: 436ms\n",
            "532:\tlearn: 0.4219482\ttotal: 497ms\tremaining: 436ms\n",
            "533:\tlearn: 0.4218944\ttotal: 498ms\tremaining: 435ms\n",
            "534:\tlearn: 0.4217653\ttotal: 499ms\tremaining: 434ms\n",
            "535:\tlearn: 0.4216750\ttotal: 500ms\tremaining: 433ms\n",
            "536:\tlearn: 0.4215496\ttotal: 501ms\tremaining: 432ms\n",
            "537:\tlearn: 0.4214572\ttotal: 501ms\tremaining: 431ms\n",
            "538:\tlearn: 0.4213481\ttotal: 502ms\tremaining: 430ms\n",
            "539:\tlearn: 0.4212109\ttotal: 503ms\tremaining: 429ms\n",
            "540:\tlearn: 0.4210169\ttotal: 504ms\tremaining: 428ms\n",
            "541:\tlearn: 0.4207289\ttotal: 505ms\tremaining: 427ms\n",
            "542:\tlearn: 0.4206418\ttotal: 506ms\tremaining: 426ms\n",
            "543:\tlearn: 0.4205476\ttotal: 507ms\tremaining: 425ms\n",
            "544:\tlearn: 0.4204504\ttotal: 507ms\tremaining: 424ms\n",
            "545:\tlearn: 0.4203224\ttotal: 508ms\tremaining: 423ms\n",
            "546:\tlearn: 0.4201993\ttotal: 509ms\tremaining: 422ms\n",
            "547:\tlearn: 0.4201960\ttotal: 510ms\tremaining: 421ms\n",
            "548:\tlearn: 0.4201092\ttotal: 511ms\tremaining: 420ms\n",
            "549:\tlearn: 0.4199404\ttotal: 512ms\tremaining: 419ms\n",
            "550:\tlearn: 0.4199285\ttotal: 512ms\tremaining: 417ms\n",
            "551:\tlearn: 0.4198417\ttotal: 513ms\tremaining: 417ms\n",
            "552:\tlearn: 0.4197148\ttotal: 514ms\tremaining: 416ms\n",
            "553:\tlearn: 0.4195607\ttotal: 515ms\tremaining: 415ms\n",
            "554:\tlearn: 0.4194572\ttotal: 516ms\tremaining: 414ms\n",
            "555:\tlearn: 0.4193428\ttotal: 517ms\tremaining: 413ms\n",
            "556:\tlearn: 0.4192604\ttotal: 518ms\tremaining: 412ms\n",
            "557:\tlearn: 0.4191443\ttotal: 518ms\tremaining: 411ms\n",
            "558:\tlearn: 0.4190383\ttotal: 519ms\tremaining: 410ms\n",
            "559:\tlearn: 0.4188526\ttotal: 520ms\tremaining: 409ms\n",
            "560:\tlearn: 0.4187163\ttotal: 521ms\tremaining: 408ms\n",
            "561:\tlearn: 0.4185439\ttotal: 522ms\tremaining: 407ms\n",
            "562:\tlearn: 0.4185124\ttotal: 524ms\tremaining: 407ms\n",
            "563:\tlearn: 0.4183958\ttotal: 525ms\tremaining: 405ms\n",
            "564:\tlearn: 0.4183311\ttotal: 525ms\tremaining: 404ms\n",
            "565:\tlearn: 0.4182199\ttotal: 526ms\tremaining: 404ms\n",
            "566:\tlearn: 0.4180669\ttotal: 527ms\tremaining: 403ms\n",
            "567:\tlearn: 0.4177934\ttotal: 528ms\tremaining: 402ms\n",
            "568:\tlearn: 0.4177695\ttotal: 529ms\tremaining: 401ms\n",
            "569:\tlearn: 0.4177561\ttotal: 530ms\tremaining: 400ms\n",
            "570:\tlearn: 0.4177105\ttotal: 531ms\tremaining: 399ms\n",
            "571:\tlearn: 0.4175395\ttotal: 532ms\tremaining: 398ms\n",
            "572:\tlearn: 0.4173689\ttotal: 532ms\tremaining: 397ms\n",
            "573:\tlearn: 0.4172546\ttotal: 533ms\tremaining: 396ms\n",
            "574:\tlearn: 0.4170892\ttotal: 534ms\tremaining: 395ms\n",
            "575:\tlearn: 0.4170232\ttotal: 535ms\tremaining: 394ms\n",
            "576:\tlearn: 0.4170026\ttotal: 535ms\tremaining: 392ms\n",
            "577:\tlearn: 0.4168967\ttotal: 536ms\tremaining: 391ms\n",
            "578:\tlearn: 0.4167831\ttotal: 537ms\tremaining: 390ms\n",
            "579:\tlearn: 0.4166930\ttotal: 537ms\tremaining: 389ms\n",
            "580:\tlearn: 0.4165813\ttotal: 538ms\tremaining: 388ms\n",
            "581:\tlearn: 0.4164946\ttotal: 539ms\tremaining: 387ms\n",
            "582:\tlearn: 0.4164484\ttotal: 540ms\tremaining: 386ms\n",
            "583:\tlearn: 0.4163215\ttotal: 541ms\tremaining: 385ms\n",
            "584:\tlearn: 0.4162650\ttotal: 542ms\tremaining: 384ms\n",
            "585:\tlearn: 0.4161379\ttotal: 543ms\tremaining: 383ms\n",
            "586:\tlearn: 0.4160296\ttotal: 544ms\tremaining: 383ms\n",
            "587:\tlearn: 0.4158918\ttotal: 545ms\tremaining: 382ms\n",
            "588:\tlearn: 0.4158064\ttotal: 546ms\tremaining: 381ms\n",
            "589:\tlearn: 0.4158021\ttotal: 546ms\tremaining: 380ms\n",
            "590:\tlearn: 0.4156922\ttotal: 547ms\tremaining: 379ms\n",
            "591:\tlearn: 0.4155847\ttotal: 548ms\tremaining: 378ms\n",
            "592:\tlearn: 0.4154631\ttotal: 549ms\tremaining: 377ms\n",
            "593:\tlearn: 0.4153364\ttotal: 550ms\tremaining: 376ms\n",
            "594:\tlearn: 0.4152699\ttotal: 551ms\tremaining: 375ms\n",
            "595:\tlearn: 0.4151244\ttotal: 552ms\tremaining: 374ms\n",
            "596:\tlearn: 0.4150506\ttotal: 553ms\tremaining: 373ms\n",
            "597:\tlearn: 0.4150040\ttotal: 554ms\tremaining: 372ms\n",
            "598:\tlearn: 0.4148732\ttotal: 554ms\tremaining: 371ms\n",
            "599:\tlearn: 0.4148085\ttotal: 555ms\tremaining: 370ms\n",
            "600:\tlearn: 0.4147126\ttotal: 556ms\tremaining: 369ms\n",
            "601:\tlearn: 0.4145669\ttotal: 557ms\tremaining: 368ms\n",
            "602:\tlearn: 0.4144770\ttotal: 558ms\tremaining: 367ms\n",
            "603:\tlearn: 0.4143034\ttotal: 559ms\tremaining: 366ms\n",
            "604:\tlearn: 0.4141777\ttotal: 560ms\tremaining: 365ms\n",
            "605:\tlearn: 0.4140384\ttotal: 561ms\tremaining: 365ms\n",
            "606:\tlearn: 0.4139925\ttotal: 564ms\tremaining: 365ms\n",
            "607:\tlearn: 0.4138025\ttotal: 565ms\tremaining: 364ms\n",
            "608:\tlearn: 0.4136783\ttotal: 566ms\tremaining: 363ms\n",
            "609:\tlearn: 0.4135638\ttotal: 567ms\tremaining: 362ms\n",
            "610:\tlearn: 0.4134645\ttotal: 568ms\tremaining: 362ms\n",
            "611:\tlearn: 0.4133142\ttotal: 569ms\tremaining: 361ms\n",
            "612:\tlearn: 0.4132349\ttotal: 570ms\tremaining: 360ms\n",
            "613:\tlearn: 0.4131553\ttotal: 571ms\tremaining: 359ms\n",
            "614:\tlearn: 0.4130532\ttotal: 572ms\tremaining: 358ms\n",
            "615:\tlearn: 0.4129571\ttotal: 573ms\tremaining: 357ms\n",
            "616:\tlearn: 0.4128153\ttotal: 574ms\tremaining: 356ms\n",
            "617:\tlearn: 0.4127211\ttotal: 575ms\tremaining: 355ms\n",
            "618:\tlearn: 0.4125601\ttotal: 576ms\tremaining: 354ms\n",
            "619:\tlearn: 0.4124400\ttotal: 577ms\tremaining: 353ms\n",
            "620:\tlearn: 0.4123042\ttotal: 578ms\tremaining: 352ms\n",
            "621:\tlearn: 0.4121003\ttotal: 578ms\tremaining: 352ms\n",
            "622:\tlearn: 0.4120212\ttotal: 579ms\tremaining: 351ms\n",
            "623:\tlearn: 0.4120078\ttotal: 580ms\tremaining: 349ms\n",
            "624:\tlearn: 0.4118583\ttotal: 581ms\tremaining: 348ms\n",
            "625:\tlearn: 0.4117519\ttotal: 582ms\tremaining: 347ms\n",
            "626:\tlearn: 0.4116396\ttotal: 583ms\tremaining: 347ms\n",
            "627:\tlearn: 0.4115051\ttotal: 583ms\tremaining: 346ms\n",
            "628:\tlearn: 0.4113797\ttotal: 584ms\tremaining: 345ms\n",
            "629:\tlearn: 0.4112474\ttotal: 585ms\tremaining: 344ms\n",
            "630:\tlearn: 0.4110950\ttotal: 586ms\tremaining: 343ms\n",
            "631:\tlearn: 0.4108945\ttotal: 587ms\tremaining: 342ms\n",
            "632:\tlearn: 0.4108140\ttotal: 588ms\tremaining: 341ms\n",
            "633:\tlearn: 0.4106771\ttotal: 589ms\tremaining: 340ms\n",
            "634:\tlearn: 0.4105529\ttotal: 590ms\tremaining: 339ms\n",
            "635:\tlearn: 0.4104901\ttotal: 591ms\tremaining: 338ms\n",
            "636:\tlearn: 0.4103973\ttotal: 592ms\tremaining: 338ms\n",
            "637:\tlearn: 0.4103486\ttotal: 593ms\tremaining: 337ms\n",
            "638:\tlearn: 0.4102720\ttotal: 594ms\tremaining: 336ms\n",
            "639:\tlearn: 0.4101866\ttotal: 595ms\tremaining: 335ms\n",
            "640:\tlearn: 0.4101023\ttotal: 596ms\tremaining: 334ms\n",
            "641:\tlearn: 0.4100399\ttotal: 597ms\tremaining: 333ms\n",
            "642:\tlearn: 0.4098523\ttotal: 598ms\tremaining: 332ms\n",
            "643:\tlearn: 0.4097329\ttotal: 598ms\tremaining: 331ms\n",
            "644:\tlearn: 0.4095990\ttotal: 599ms\tremaining: 330ms\n",
            "645:\tlearn: 0.4094392\ttotal: 600ms\tremaining: 329ms\n",
            "646:\tlearn: 0.4092563\ttotal: 601ms\tremaining: 328ms\n",
            "647:\tlearn: 0.4090934\ttotal: 602ms\tremaining: 327ms\n",
            "648:\tlearn: 0.4089709\ttotal: 603ms\tremaining: 326ms\n",
            "649:\tlearn: 0.4089002\ttotal: 604ms\tremaining: 325ms\n",
            "650:\tlearn: 0.4087188\ttotal: 604ms\tremaining: 324ms\n",
            "651:\tlearn: 0.4086189\ttotal: 605ms\tremaining: 323ms\n",
            "652:\tlearn: 0.4085063\ttotal: 606ms\tremaining: 322ms\n",
            "653:\tlearn: 0.4083486\ttotal: 607ms\tremaining: 321ms\n",
            "654:\tlearn: 0.4081849\ttotal: 608ms\tremaining: 320ms\n",
            "655:\tlearn: 0.4081290\ttotal: 609ms\tremaining: 319ms\n",
            "656:\tlearn: 0.4080151\ttotal: 610ms\tremaining: 318ms\n",
            "657:\tlearn: 0.4079093\ttotal: 611ms\tremaining: 317ms\n",
            "658:\tlearn: 0.4078283\ttotal: 612ms\tremaining: 316ms\n",
            "659:\tlearn: 0.4077015\ttotal: 612ms\tremaining: 315ms\n",
            "660:\tlearn: 0.4074679\ttotal: 613ms\tremaining: 315ms\n",
            "661:\tlearn: 0.4073027\ttotal: 614ms\tremaining: 314ms\n",
            "662:\tlearn: 0.4072170\ttotal: 615ms\tremaining: 313ms\n",
            "663:\tlearn: 0.4071371\ttotal: 616ms\tremaining: 312ms\n",
            "664:\tlearn: 0.4069081\ttotal: 617ms\tremaining: 311ms\n",
            "665:\tlearn: 0.4067740\ttotal: 618ms\tremaining: 310ms\n",
            "666:\tlearn: 0.4066705\ttotal: 619ms\tremaining: 309ms\n",
            "667:\tlearn: 0.4065691\ttotal: 620ms\tremaining: 308ms\n",
            "668:\tlearn: 0.4063738\ttotal: 620ms\tremaining: 307ms\n",
            "669:\tlearn: 0.4061585\ttotal: 621ms\tremaining: 306ms\n",
            "670:\tlearn: 0.4060441\ttotal: 622ms\tremaining: 305ms\n",
            "671:\tlearn: 0.4059936\ttotal: 623ms\tremaining: 304ms\n",
            "672:\tlearn: 0.4058730\ttotal: 624ms\tremaining: 303ms\n",
            "673:\tlearn: 0.4057394\ttotal: 625ms\tremaining: 302ms\n",
            "674:\tlearn: 0.4055996\ttotal: 626ms\tremaining: 301ms\n",
            "675:\tlearn: 0.4055120\ttotal: 627ms\tremaining: 300ms\n",
            "676:\tlearn: 0.4054106\ttotal: 628ms\tremaining: 299ms\n",
            "677:\tlearn: 0.4051902\ttotal: 629ms\tremaining: 299ms\n",
            "678:\tlearn: 0.4051199\ttotal: 630ms\tremaining: 298ms\n",
            "679:\tlearn: 0.4049530\ttotal: 630ms\tremaining: 297ms\n",
            "680:\tlearn: 0.4048180\ttotal: 631ms\tremaining: 296ms\n",
            "681:\tlearn: 0.4046028\ttotal: 632ms\tremaining: 295ms\n",
            "682:\tlearn: 0.4044708\ttotal: 633ms\tremaining: 294ms\n",
            "683:\tlearn: 0.4043355\ttotal: 634ms\tremaining: 293ms\n",
            "684:\tlearn: 0.4042219\ttotal: 635ms\tremaining: 292ms\n",
            "685:\tlearn: 0.4041445\ttotal: 636ms\tremaining: 291ms\n",
            "686:\tlearn: 0.4040331\ttotal: 637ms\tremaining: 290ms\n",
            "687:\tlearn: 0.4039970\ttotal: 637ms\tremaining: 289ms\n",
            "688:\tlearn: 0.4039320\ttotal: 638ms\tremaining: 288ms\n",
            "689:\tlearn: 0.4037377\ttotal: 639ms\tremaining: 287ms\n",
            "690:\tlearn: 0.4036126\ttotal: 640ms\tremaining: 286ms\n",
            "691:\tlearn: 0.4034535\ttotal: 641ms\tremaining: 285ms\n",
            "692:\tlearn: 0.4033009\ttotal: 642ms\tremaining: 284ms\n",
            "693:\tlearn: 0.4031797\ttotal: 643ms\tremaining: 283ms\n",
            "694:\tlearn: 0.4030876\ttotal: 644ms\tremaining: 282ms\n",
            "695:\tlearn: 0.4029941\ttotal: 644ms\tremaining: 281ms\n",
            "696:\tlearn: 0.4029438\ttotal: 645ms\tremaining: 281ms\n",
            "697:\tlearn: 0.4028437\ttotal: 646ms\tremaining: 280ms\n",
            "698:\tlearn: 0.4026882\ttotal: 647ms\tremaining: 279ms\n",
            "699:\tlearn: 0.4025922\ttotal: 648ms\tremaining: 278ms\n",
            "700:\tlearn: 0.4024260\ttotal: 649ms\tremaining: 277ms\n",
            "701:\tlearn: 0.4023482\ttotal: 650ms\tremaining: 276ms\n",
            "702:\tlearn: 0.4022574\ttotal: 651ms\tremaining: 275ms\n",
            "703:\tlearn: 0.4021334\ttotal: 651ms\tremaining: 274ms\n",
            "704:\tlearn: 0.4018969\ttotal: 652ms\tremaining: 273ms\n",
            "705:\tlearn: 0.4017177\ttotal: 653ms\tremaining: 272ms\n",
            "706:\tlearn: 0.4016517\ttotal: 654ms\tremaining: 271ms\n",
            "707:\tlearn: 0.4015622\ttotal: 655ms\tremaining: 270ms\n",
            "708:\tlearn: 0.4014370\ttotal: 656ms\tremaining: 269ms\n",
            "709:\tlearn: 0.4013317\ttotal: 657ms\tremaining: 268ms\n",
            "710:\tlearn: 0.4011379\ttotal: 658ms\tremaining: 267ms\n",
            "711:\tlearn: 0.4009483\ttotal: 659ms\tremaining: 266ms\n",
            "712:\tlearn: 0.4008583\ttotal: 660ms\tremaining: 265ms\n",
            "713:\tlearn: 0.4007468\ttotal: 660ms\tremaining: 265ms\n",
            "714:\tlearn: 0.4006160\ttotal: 661ms\tremaining: 264ms\n",
            "715:\tlearn: 0.4004377\ttotal: 662ms\tremaining: 263ms\n",
            "716:\tlearn: 0.4003362\ttotal: 663ms\tremaining: 262ms\n",
            "717:\tlearn: 0.4001602\ttotal: 664ms\tremaining: 261ms\n",
            "718:\tlearn: 0.4001066\ttotal: 665ms\tremaining: 260ms\n",
            "719:\tlearn: 0.4000495\ttotal: 666ms\tremaining: 259ms\n",
            "720:\tlearn: 0.3999036\ttotal: 666ms\tremaining: 258ms\n",
            "721:\tlearn: 0.3997888\ttotal: 667ms\tremaining: 257ms\n",
            "722:\tlearn: 0.3996348\ttotal: 668ms\tremaining: 256ms\n",
            "723:\tlearn: 0.3994849\ttotal: 669ms\tremaining: 255ms\n",
            "724:\tlearn: 0.3993308\ttotal: 670ms\tremaining: 254ms\n",
            "725:\tlearn: 0.3991953\ttotal: 671ms\tremaining: 253ms\n",
            "726:\tlearn: 0.3991394\ttotal: 672ms\tremaining: 252ms\n",
            "727:\tlearn: 0.3989712\ttotal: 673ms\tremaining: 251ms\n",
            "728:\tlearn: 0.3988951\ttotal: 673ms\tremaining: 250ms\n",
            "729:\tlearn: 0.3988204\ttotal: 674ms\tremaining: 249ms\n",
            "730:\tlearn: 0.3986778\ttotal: 675ms\tremaining: 248ms\n",
            "731:\tlearn: 0.3986152\ttotal: 676ms\tremaining: 248ms\n",
            "732:\tlearn: 0.3984697\ttotal: 677ms\tremaining: 247ms\n",
            "733:\tlearn: 0.3982966\ttotal: 678ms\tremaining: 246ms\n",
            "734:\tlearn: 0.3981846\ttotal: 679ms\tremaining: 245ms\n",
            "735:\tlearn: 0.3980363\ttotal: 679ms\tremaining: 244ms\n",
            "736:\tlearn: 0.3979780\ttotal: 680ms\tremaining: 243ms\n",
            "737:\tlearn: 0.3978773\ttotal: 681ms\tremaining: 242ms\n",
            "738:\tlearn: 0.3977356\ttotal: 682ms\tremaining: 241ms\n",
            "739:\tlearn: 0.3975813\ttotal: 683ms\tremaining: 240ms\n",
            "740:\tlearn: 0.3974326\ttotal: 684ms\tremaining: 239ms\n",
            "741:\tlearn: 0.3973545\ttotal: 685ms\tremaining: 238ms\n",
            "742:\tlearn: 0.3972297\ttotal: 686ms\tremaining: 237ms\n",
            "743:\tlearn: 0.3971276\ttotal: 686ms\tremaining: 236ms\n",
            "744:\tlearn: 0.3970115\ttotal: 687ms\tremaining: 235ms\n",
            "745:\tlearn: 0.3968143\ttotal: 688ms\tremaining: 234ms\n",
            "746:\tlearn: 0.3966287\ttotal: 689ms\tremaining: 233ms\n",
            "747:\tlearn: 0.3964121\ttotal: 690ms\tremaining: 232ms\n",
            "748:\tlearn: 0.3963544\ttotal: 691ms\tremaining: 232ms\n",
            "749:\tlearn: 0.3961873\ttotal: 692ms\tremaining: 231ms\n",
            "750:\tlearn: 0.3960428\ttotal: 692ms\tremaining: 230ms\n",
            "751:\tlearn: 0.3958666\ttotal: 693ms\tremaining: 229ms\n",
            "752:\tlearn: 0.3957466\ttotal: 694ms\tremaining: 228ms\n",
            "753:\tlearn: 0.3955592\ttotal: 695ms\tremaining: 227ms\n",
            "754:\tlearn: 0.3954866\ttotal: 696ms\tremaining: 226ms\n",
            "755:\tlearn: 0.3953436\ttotal: 697ms\tremaining: 225ms\n",
            "756:\tlearn: 0.3952343\ttotal: 698ms\tremaining: 224ms\n",
            "757:\tlearn: 0.3951821\ttotal: 699ms\tremaining: 223ms\n",
            "758:\tlearn: 0.3951073\ttotal: 700ms\tremaining: 222ms\n",
            "759:\tlearn: 0.3950711\ttotal: 701ms\tremaining: 221ms\n",
            "760:\tlearn: 0.3949161\ttotal: 701ms\tremaining: 220ms\n",
            "761:\tlearn: 0.3948650\ttotal: 703ms\tremaining: 220ms\n",
            "762:\tlearn: 0.3946836\ttotal: 704ms\tremaining: 219ms\n",
            "763:\tlearn: 0.3944401\ttotal: 705ms\tremaining: 218ms\n",
            "764:\tlearn: 0.3943365\ttotal: 706ms\tremaining: 217ms\n",
            "765:\tlearn: 0.3942321\ttotal: 707ms\tremaining: 216ms\n",
            "766:\tlearn: 0.3941531\ttotal: 708ms\tremaining: 215ms\n",
            "767:\tlearn: 0.3939270\ttotal: 709ms\tremaining: 214ms\n",
            "768:\tlearn: 0.3938358\ttotal: 710ms\tremaining: 213ms\n",
            "769:\tlearn: 0.3937433\ttotal: 715ms\tremaining: 214ms\n",
            "770:\tlearn: 0.3936269\ttotal: 716ms\tremaining: 213ms\n",
            "771:\tlearn: 0.3935215\ttotal: 717ms\tremaining: 212ms\n",
            "772:\tlearn: 0.3933917\ttotal: 718ms\tremaining: 211ms\n",
            "773:\tlearn: 0.3932561\ttotal: 719ms\tremaining: 210ms\n",
            "774:\tlearn: 0.3931179\ttotal: 720ms\tremaining: 209ms\n",
            "775:\tlearn: 0.3929838\ttotal: 721ms\tremaining: 208ms\n",
            "776:\tlearn: 0.3929091\ttotal: 721ms\tremaining: 207ms\n",
            "777:\tlearn: 0.3928012\ttotal: 722ms\tremaining: 206ms\n",
            "778:\tlearn: 0.3927420\ttotal: 723ms\tremaining: 205ms\n",
            "779:\tlearn: 0.3925365\ttotal: 724ms\tremaining: 204ms\n",
            "780:\tlearn: 0.3923778\ttotal: 725ms\tremaining: 203ms\n",
            "781:\tlearn: 0.3922462\ttotal: 726ms\tremaining: 202ms\n",
            "782:\tlearn: 0.3921401\ttotal: 727ms\tremaining: 201ms\n",
            "783:\tlearn: 0.3920626\ttotal: 727ms\tremaining: 200ms\n",
            "784:\tlearn: 0.3919265\ttotal: 728ms\tremaining: 199ms\n",
            "785:\tlearn: 0.3916721\ttotal: 729ms\tremaining: 199ms\n",
            "786:\tlearn: 0.3915963\ttotal: 730ms\tremaining: 198ms\n",
            "787:\tlearn: 0.3914402\ttotal: 731ms\tremaining: 197ms\n",
            "788:\tlearn: 0.3913442\ttotal: 732ms\tremaining: 196ms\n",
            "789:\tlearn: 0.3912122\ttotal: 733ms\tremaining: 195ms\n",
            "790:\tlearn: 0.3910732\ttotal: 733ms\tremaining: 194ms\n",
            "791:\tlearn: 0.3909883\ttotal: 734ms\tremaining: 193ms\n",
            "792:\tlearn: 0.3908712\ttotal: 735ms\tremaining: 192ms\n",
            "793:\tlearn: 0.3907439\ttotal: 736ms\tremaining: 191ms\n",
            "794:\tlearn: 0.3906321\ttotal: 737ms\tremaining: 190ms\n",
            "795:\tlearn: 0.3905586\ttotal: 738ms\tremaining: 189ms\n",
            "796:\tlearn: 0.3904551\ttotal: 739ms\tremaining: 188ms\n",
            "797:\tlearn: 0.3903223\ttotal: 740ms\tremaining: 187ms\n",
            "798:\tlearn: 0.3900991\ttotal: 741ms\tremaining: 186ms\n",
            "799:\tlearn: 0.3900430\ttotal: 742ms\tremaining: 185ms\n",
            "800:\tlearn: 0.3899549\ttotal: 743ms\tremaining: 184ms\n",
            "801:\tlearn: 0.3898351\ttotal: 743ms\tremaining: 184ms\n",
            "802:\tlearn: 0.3896872\ttotal: 744ms\tremaining: 183ms\n",
            "803:\tlearn: 0.3895473\ttotal: 745ms\tremaining: 182ms\n",
            "804:\tlearn: 0.3894734\ttotal: 746ms\tremaining: 181ms\n",
            "805:\tlearn: 0.3892858\ttotal: 747ms\tremaining: 180ms\n",
            "806:\tlearn: 0.3891031\ttotal: 747ms\tremaining: 179ms\n",
            "807:\tlearn: 0.3890304\ttotal: 748ms\tremaining: 178ms\n",
            "808:\tlearn: 0.3888875\ttotal: 749ms\tremaining: 177ms\n",
            "809:\tlearn: 0.3888379\ttotal: 750ms\tremaining: 176ms\n",
            "810:\tlearn: 0.3887767\ttotal: 751ms\tremaining: 175ms\n",
            "811:\tlearn: 0.3886038\ttotal: 752ms\tremaining: 174ms\n",
            "812:\tlearn: 0.3885433\ttotal: 753ms\tremaining: 173ms\n",
            "813:\tlearn: 0.3884729\ttotal: 753ms\tremaining: 172ms\n",
            "814:\tlearn: 0.3883682\ttotal: 754ms\tremaining: 171ms\n",
            "815:\tlearn: 0.3882517\ttotal: 755ms\tremaining: 170ms\n",
            "816:\tlearn: 0.3881377\ttotal: 756ms\tremaining: 169ms\n",
            "817:\tlearn: 0.3880561\ttotal: 756ms\tremaining: 168ms\n",
            "818:\tlearn: 0.3879726\ttotal: 757ms\tremaining: 167ms\n",
            "819:\tlearn: 0.3878678\ttotal: 758ms\tremaining: 166ms\n",
            "820:\tlearn: 0.3877075\ttotal: 759ms\tremaining: 166ms\n",
            "821:\tlearn: 0.3876282\ttotal: 760ms\tremaining: 165ms\n",
            "822:\tlearn: 0.3874765\ttotal: 761ms\tremaining: 164ms\n",
            "823:\tlearn: 0.3873462\ttotal: 762ms\tremaining: 163ms\n",
            "824:\tlearn: 0.3872019\ttotal: 762ms\tremaining: 162ms\n",
            "825:\tlearn: 0.3871201\ttotal: 763ms\tremaining: 161ms\n",
            "826:\tlearn: 0.3870087\ttotal: 764ms\tremaining: 160ms\n",
            "827:\tlearn: 0.3869257\ttotal: 765ms\tremaining: 159ms\n",
            "828:\tlearn: 0.3868348\ttotal: 766ms\tremaining: 158ms\n",
            "829:\tlearn: 0.3866762\ttotal: 767ms\tremaining: 157ms\n",
            "830:\tlearn: 0.3864694\ttotal: 767ms\tremaining: 156ms\n",
            "831:\tlearn: 0.3863663\ttotal: 768ms\tremaining: 155ms\n",
            "832:\tlearn: 0.3863119\ttotal: 769ms\tremaining: 154ms\n",
            "833:\tlearn: 0.3861802\ttotal: 770ms\tremaining: 153ms\n",
            "834:\tlearn: 0.3860937\ttotal: 771ms\tremaining: 152ms\n",
            "835:\tlearn: 0.3860046\ttotal: 772ms\tremaining: 151ms\n",
            "836:\tlearn: 0.3858373\ttotal: 773ms\tremaining: 151ms\n",
            "837:\tlearn: 0.3856516\ttotal: 774ms\tremaining: 150ms\n",
            "838:\tlearn: 0.3854473\ttotal: 775ms\tremaining: 149ms\n",
            "839:\tlearn: 0.3853395\ttotal: 775ms\tremaining: 148ms\n",
            "840:\tlearn: 0.3852293\ttotal: 776ms\tremaining: 147ms\n",
            "841:\tlearn: 0.3850473\ttotal: 777ms\tremaining: 146ms\n",
            "842:\tlearn: 0.3849837\ttotal: 778ms\tremaining: 145ms\n",
            "843:\tlearn: 0.3848236\ttotal: 779ms\tremaining: 144ms\n",
            "844:\tlearn: 0.3847232\ttotal: 780ms\tremaining: 143ms\n",
            "845:\tlearn: 0.3845427\ttotal: 781ms\tremaining: 142ms\n",
            "846:\tlearn: 0.3844581\ttotal: 782ms\tremaining: 141ms\n",
            "847:\tlearn: 0.3843366\ttotal: 783ms\tremaining: 140ms\n",
            "848:\tlearn: 0.3842484\ttotal: 784ms\tremaining: 139ms\n",
            "849:\tlearn: 0.3841068\ttotal: 785ms\tremaining: 138ms\n",
            "850:\tlearn: 0.3840130\ttotal: 785ms\tremaining: 138ms\n",
            "851:\tlearn: 0.3839290\ttotal: 786ms\tremaining: 137ms\n",
            "852:\tlearn: 0.3838703\ttotal: 787ms\tremaining: 136ms\n",
            "853:\tlearn: 0.3837762\ttotal: 788ms\tremaining: 135ms\n",
            "854:\tlearn: 0.3836625\ttotal: 789ms\tremaining: 134ms\n",
            "855:\tlearn: 0.3835444\ttotal: 790ms\tremaining: 133ms\n",
            "856:\tlearn: 0.3834182\ttotal: 791ms\tremaining: 132ms\n",
            "857:\tlearn: 0.3833415\ttotal: 792ms\tremaining: 131ms\n",
            "858:\tlearn: 0.3831937\ttotal: 793ms\tremaining: 130ms\n",
            "859:\tlearn: 0.3831429\ttotal: 794ms\tremaining: 129ms\n",
            "860:\tlearn: 0.3830319\ttotal: 795ms\tremaining: 128ms\n",
            "861:\tlearn: 0.3827994\ttotal: 796ms\tremaining: 127ms\n",
            "862:\tlearn: 0.3826069\ttotal: 796ms\tremaining: 126ms\n",
            "863:\tlearn: 0.3824853\ttotal: 797ms\tremaining: 125ms\n",
            "864:\tlearn: 0.3824142\ttotal: 798ms\tremaining: 125ms\n",
            "865:\tlearn: 0.3823550\ttotal: 799ms\tremaining: 124ms\n",
            "866:\tlearn: 0.3822526\ttotal: 800ms\tremaining: 123ms\n",
            "867:\tlearn: 0.3821086\ttotal: 801ms\tremaining: 122ms\n",
            "868:\tlearn: 0.3820226\ttotal: 802ms\tremaining: 121ms\n",
            "869:\tlearn: 0.3819531\ttotal: 803ms\tremaining: 120ms\n",
            "870:\tlearn: 0.3818400\ttotal: 803ms\tremaining: 119ms\n",
            "871:\tlearn: 0.3817659\ttotal: 804ms\tremaining: 118ms\n",
            "872:\tlearn: 0.3816046\ttotal: 805ms\tremaining: 117ms\n",
            "873:\tlearn: 0.3815296\ttotal: 806ms\tremaining: 116ms\n",
            "874:\tlearn: 0.3814255\ttotal: 807ms\tremaining: 115ms\n",
            "875:\tlearn: 0.3813953\ttotal: 808ms\tremaining: 114ms\n",
            "876:\tlearn: 0.3813163\ttotal: 809ms\tremaining: 113ms\n",
            "877:\tlearn: 0.3811887\ttotal: 810ms\tremaining: 113ms\n",
            "878:\tlearn: 0.3811288\ttotal: 810ms\tremaining: 112ms\n",
            "879:\tlearn: 0.3810143\ttotal: 811ms\tremaining: 111ms\n",
            "880:\tlearn: 0.3808992\ttotal: 812ms\tremaining: 110ms\n",
            "881:\tlearn: 0.3807250\ttotal: 813ms\tremaining: 109ms\n",
            "882:\tlearn: 0.3806392\ttotal: 814ms\tremaining: 108ms\n",
            "883:\tlearn: 0.3805299\ttotal: 815ms\tremaining: 107ms\n",
            "884:\tlearn: 0.3804369\ttotal: 816ms\tremaining: 106ms\n",
            "885:\tlearn: 0.3803817\ttotal: 817ms\tremaining: 105ms\n",
            "886:\tlearn: 0.3803359\ttotal: 817ms\tremaining: 104ms\n",
            "887:\tlearn: 0.3802019\ttotal: 818ms\tremaining: 103ms\n",
            "888:\tlearn: 0.3800152\ttotal: 819ms\tremaining: 102ms\n",
            "889:\tlearn: 0.3799414\ttotal: 820ms\tremaining: 101ms\n",
            "890:\tlearn: 0.3798545\ttotal: 821ms\tremaining: 100ms\n",
            "891:\tlearn: 0.3798043\ttotal: 821ms\tremaining: 99.5ms\n",
            "892:\tlearn: 0.3796866\ttotal: 822ms\tremaining: 98.5ms\n",
            "893:\tlearn: 0.3796008\ttotal: 822ms\tremaining: 97.5ms\n",
            "894:\tlearn: 0.3794289\ttotal: 823ms\tremaining: 96.6ms\n",
            "895:\tlearn: 0.3792422\ttotal: 824ms\tremaining: 95.7ms\n",
            "896:\tlearn: 0.3791590\ttotal: 825ms\tremaining: 94.7ms\n",
            "897:\tlearn: 0.3790372\ttotal: 826ms\tremaining: 93.8ms\n",
            "898:\tlearn: 0.3789190\ttotal: 827ms\tremaining: 92.9ms\n",
            "899:\tlearn: 0.3788425\ttotal: 828ms\tremaining: 92ms\n",
            "900:\tlearn: 0.3787576\ttotal: 828ms\tremaining: 91ms\n",
            "901:\tlearn: 0.3786882\ttotal: 829ms\tremaining: 90.1ms\n",
            "902:\tlearn: 0.3786310\ttotal: 830ms\tremaining: 89.2ms\n",
            "903:\tlearn: 0.3785628\ttotal: 831ms\tremaining: 88.3ms\n",
            "904:\tlearn: 0.3784148\ttotal: 832ms\tremaining: 87.3ms\n",
            "905:\tlearn: 0.3782986\ttotal: 833ms\tremaining: 86.4ms\n",
            "906:\tlearn: 0.3782264\ttotal: 834ms\tremaining: 85.5ms\n",
            "907:\tlearn: 0.3781399\ttotal: 835ms\tremaining: 84.6ms\n",
            "908:\tlearn: 0.3780953\ttotal: 836ms\tremaining: 83.7ms\n",
            "909:\tlearn: 0.3780016\ttotal: 837ms\tremaining: 82.8ms\n",
            "910:\tlearn: 0.3778955\ttotal: 838ms\tremaining: 81.8ms\n",
            "911:\tlearn: 0.3778187\ttotal: 839ms\tremaining: 80.9ms\n",
            "912:\tlearn: 0.3777310\ttotal: 839ms\tremaining: 80ms\n",
            "913:\tlearn: 0.3776396\ttotal: 840ms\tremaining: 79.1ms\n",
            "914:\tlearn: 0.3775389\ttotal: 841ms\tremaining: 78.1ms\n",
            "915:\tlearn: 0.3774238\ttotal: 842ms\tremaining: 77.2ms\n",
            "916:\tlearn: 0.3772971\ttotal: 843ms\tremaining: 76.3ms\n",
            "917:\tlearn: 0.3772092\ttotal: 844ms\tremaining: 75.4ms\n",
            "918:\tlearn: 0.3771680\ttotal: 845ms\tremaining: 74.5ms\n",
            "919:\tlearn: 0.3770811\ttotal: 846ms\tremaining: 73.5ms\n",
            "920:\tlearn: 0.3769824\ttotal: 847ms\tremaining: 72.6ms\n",
            "921:\tlearn: 0.3768769\ttotal: 847ms\tremaining: 71.7ms\n",
            "922:\tlearn: 0.3767651\ttotal: 849ms\tremaining: 70.8ms\n",
            "923:\tlearn: 0.3766884\ttotal: 850ms\tremaining: 69.9ms\n",
            "924:\tlearn: 0.3766080\ttotal: 850ms\tremaining: 69ms\n",
            "925:\tlearn: 0.3764670\ttotal: 851ms\tremaining: 68ms\n",
            "926:\tlearn: 0.3763495\ttotal: 852ms\tremaining: 67.1ms\n",
            "927:\tlearn: 0.3762656\ttotal: 853ms\tremaining: 66.2ms\n",
            "928:\tlearn: 0.3760915\ttotal: 854ms\tremaining: 65.3ms\n",
            "929:\tlearn: 0.3759856\ttotal: 855ms\tremaining: 64.3ms\n",
            "930:\tlearn: 0.3758452\ttotal: 856ms\tremaining: 63.4ms\n",
            "931:\tlearn: 0.3757652\ttotal: 857ms\tremaining: 62.5ms\n",
            "932:\tlearn: 0.3756921\ttotal: 858ms\tremaining: 61.6ms\n",
            "933:\tlearn: 0.3756220\ttotal: 859ms\tremaining: 60.7ms\n",
            "934:\tlearn: 0.3755264\ttotal: 860ms\tremaining: 59.8ms\n",
            "935:\tlearn: 0.3754299\ttotal: 861ms\tremaining: 58.9ms\n",
            "936:\tlearn: 0.3752806\ttotal: 862ms\tremaining: 57.9ms\n",
            "937:\tlearn: 0.3751468\ttotal: 863ms\tremaining: 57ms\n",
            "938:\tlearn: 0.3750386\ttotal: 863ms\tremaining: 56.1ms\n",
            "939:\tlearn: 0.3749444\ttotal: 864ms\tremaining: 55.2ms\n",
            "940:\tlearn: 0.3748193\ttotal: 865ms\tremaining: 54.2ms\n",
            "941:\tlearn: 0.3747396\ttotal: 866ms\tremaining: 53.3ms\n",
            "942:\tlearn: 0.3746904\ttotal: 867ms\tremaining: 52.4ms\n",
            "943:\tlearn: 0.3746106\ttotal: 867ms\tremaining: 51.5ms\n",
            "944:\tlearn: 0.3744870\ttotal: 868ms\tremaining: 50.5ms\n",
            "945:\tlearn: 0.3743852\ttotal: 869ms\tremaining: 49.6ms\n",
            "946:\tlearn: 0.3743186\ttotal: 870ms\tremaining: 48.7ms\n",
            "947:\tlearn: 0.3742527\ttotal: 871ms\tremaining: 47.8ms\n",
            "948:\tlearn: 0.3741333\ttotal: 872ms\tremaining: 46.8ms\n",
            "949:\tlearn: 0.3739432\ttotal: 873ms\tremaining: 45.9ms\n",
            "950:\tlearn: 0.3738075\ttotal: 873ms\tremaining: 45ms\n",
            "951:\tlearn: 0.3737102\ttotal: 874ms\tremaining: 44.1ms\n",
            "952:\tlearn: 0.3736271\ttotal: 875ms\tremaining: 43.2ms\n",
            "953:\tlearn: 0.3735646\ttotal: 876ms\tremaining: 42.2ms\n",
            "954:\tlearn: 0.3734911\ttotal: 877ms\tremaining: 41.3ms\n",
            "955:\tlearn: 0.3734065\ttotal: 878ms\tremaining: 40.4ms\n",
            "956:\tlearn: 0.3733184\ttotal: 878ms\tremaining: 39.5ms\n",
            "957:\tlearn: 0.3732052\ttotal: 879ms\tremaining: 38.6ms\n",
            "958:\tlearn: 0.3730499\ttotal: 880ms\tremaining: 37.6ms\n",
            "959:\tlearn: 0.3729278\ttotal: 881ms\tremaining: 36.7ms\n",
            "960:\tlearn: 0.3728550\ttotal: 884ms\tremaining: 35.9ms\n",
            "961:\tlearn: 0.3727616\ttotal: 884ms\tremaining: 34.9ms\n",
            "962:\tlearn: 0.3725908\ttotal: 887ms\tremaining: 34.1ms\n",
            "963:\tlearn: 0.3724802\ttotal: 888ms\tremaining: 33.2ms\n",
            "964:\tlearn: 0.3723986\ttotal: 898ms\tremaining: 32.6ms\n",
            "965:\tlearn: 0.3722832\ttotal: 907ms\tremaining: 31.9ms\n",
            "966:\tlearn: 0.3721892\ttotal: 907ms\tremaining: 31ms\n",
            "967:\tlearn: 0.3721272\ttotal: 908ms\tremaining: 30ms\n",
            "968:\tlearn: 0.3720141\ttotal: 909ms\tremaining: 29.1ms\n",
            "969:\tlearn: 0.3719350\ttotal: 910ms\tremaining: 28.1ms\n",
            "970:\tlearn: 0.3717752\ttotal: 911ms\tremaining: 27.2ms\n",
            "971:\tlearn: 0.3717094\ttotal: 911ms\tremaining: 26.3ms\n",
            "972:\tlearn: 0.3716164\ttotal: 912ms\tremaining: 25.3ms\n",
            "973:\tlearn: 0.3715628\ttotal: 913ms\tremaining: 24.4ms\n",
            "974:\tlearn: 0.3714625\ttotal: 914ms\tremaining: 23.4ms\n",
            "975:\tlearn: 0.3713846\ttotal: 915ms\tremaining: 22.5ms\n",
            "976:\tlearn: 0.3712586\ttotal: 916ms\tremaining: 21.6ms\n",
            "977:\tlearn: 0.3711575\ttotal: 917ms\tremaining: 20.6ms\n",
            "978:\tlearn: 0.3710404\ttotal: 918ms\tremaining: 19.7ms\n",
            "979:\tlearn: 0.3709001\ttotal: 919ms\tremaining: 18.8ms\n",
            "980:\tlearn: 0.3708189\ttotal: 920ms\tremaining: 17.8ms\n",
            "981:\tlearn: 0.3706982\ttotal: 921ms\tremaining: 16.9ms\n",
            "982:\tlearn: 0.3705338\ttotal: 922ms\tremaining: 15.9ms\n",
            "983:\tlearn: 0.3704394\ttotal: 922ms\tremaining: 15ms\n",
            "984:\tlearn: 0.3703538\ttotal: 923ms\tremaining: 14.1ms\n",
            "985:\tlearn: 0.3702792\ttotal: 924ms\tremaining: 13.1ms\n",
            "986:\tlearn: 0.3701435\ttotal: 925ms\tremaining: 12.2ms\n",
            "987:\tlearn: 0.3700419\ttotal: 926ms\tremaining: 11.2ms\n",
            "988:\tlearn: 0.3699561\ttotal: 927ms\tremaining: 10.3ms\n",
            "989:\tlearn: 0.3698647\ttotal: 928ms\tremaining: 9.37ms\n",
            "990:\tlearn: 0.3697747\ttotal: 929ms\tremaining: 8.44ms\n",
            "991:\tlearn: 0.3697041\ttotal: 930ms\tremaining: 7.5ms\n",
            "992:\tlearn: 0.3696347\ttotal: 931ms\tremaining: 6.56ms\n",
            "993:\tlearn: 0.3694938\ttotal: 932ms\tremaining: 5.62ms\n",
            "994:\tlearn: 0.3693616\ttotal: 933ms\tremaining: 4.68ms\n",
            "995:\tlearn: 0.3693293\ttotal: 933ms\tremaining: 3.75ms\n",
            "996:\tlearn: 0.3692075\ttotal: 934ms\tremaining: 2.81ms\n",
            "997:\tlearn: 0.3691696\ttotal: 935ms\tremaining: 1.87ms\n",
            "998:\tlearn: 0.3690734\ttotal: 936ms\tremaining: 936us\n",
            "999:\tlearn: 0.3689451\ttotal: 937ms\tremaining: 0us\n"
          ]
        },
        {
          "output_type": "execute_result",
          "data": {
            "text/plain": [
              "<catboost.core.CatBoostClassifier at 0x7f4928b44e50>"
            ]
          },
          "metadata": {},
          "execution_count": 419
        }
      ]
    },
    {
      "cell_type": "markdown",
      "metadata": {
        "id": "-MIy7RZwHaCA"
      },
      "source": [
        "####Test"
      ]
    },
    {
      "cell_type": "code",
      "metadata": {
        "colab": {
          "base_uri": "https://localhost:8080/"
        },
        "id": "BljwLuDbOkbL",
        "outputId": "54362d5a-5178-4d11-ec3a-92a05437581c"
      },
      "source": [
        "predicted_cb = model_cb.predict(X_test)\n",
        "summary_report(y_test,predicted_cb,X_test,model_cb)"
      ],
      "execution_count": null,
      "outputs": [
        {
          "output_type": "stream",
          "name": "stdout",
          "text": [
            "              precision    recall  f1-score   support\n",
            "\n",
            "           0       0.77      0.96      0.85       309\n",
            "           1       0.89      0.53      0.67       191\n",
            "\n",
            "    accuracy                           0.80       500\n",
            "   macro avg       0.83      0.75      0.76       500\n",
            "weighted avg       0.82      0.80      0.78       500\n",
            "\n",
            "True Positives: 102\n",
            "False Positives: 12\n",
            "True Negatives: 297\n",
            "False Negatives: 89\n"
          ]
        }
      ]
    },
    {
      "cell_type": "markdown",
      "metadata": {
        "id": "-nKmS22pOLiV"
      },
      "source": [
        "##Naive bayes"
      ]
    },
    {
      "cell_type": "markdown",
      "metadata": {
        "id": "uehBfALsGyfH"
      },
      "source": [
        "####Train"
      ]
    },
    {
      "cell_type": "code",
      "metadata": {
        "colab": {
          "base_uri": "https://localhost:8080/"
        },
        "id": "Fedlhw1lGHpK",
        "outputId": "26273fc0-e2b7-49ae-bbd9-4686f3632114"
      },
      "source": [
        "from sklearn.naive_bayes import CategoricalNB\n",
        "model_nb = CategoricalNB()\n",
        "\n",
        "model_nb.fit(X_train,y_train)"
      ],
      "execution_count": null,
      "outputs": [
        {
          "output_type": "execute_result",
          "data": {
            "text/plain": [
              "CategoricalNB(alpha=1.0, class_prior=None, fit_prior=True)"
            ]
          },
          "metadata": {},
          "execution_count": 421
        }
      ]
    },
    {
      "cell_type": "markdown",
      "metadata": {
        "id": "N_pkw__JG0Il"
      },
      "source": [
        "####Test"
      ]
    },
    {
      "cell_type": "code",
      "metadata": {
        "colab": {
          "base_uri": "https://localhost:8080/"
        },
        "id": "O64VJlg2pJLz",
        "outputId": "c55f7660-00a8-40e3-d5e5-c40c5fbbb0e8"
      },
      "source": [
        "predicted_nb = model_nb.predict(X_test)\n",
        "summary_report(y_test,predicted_nb,X_test,model_nb)"
      ],
      "execution_count": null,
      "outputs": [
        {
          "output_type": "stream",
          "name": "stdout",
          "text": [
            "              precision    recall  f1-score   support\n",
            "\n",
            "           0       0.72      0.95      0.82       309\n",
            "           1       0.83      0.40      0.54       191\n",
            "\n",
            "    accuracy                           0.74       500\n",
            "   macro avg       0.77      0.67      0.68       500\n",
            "weighted avg       0.76      0.74      0.71       500\n",
            "\n",
            "True Positives: 76\n",
            "False Positives: 16\n",
            "True Negatives: 293\n",
            "False Negatives: 115\n"
          ]
        }
      ]
    },
    {
      "cell_type": "markdown",
      "metadata": {
        "id": "LFNLVZhzW-7I"
      },
      "source": [
        "##Random Forest"
      ]
    },
    {
      "cell_type": "markdown",
      "metadata": {
        "id": "qwW7J_4QF7vt"
      },
      "source": [
        "####Train"
      ]
    },
    {
      "cell_type": "code",
      "metadata": {
        "colab": {
          "base_uri": "https://localhost:8080/"
        },
        "id": "ZVtbZkmyEMWn",
        "outputId": "28082ad5-b18b-4d9b-823b-236d32027157"
      },
      "source": [
        "from sklearn.ensemble import RandomForestClassifier\n",
        "model_RF = RandomForestClassifier(n_estimators=10)\n",
        "model_RF.fit(X_train,y_train)"
      ],
      "execution_count": null,
      "outputs": [
        {
          "output_type": "execute_result",
          "data": {
            "text/plain": [
              "RandomForestClassifier(bootstrap=True, ccp_alpha=0.0, class_weight=None,\n",
              "                       criterion='gini', max_depth=None, max_features='auto',\n",
              "                       max_leaf_nodes=None, max_samples=None,\n",
              "                       min_impurity_decrease=0.0, min_impurity_split=None,\n",
              "                       min_samples_leaf=1, min_samples_split=2,\n",
              "                       min_weight_fraction_leaf=0.0, n_estimators=10,\n",
              "                       n_jobs=None, oob_score=False, random_state=None,\n",
              "                       verbose=0, warm_start=False)"
            ]
          },
          "metadata": {},
          "execution_count": 423
        }
      ]
    },
    {
      "cell_type": "markdown",
      "metadata": {
        "id": "EhDeqcw8F87P"
      },
      "source": [
        "####Test"
      ]
    },
    {
      "cell_type": "code",
      "metadata": {
        "colab": {
          "base_uri": "https://localhost:8080/"
        },
        "id": "UNrOEjw0pPIG",
        "outputId": "ea03f71f-4737-4c43-eb32-e6e2a70a6766"
      },
      "source": [
        "predicted_rf = model_RF.predict(X_test)\n",
        "summary_report(y_test,predicted_rf,X_test,model_RF)"
      ],
      "execution_count": null,
      "outputs": [
        {
          "output_type": "stream",
          "name": "stdout",
          "text": [
            "              precision    recall  f1-score   support\n",
            "\n",
            "           0       0.76      0.85      0.80       309\n",
            "           1       0.70      0.57      0.63       191\n",
            "\n",
            "    accuracy                           0.74       500\n",
            "   macro avg       0.73      0.71      0.72       500\n",
            "weighted avg       0.74      0.74      0.74       500\n",
            "\n",
            "True Positives: 109\n",
            "False Positives: 47\n",
            "True Negatives: 262\n",
            "False Negatives: 82\n"
          ]
        }
      ]
    },
    {
      "cell_type": "markdown",
      "metadata": {
        "id": "TPYFX55JO8FL"
      },
      "source": [
        "#Handling model for data imbalance to get better classification Score"
      ]
    },
    {
      "cell_type": "markdown",
      "metadata": {
        "id": "T1j1tu5kcSyT"
      },
      "source": [
        "##Resampling data for data imbalance (Over-sampling)"
      ]
    },
    {
      "cell_type": "code",
      "metadata": {
        "id": "9fb778H6cYVW"
      },
      "source": [
        "yes = df_train[df_train.TravelInsurance==1]\n",
        "no = df_train[df_train.TravelInsurance==0]"
      ],
      "execution_count": null,
      "outputs": []
    },
    {
      "cell_type": "code",
      "metadata": {
        "id": "qD1Hakt5xGbR"
      },
      "source": [
        "from sklearn.utils import resample"
      ],
      "execution_count": null,
      "outputs": []
    },
    {
      "cell_type": "code",
      "metadata": {
        "id": "VrWH3f4Cwhn2"
      },
      "source": [
        "yes_upsampled = resample(yes,replace = True,n_samples=len(no),random_state=42)"
      ],
      "execution_count": null,
      "outputs": []
    },
    {
      "cell_type": "code",
      "metadata": {
        "id": "jgTRhb21xa0v"
      },
      "source": [
        "upsampled = pd.concat([no, yes_upsampled])"
      ],
      "execution_count": null,
      "outputs": []
    },
    {
      "cell_type": "code",
      "metadata": {
        "colab": {
          "base_uri": "https://localhost:8080/"
        },
        "id": "8LVQbBdnyOWr",
        "outputId": "653fea09-4ad8-4e3f-ec4d-5ea3594b26db"
      },
      "source": [
        "upsampled['TravelInsurance'].value_counts()"
      ],
      "execution_count": null,
      "outputs": [
        {
          "output_type": "execute_result",
          "data": {
            "text/plain": [
              "1    597\n",
              "0    597\n",
              "Name: TravelInsurance, dtype: int64"
            ]
          },
          "metadata": {},
          "execution_count": 430
        }
      ]
    },
    {
      "cell_type": "markdown",
      "metadata": {
        "id": "aDkoZwOtSevI"
      },
      "source": [
        "##Split data into X and y after resampling"
      ]
    },
    {
      "cell_type": "markdown",
      "metadata": {
        "id": "X1mIVUd_SevJ"
      },
      "source": [
        "Data Train"
      ]
    },
    {
      "cell_type": "code",
      "metadata": {
        "id": "wuPeARVDSevJ"
      },
      "source": [
        "X_train1 = upsampled.drop(['TravelInsurance'],axis=1)\n",
        "y_train1 = upsampled['TravelInsurance'].values"
      ],
      "execution_count": null,
      "outputs": []
    },
    {
      "cell_type": "markdown",
      "metadata": {
        "id": "6WkEHtsLSevJ"
      },
      "source": [
        "Data Test"
      ]
    },
    {
      "cell_type": "code",
      "metadata": {
        "id": "WY-Cpa8aSevJ"
      },
      "source": [
        "X_test = df_test.drop(['TravelInsurance'],axis=1)\n",
        "y_test = df_test['TravelInsurance'].values"
      ],
      "execution_count": null,
      "outputs": []
    },
    {
      "cell_type": "markdown",
      "metadata": {
        "id": "vMfoveCYPFlF"
      },
      "source": [
        "##Catboost"
      ]
    },
    {
      "cell_type": "markdown",
      "metadata": {
        "id": "6ovtrO56Sr0i"
      },
      "source": [
        "Also use threshold"
      ]
    },
    {
      "cell_type": "code",
      "metadata": {
        "colab": {
          "base_uri": "https://localhost:8080/"
        },
        "id": "wUz303WDv1nb",
        "outputId": "19526d69-10e0-40d5-a2c3-f5cb80c498c1"
      },
      "source": [
        "model_cb= ctb.CatBoostClassifier()\n",
        "model_cb.fit(X_train1,y_train1)"
      ],
      "execution_count": null,
      "outputs": [
        {
          "output_type": "stream",
          "name": "stdout",
          "text": [
            "Learning rate set to 0.011113\n",
            "0:\tlearn: 0.6885215\ttotal: 3.25ms\tremaining: 3.25s\n",
            "1:\tlearn: 0.6847892\ttotal: 4.64ms\tremaining: 2.32s\n",
            "2:\tlearn: 0.6805505\ttotal: 5.72ms\tremaining: 1.9s\n",
            "3:\tlearn: 0.6772058\ttotal: 6.84ms\tremaining: 1.7s\n",
            "4:\tlearn: 0.6733113\ttotal: 7.89ms\tremaining: 1.57s\n",
            "5:\tlearn: 0.6700916\ttotal: 9.01ms\tremaining: 1.49s\n",
            "6:\tlearn: 0.6671712\ttotal: 10.2ms\tremaining: 1.44s\n",
            "7:\tlearn: 0.6637862\ttotal: 11.3ms\tremaining: 1.4s\n",
            "8:\tlearn: 0.6602754\ttotal: 12.6ms\tremaining: 1.39s\n",
            "9:\tlearn: 0.6573822\ttotal: 14.1ms\tremaining: 1.39s\n",
            "10:\tlearn: 0.6533481\ttotal: 15.4ms\tremaining: 1.38s\n",
            "11:\tlearn: 0.6499593\ttotal: 16.5ms\tremaining: 1.36s\n",
            "12:\tlearn: 0.6479136\ttotal: 17.6ms\tremaining: 1.33s\n",
            "13:\tlearn: 0.6446129\ttotal: 18.5ms\tremaining: 1.3s\n",
            "14:\tlearn: 0.6414341\ttotal: 19.6ms\tremaining: 1.29s\n",
            "15:\tlearn: 0.6386683\ttotal: 20.7ms\tremaining: 1.27s\n",
            "16:\tlearn: 0.6356577\ttotal: 21.9ms\tremaining: 1.26s\n",
            "17:\tlearn: 0.6334948\ttotal: 23.1ms\tremaining: 1.26s\n",
            "18:\tlearn: 0.6305657\ttotal: 24.1ms\tremaining: 1.25s\n",
            "19:\tlearn: 0.6277823\ttotal: 25.3ms\tremaining: 1.24s\n",
            "20:\tlearn: 0.6251000\ttotal: 26.5ms\tremaining: 1.23s\n",
            "21:\tlearn: 0.6231761\ttotal: 27.7ms\tremaining: 1.23s\n",
            "22:\tlearn: 0.6206994\ttotal: 28.8ms\tremaining: 1.23s\n",
            "23:\tlearn: 0.6179975\ttotal: 29.9ms\tremaining: 1.22s\n",
            "24:\tlearn: 0.6156802\ttotal: 30.9ms\tremaining: 1.21s\n",
            "25:\tlearn: 0.6136395\ttotal: 32ms\tremaining: 1.2s\n",
            "26:\tlearn: 0.6111526\ttotal: 33.1ms\tremaining: 1.19s\n",
            "27:\tlearn: 0.6090042\ttotal: 34.2ms\tremaining: 1.19s\n",
            "28:\tlearn: 0.6071450\ttotal: 35.3ms\tremaining: 1.18s\n",
            "29:\tlearn: 0.6047416\ttotal: 36.4ms\tremaining: 1.18s\n",
            "30:\tlearn: 0.6029621\ttotal: 37.7ms\tremaining: 1.18s\n",
            "31:\tlearn: 0.6010243\ttotal: 38.8ms\tremaining: 1.17s\n",
            "32:\tlearn: 0.5987999\ttotal: 39.9ms\tremaining: 1.17s\n",
            "33:\tlearn: 0.5962198\ttotal: 41.1ms\tremaining: 1.17s\n",
            "34:\tlearn: 0.5940438\ttotal: 42.3ms\tremaining: 1.17s\n",
            "35:\tlearn: 0.5921967\ttotal: 43.4ms\tremaining: 1.16s\n",
            "36:\tlearn: 0.5903556\ttotal: 44.5ms\tremaining: 1.16s\n",
            "37:\tlearn: 0.5883233\ttotal: 45.6ms\tremaining: 1.16s\n",
            "38:\tlearn: 0.5859454\ttotal: 46.9ms\tremaining: 1.16s\n",
            "39:\tlearn: 0.5839983\ttotal: 48.1ms\tremaining: 1.16s\n",
            "40:\tlearn: 0.5820357\ttotal: 49.3ms\tremaining: 1.15s\n",
            "41:\tlearn: 0.5800858\ttotal: 50.5ms\tremaining: 1.15s\n",
            "42:\tlearn: 0.5785068\ttotal: 51.6ms\tremaining: 1.15s\n",
            "43:\tlearn: 0.5767960\ttotal: 53.5ms\tremaining: 1.16s\n",
            "44:\tlearn: 0.5751023\ttotal: 55ms\tremaining: 1.17s\n",
            "45:\tlearn: 0.5741297\ttotal: 56.7ms\tremaining: 1.18s\n",
            "46:\tlearn: 0.5721723\ttotal: 57.6ms\tremaining: 1.17s\n",
            "47:\tlearn: 0.5712100\ttotal: 58.4ms\tremaining: 1.16s\n",
            "48:\tlearn: 0.5697921\ttotal: 59.2ms\tremaining: 1.15s\n",
            "49:\tlearn: 0.5681999\ttotal: 60ms\tremaining: 1.14s\n",
            "50:\tlearn: 0.5667629\ttotal: 60.7ms\tremaining: 1.13s\n",
            "51:\tlearn: 0.5653788\ttotal: 64.8ms\tremaining: 1.18s\n",
            "52:\tlearn: 0.5643591\ttotal: 66.6ms\tremaining: 1.19s\n",
            "53:\tlearn: 0.5632060\ttotal: 67.4ms\tremaining: 1.18s\n",
            "54:\tlearn: 0.5618870\ttotal: 68.1ms\tremaining: 1.17s\n",
            "55:\tlearn: 0.5612025\ttotal: 68.9ms\tremaining: 1.16s\n",
            "56:\tlearn: 0.5601282\ttotal: 69.6ms\tremaining: 1.15s\n",
            "57:\tlearn: 0.5589271\ttotal: 70.5ms\tremaining: 1.15s\n",
            "58:\tlearn: 0.5574867\ttotal: 71.4ms\tremaining: 1.14s\n",
            "59:\tlearn: 0.5558553\ttotal: 72.3ms\tremaining: 1.13s\n",
            "60:\tlearn: 0.5550688\ttotal: 73.2ms\tremaining: 1.13s\n",
            "61:\tlearn: 0.5539407\ttotal: 74.1ms\tremaining: 1.12s\n",
            "62:\tlearn: 0.5529228\ttotal: 75ms\tremaining: 1.12s\n",
            "63:\tlearn: 0.5519667\ttotal: 75.9ms\tremaining: 1.11s\n",
            "64:\tlearn: 0.5507863\ttotal: 77ms\tremaining: 1.11s\n",
            "65:\tlearn: 0.5498508\ttotal: 77.8ms\tremaining: 1.1s\n",
            "66:\tlearn: 0.5490016\ttotal: 78.6ms\tremaining: 1.09s\n",
            "67:\tlearn: 0.5476435\ttotal: 79.5ms\tremaining: 1.09s\n",
            "68:\tlearn: 0.5465181\ttotal: 80.4ms\tremaining: 1.08s\n",
            "69:\tlearn: 0.5454036\ttotal: 81.3ms\tremaining: 1.08s\n",
            "70:\tlearn: 0.5444462\ttotal: 82.2ms\tremaining: 1.07s\n",
            "71:\tlearn: 0.5434587\ttotal: 83.1ms\tremaining: 1.07s\n",
            "72:\tlearn: 0.5427911\ttotal: 84ms\tremaining: 1.07s\n",
            "73:\tlearn: 0.5418119\ttotal: 85ms\tremaining: 1.06s\n",
            "74:\tlearn: 0.5407304\ttotal: 85.9ms\tremaining: 1.06s\n",
            "75:\tlearn: 0.5396366\ttotal: 86.9ms\tremaining: 1.05s\n",
            "76:\tlearn: 0.5387249\ttotal: 87.7ms\tremaining: 1.05s\n",
            "77:\tlearn: 0.5376848\ttotal: 88.6ms\tremaining: 1.05s\n",
            "78:\tlearn: 0.5368312\ttotal: 89.5ms\tremaining: 1.04s\n",
            "79:\tlearn: 0.5362455\ttotal: 90.3ms\tremaining: 1.04s\n",
            "80:\tlearn: 0.5353716\ttotal: 91.2ms\tremaining: 1.03s\n",
            "81:\tlearn: 0.5342485\ttotal: 92.1ms\tremaining: 1.03s\n",
            "82:\tlearn: 0.5334735\ttotal: 93.1ms\tremaining: 1.03s\n",
            "83:\tlearn: 0.5328861\ttotal: 94ms\tremaining: 1.02s\n",
            "84:\tlearn: 0.5319074\ttotal: 94.9ms\tremaining: 1.02s\n",
            "85:\tlearn: 0.5311705\ttotal: 95.8ms\tremaining: 1.02s\n",
            "86:\tlearn: 0.5300081\ttotal: 96.7ms\tremaining: 1.01s\n",
            "87:\tlearn: 0.5291572\ttotal: 97.6ms\tremaining: 1.01s\n",
            "88:\tlearn: 0.5284236\ttotal: 98.5ms\tremaining: 1.01s\n",
            "89:\tlearn: 0.5277491\ttotal: 99.4ms\tremaining: 1s\n",
            "90:\tlearn: 0.5269929\ttotal: 100ms\tremaining: 1s\n",
            "91:\tlearn: 0.5262850\ttotal: 101ms\tremaining: 1s\n",
            "92:\tlearn: 0.5255593\ttotal: 102ms\tremaining: 997ms\n",
            "93:\tlearn: 0.5254302\ttotal: 103ms\tremaining: 992ms\n",
            "94:\tlearn: 0.5246083\ttotal: 104ms\tremaining: 987ms\n",
            "95:\tlearn: 0.5236540\ttotal: 105ms\tremaining: 984ms\n",
            "96:\tlearn: 0.5228434\ttotal: 105ms\tremaining: 981ms\n",
            "97:\tlearn: 0.5222542\ttotal: 106ms\tremaining: 979ms\n",
            "98:\tlearn: 0.5217285\ttotal: 107ms\tremaining: 976ms\n",
            "99:\tlearn: 0.5210674\ttotal: 108ms\tremaining: 976ms\n",
            "100:\tlearn: 0.5202580\ttotal: 109ms\tremaining: 974ms\n",
            "101:\tlearn: 0.5195748\ttotal: 110ms\tremaining: 972ms\n",
            "102:\tlearn: 0.5190357\ttotal: 111ms\tremaining: 970ms\n",
            "103:\tlearn: 0.5184702\ttotal: 112ms\tremaining: 967ms\n",
            "104:\tlearn: 0.5177211\ttotal: 113ms\tremaining: 964ms\n",
            "105:\tlearn: 0.5169924\ttotal: 114ms\tremaining: 962ms\n",
            "106:\tlearn: 0.5164175\ttotal: 115ms\tremaining: 960ms\n",
            "107:\tlearn: 0.5159595\ttotal: 116ms\tremaining: 958ms\n",
            "108:\tlearn: 0.5149899\ttotal: 117ms\tremaining: 957ms\n",
            "109:\tlearn: 0.5144254\ttotal: 118ms\tremaining: 955ms\n",
            "110:\tlearn: 0.5135699\ttotal: 119ms\tremaining: 953ms\n",
            "111:\tlearn: 0.5127320\ttotal: 120ms\tremaining: 951ms\n",
            "112:\tlearn: 0.5124271\ttotal: 121ms\tremaining: 949ms\n",
            "113:\tlearn: 0.5119997\ttotal: 122ms\tremaining: 950ms\n",
            "114:\tlearn: 0.5113528\ttotal: 123ms\tremaining: 948ms\n",
            "115:\tlearn: 0.5111896\ttotal: 124ms\tremaining: 947ms\n",
            "116:\tlearn: 0.5104782\ttotal: 125ms\tremaining: 945ms\n",
            "117:\tlearn: 0.5099602\ttotal: 126ms\tremaining: 943ms\n",
            "118:\tlearn: 0.5092816\ttotal: 127ms\tremaining: 942ms\n",
            "119:\tlearn: 0.5085737\ttotal: 128ms\tremaining: 940ms\n",
            "120:\tlearn: 0.5080414\ttotal: 129ms\tremaining: 938ms\n",
            "121:\tlearn: 0.5076574\ttotal: 130ms\tremaining: 936ms\n",
            "122:\tlearn: 0.5071772\ttotal: 131ms\tremaining: 934ms\n",
            "123:\tlearn: 0.5067485\ttotal: 132ms\tremaining: 933ms\n",
            "124:\tlearn: 0.5063294\ttotal: 133ms\tremaining: 931ms\n",
            "125:\tlearn: 0.5058656\ttotal: 134ms\tremaining: 929ms\n",
            "126:\tlearn: 0.5049547\ttotal: 135ms\tremaining: 928ms\n",
            "127:\tlearn: 0.5044241\ttotal: 136ms\tremaining: 926ms\n",
            "128:\tlearn: 0.5037680\ttotal: 137ms\tremaining: 925ms\n",
            "129:\tlearn: 0.5033821\ttotal: 138ms\tremaining: 922ms\n",
            "130:\tlearn: 0.5029709\ttotal: 139ms\tremaining: 921ms\n",
            "131:\tlearn: 0.5025079\ttotal: 140ms\tremaining: 919ms\n",
            "132:\tlearn: 0.5020851\ttotal: 141ms\tremaining: 917ms\n",
            "133:\tlearn: 0.5015799\ttotal: 142ms\tremaining: 916ms\n",
            "134:\tlearn: 0.5011705\ttotal: 143ms\tremaining: 914ms\n",
            "135:\tlearn: 0.5008632\ttotal: 144ms\tremaining: 913ms\n",
            "136:\tlearn: 0.5003825\ttotal: 145ms\tremaining: 911ms\n",
            "137:\tlearn: 0.4998753\ttotal: 145ms\tremaining: 907ms\n",
            "138:\tlearn: 0.4994155\ttotal: 146ms\tremaining: 906ms\n",
            "139:\tlearn: 0.4988342\ttotal: 147ms\tremaining: 904ms\n",
            "140:\tlearn: 0.4987633\ttotal: 148ms\tremaining: 902ms\n",
            "141:\tlearn: 0.4982796\ttotal: 149ms\tremaining: 900ms\n",
            "142:\tlearn: 0.4977249\ttotal: 150ms\tremaining: 898ms\n",
            "143:\tlearn: 0.4971024\ttotal: 151ms\tremaining: 897ms\n",
            "144:\tlearn: 0.4965916\ttotal: 152ms\tremaining: 895ms\n",
            "145:\tlearn: 0.4962423\ttotal: 153ms\tremaining: 893ms\n",
            "146:\tlearn: 0.4958093\ttotal: 154ms\tremaining: 892ms\n",
            "147:\tlearn: 0.4953549\ttotal: 155ms\tremaining: 890ms\n",
            "148:\tlearn: 0.4948854\ttotal: 156ms\tremaining: 889ms\n",
            "149:\tlearn: 0.4946382\ttotal: 157ms\tremaining: 888ms\n",
            "150:\tlearn: 0.4940003\ttotal: 158ms\tremaining: 886ms\n",
            "151:\tlearn: 0.4935795\ttotal: 159ms\tremaining: 889ms\n",
            "152:\tlearn: 0.4933673\ttotal: 161ms\tremaining: 892ms\n",
            "153:\tlearn: 0.4926858\ttotal: 162ms\tremaining: 893ms\n",
            "154:\tlearn: 0.4925635\ttotal: 163ms\tremaining: 891ms\n",
            "155:\tlearn: 0.4919732\ttotal: 165ms\tremaining: 890ms\n",
            "156:\tlearn: 0.4915836\ttotal: 165ms\tremaining: 888ms\n",
            "157:\tlearn: 0.4911031\ttotal: 166ms\tremaining: 886ms\n",
            "158:\tlearn: 0.4906545\ttotal: 171ms\tremaining: 903ms\n",
            "159:\tlearn: 0.4903764\ttotal: 171ms\tremaining: 900ms\n",
            "160:\tlearn: 0.4899829\ttotal: 172ms\tremaining: 899ms\n",
            "161:\tlearn: 0.4896771\ttotal: 174ms\tremaining: 899ms\n",
            "162:\tlearn: 0.4894322\ttotal: 175ms\tremaining: 897ms\n",
            "163:\tlearn: 0.4892233\ttotal: 175ms\tremaining: 894ms\n",
            "164:\tlearn: 0.4886369\ttotal: 176ms\tremaining: 893ms\n",
            "165:\tlearn: 0.4882431\ttotal: 177ms\tremaining: 891ms\n",
            "166:\tlearn: 0.4878177\ttotal: 178ms\tremaining: 889ms\n",
            "167:\tlearn: 0.4877757\ttotal: 179ms\tremaining: 887ms\n",
            "168:\tlearn: 0.4875035\ttotal: 180ms\tremaining: 885ms\n",
            "169:\tlearn: 0.4870061\ttotal: 181ms\tremaining: 883ms\n",
            "170:\tlearn: 0.4868207\ttotal: 182ms\tremaining: 882ms\n",
            "171:\tlearn: 0.4864603\ttotal: 183ms\tremaining: 880ms\n",
            "172:\tlearn: 0.4861046\ttotal: 184ms\tremaining: 878ms\n",
            "173:\tlearn: 0.4855066\ttotal: 185ms\tremaining: 876ms\n",
            "174:\tlearn: 0.4850318\ttotal: 186ms\tremaining: 875ms\n",
            "175:\tlearn: 0.4844997\ttotal: 186ms\tremaining: 873ms\n",
            "176:\tlearn: 0.4841589\ttotal: 187ms\tremaining: 871ms\n",
            "177:\tlearn: 0.4838685\ttotal: 188ms\tremaining: 869ms\n",
            "178:\tlearn: 0.4835290\ttotal: 189ms\tremaining: 868ms\n",
            "179:\tlearn: 0.4830177\ttotal: 190ms\tremaining: 866ms\n",
            "180:\tlearn: 0.4824606\ttotal: 191ms\tremaining: 864ms\n",
            "181:\tlearn: 0.4822143\ttotal: 192ms\tremaining: 862ms\n",
            "182:\tlearn: 0.4818810\ttotal: 193ms\tremaining: 861ms\n",
            "183:\tlearn: 0.4811350\ttotal: 194ms\tremaining: 859ms\n",
            "184:\tlearn: 0.4806354\ttotal: 195ms\tremaining: 858ms\n",
            "185:\tlearn: 0.4803033\ttotal: 196ms\tremaining: 856ms\n",
            "186:\tlearn: 0.4799827\ttotal: 196ms\tremaining: 854ms\n",
            "187:\tlearn: 0.4795687\ttotal: 197ms\tremaining: 853ms\n",
            "188:\tlearn: 0.4791109\ttotal: 198ms\tremaining: 851ms\n",
            "189:\tlearn: 0.4788524\ttotal: 199ms\tremaining: 850ms\n",
            "190:\tlearn: 0.4786723\ttotal: 200ms\tremaining: 848ms\n",
            "191:\tlearn: 0.4782213\ttotal: 201ms\tremaining: 846ms\n",
            "192:\tlearn: 0.4778466\ttotal: 202ms\tremaining: 844ms\n",
            "193:\tlearn: 0.4773099\ttotal: 203ms\tremaining: 843ms\n",
            "194:\tlearn: 0.4771406\ttotal: 204ms\tremaining: 841ms\n",
            "195:\tlearn: 0.4766774\ttotal: 205ms\tremaining: 839ms\n",
            "196:\tlearn: 0.4761801\ttotal: 206ms\tremaining: 838ms\n",
            "197:\tlearn: 0.4758269\ttotal: 206ms\tremaining: 836ms\n",
            "198:\tlearn: 0.4754054\ttotal: 207ms\tremaining: 834ms\n",
            "199:\tlearn: 0.4748354\ttotal: 208ms\tremaining: 833ms\n",
            "200:\tlearn: 0.4742617\ttotal: 210ms\tremaining: 833ms\n",
            "201:\tlearn: 0.4739181\ttotal: 211ms\tremaining: 835ms\n",
            "202:\tlearn: 0.4736593\ttotal: 212ms\tremaining: 833ms\n",
            "203:\tlearn: 0.4734897\ttotal: 214ms\tremaining: 835ms\n",
            "204:\tlearn: 0.4731011\ttotal: 216ms\tremaining: 837ms\n",
            "205:\tlearn: 0.4730022\ttotal: 217ms\tremaining: 835ms\n",
            "206:\tlearn: 0.4726278\ttotal: 217ms\tremaining: 833ms\n",
            "207:\tlearn: 0.4724934\ttotal: 218ms\tremaining: 831ms\n",
            "208:\tlearn: 0.4721273\ttotal: 219ms\tremaining: 830ms\n",
            "209:\tlearn: 0.4717064\ttotal: 220ms\tremaining: 828ms\n",
            "210:\tlearn: 0.4713896\ttotal: 221ms\tremaining: 826ms\n",
            "211:\tlearn: 0.4710362\ttotal: 222ms\tremaining: 825ms\n",
            "212:\tlearn: 0.4708612\ttotal: 223ms\tremaining: 823ms\n",
            "213:\tlearn: 0.4706487\ttotal: 223ms\tremaining: 821ms\n",
            "214:\tlearn: 0.4701948\ttotal: 224ms\tremaining: 819ms\n",
            "215:\tlearn: 0.4698832\ttotal: 225ms\tremaining: 818ms\n",
            "216:\tlearn: 0.4696430\ttotal: 226ms\tremaining: 816ms\n",
            "217:\tlearn: 0.4693991\ttotal: 227ms\tremaining: 814ms\n",
            "218:\tlearn: 0.4689982\ttotal: 228ms\tremaining: 813ms\n",
            "219:\tlearn: 0.4687001\ttotal: 229ms\tremaining: 811ms\n",
            "220:\tlearn: 0.4686683\ttotal: 229ms\tremaining: 809ms\n",
            "221:\tlearn: 0.4683769\ttotal: 230ms\tremaining: 807ms\n",
            "222:\tlearn: 0.4681323\ttotal: 231ms\tremaining: 806ms\n",
            "223:\tlearn: 0.4677762\ttotal: 232ms\tremaining: 804ms\n",
            "224:\tlearn: 0.4675615\ttotal: 233ms\tremaining: 803ms\n",
            "225:\tlearn: 0.4670938\ttotal: 234ms\tremaining: 802ms\n",
            "226:\tlearn: 0.4669256\ttotal: 235ms\tremaining: 800ms\n",
            "227:\tlearn: 0.4667293\ttotal: 236ms\tremaining: 799ms\n",
            "228:\tlearn: 0.4663314\ttotal: 237ms\tremaining: 797ms\n",
            "229:\tlearn: 0.4659060\ttotal: 238ms\tremaining: 796ms\n",
            "230:\tlearn: 0.4657601\ttotal: 239ms\tremaining: 794ms\n",
            "231:\tlearn: 0.4654503\ttotal: 239ms\tremaining: 793ms\n",
            "232:\tlearn: 0.4649954\ttotal: 240ms\tremaining: 791ms\n",
            "233:\tlearn: 0.4646765\ttotal: 241ms\tremaining: 790ms\n",
            "234:\tlearn: 0.4644301\ttotal: 242ms\tremaining: 788ms\n",
            "235:\tlearn: 0.4640131\ttotal: 243ms\tremaining: 787ms\n",
            "236:\tlearn: 0.4637252\ttotal: 244ms\tremaining: 786ms\n",
            "237:\tlearn: 0.4633687\ttotal: 245ms\tremaining: 784ms\n",
            "238:\tlearn: 0.4629924\ttotal: 246ms\tremaining: 783ms\n",
            "239:\tlearn: 0.4628264\ttotal: 247ms\tremaining: 782ms\n",
            "240:\tlearn: 0.4623891\ttotal: 248ms\tremaining: 780ms\n",
            "241:\tlearn: 0.4621727\ttotal: 249ms\tremaining: 779ms\n",
            "242:\tlearn: 0.4619942\ttotal: 250ms\tremaining: 778ms\n",
            "243:\tlearn: 0.4616402\ttotal: 250ms\tremaining: 776ms\n",
            "244:\tlearn: 0.4613806\ttotal: 251ms\tremaining: 775ms\n",
            "245:\tlearn: 0.4611463\ttotal: 252ms\tremaining: 773ms\n",
            "246:\tlearn: 0.4608321\ttotal: 253ms\tremaining: 772ms\n",
            "247:\tlearn: 0.4606135\ttotal: 254ms\tremaining: 770ms\n",
            "248:\tlearn: 0.4603835\ttotal: 255ms\tremaining: 769ms\n",
            "249:\tlearn: 0.4601060\ttotal: 256ms\tremaining: 767ms\n",
            "250:\tlearn: 0.4600739\ttotal: 257ms\tremaining: 766ms\n",
            "251:\tlearn: 0.4598527\ttotal: 257ms\tremaining: 764ms\n",
            "252:\tlearn: 0.4595644\ttotal: 258ms\tremaining: 763ms\n",
            "253:\tlearn: 0.4592340\ttotal: 259ms\tremaining: 761ms\n",
            "254:\tlearn: 0.4588000\ttotal: 260ms\tremaining: 760ms\n",
            "255:\tlearn: 0.4584101\ttotal: 261ms\tremaining: 759ms\n",
            "256:\tlearn: 0.4581157\ttotal: 262ms\tremaining: 758ms\n",
            "257:\tlearn: 0.4578131\ttotal: 263ms\tremaining: 756ms\n",
            "258:\tlearn: 0.4572852\ttotal: 264ms\tremaining: 755ms\n",
            "259:\tlearn: 0.4570215\ttotal: 265ms\tremaining: 754ms\n",
            "260:\tlearn: 0.4569162\ttotal: 266ms\tremaining: 752ms\n",
            "261:\tlearn: 0.4565468\ttotal: 266ms\tremaining: 751ms\n",
            "262:\tlearn: 0.4562667\ttotal: 267ms\tremaining: 749ms\n",
            "263:\tlearn: 0.4561131\ttotal: 268ms\tremaining: 748ms\n",
            "264:\tlearn: 0.4559107\ttotal: 269ms\tremaining: 746ms\n",
            "265:\tlearn: 0.4556954\ttotal: 270ms\tremaining: 745ms\n",
            "266:\tlearn: 0.4552565\ttotal: 271ms\tremaining: 744ms\n",
            "267:\tlearn: 0.4550030\ttotal: 272ms\tremaining: 742ms\n",
            "268:\tlearn: 0.4545743\ttotal: 273ms\tremaining: 741ms\n",
            "269:\tlearn: 0.4543000\ttotal: 274ms\tremaining: 740ms\n",
            "270:\tlearn: 0.4539835\ttotal: 274ms\tremaining: 738ms\n",
            "271:\tlearn: 0.4536796\ttotal: 275ms\tremaining: 737ms\n",
            "272:\tlearn: 0.4535737\ttotal: 276ms\tremaining: 735ms\n",
            "273:\tlearn: 0.4532772\ttotal: 277ms\tremaining: 734ms\n",
            "274:\tlearn: 0.4528687\ttotal: 278ms\tremaining: 733ms\n",
            "275:\tlearn: 0.4528352\ttotal: 279ms\tremaining: 731ms\n",
            "276:\tlearn: 0.4526068\ttotal: 279ms\tremaining: 729ms\n",
            "277:\tlearn: 0.4522121\ttotal: 280ms\tremaining: 728ms\n",
            "278:\tlearn: 0.4518775\ttotal: 281ms\tremaining: 727ms\n",
            "279:\tlearn: 0.4514794\ttotal: 282ms\tremaining: 725ms\n",
            "280:\tlearn: 0.4512127\ttotal: 283ms\tremaining: 724ms\n",
            "281:\tlearn: 0.4509024\ttotal: 284ms\tremaining: 723ms\n",
            "282:\tlearn: 0.4507017\ttotal: 285ms\tremaining: 722ms\n",
            "283:\tlearn: 0.4502850\ttotal: 287ms\tremaining: 723ms\n",
            "284:\tlearn: 0.4500395\ttotal: 289ms\tremaining: 725ms\n",
            "285:\tlearn: 0.4499027\ttotal: 290ms\tremaining: 725ms\n",
            "286:\tlearn: 0.4493622\ttotal: 292ms\tremaining: 725ms\n",
            "287:\tlearn: 0.4490114\ttotal: 293ms\tremaining: 723ms\n",
            "288:\tlearn: 0.4489221\ttotal: 293ms\tremaining: 722ms\n",
            "289:\tlearn: 0.4486846\ttotal: 294ms\tremaining: 721ms\n",
            "290:\tlearn: 0.4484350\ttotal: 296ms\tremaining: 720ms\n",
            "291:\tlearn: 0.4482642\ttotal: 297ms\tremaining: 719ms\n",
            "292:\tlearn: 0.4479215\ttotal: 297ms\tremaining: 718ms\n",
            "293:\tlearn: 0.4477058\ttotal: 298ms\tremaining: 717ms\n",
            "294:\tlearn: 0.4474780\ttotal: 299ms\tremaining: 715ms\n",
            "295:\tlearn: 0.4473306\ttotal: 300ms\tremaining: 714ms\n",
            "296:\tlearn: 0.4470432\ttotal: 301ms\tremaining: 713ms\n",
            "297:\tlearn: 0.4467408\ttotal: 302ms\tremaining: 711ms\n",
            "298:\tlearn: 0.4462889\ttotal: 303ms\tremaining: 710ms\n",
            "299:\tlearn: 0.4461948\ttotal: 304ms\tremaining: 708ms\n",
            "300:\tlearn: 0.4460200\ttotal: 304ms\tremaining: 707ms\n",
            "301:\tlearn: 0.4457720\ttotal: 305ms\tremaining: 706ms\n",
            "302:\tlearn: 0.4455403\ttotal: 306ms\tremaining: 704ms\n",
            "303:\tlearn: 0.4451322\ttotal: 307ms\tremaining: 703ms\n",
            "304:\tlearn: 0.4448905\ttotal: 308ms\tremaining: 702ms\n",
            "305:\tlearn: 0.4446007\ttotal: 309ms\tremaining: 701ms\n",
            "306:\tlearn: 0.4444190\ttotal: 310ms\tremaining: 699ms\n",
            "307:\tlearn: 0.4440634\ttotal: 311ms\tremaining: 698ms\n",
            "308:\tlearn: 0.4438756\ttotal: 312ms\tremaining: 697ms\n",
            "309:\tlearn: 0.4436088\ttotal: 312ms\tremaining: 695ms\n",
            "310:\tlearn: 0.4432912\ttotal: 314ms\tremaining: 695ms\n",
            "311:\tlearn: 0.4430120\ttotal: 314ms\tremaining: 694ms\n",
            "312:\tlearn: 0.4429121\ttotal: 315ms\tremaining: 692ms\n",
            "313:\tlearn: 0.4425524\ttotal: 316ms\tremaining: 691ms\n",
            "314:\tlearn: 0.4424590\ttotal: 317ms\tremaining: 690ms\n",
            "315:\tlearn: 0.4421028\ttotal: 318ms\tremaining: 688ms\n",
            "316:\tlearn: 0.4417700\ttotal: 319ms\tremaining: 687ms\n",
            "317:\tlearn: 0.4414510\ttotal: 320ms\tremaining: 686ms\n",
            "318:\tlearn: 0.4411031\ttotal: 321ms\tremaining: 685ms\n",
            "319:\tlearn: 0.4408292\ttotal: 322ms\tremaining: 684ms\n",
            "320:\tlearn: 0.4404123\ttotal: 323ms\tremaining: 682ms\n",
            "321:\tlearn: 0.4401329\ttotal: 323ms\tremaining: 681ms\n",
            "322:\tlearn: 0.4398764\ttotal: 324ms\tremaining: 680ms\n",
            "323:\tlearn: 0.4396590\ttotal: 325ms\tremaining: 679ms\n",
            "324:\tlearn: 0.4394929\ttotal: 326ms\tremaining: 677ms\n",
            "325:\tlearn: 0.4393431\ttotal: 327ms\tremaining: 676ms\n",
            "326:\tlearn: 0.4390172\ttotal: 328ms\tremaining: 675ms\n",
            "327:\tlearn: 0.4387167\ttotal: 329ms\tremaining: 674ms\n",
            "328:\tlearn: 0.4383154\ttotal: 330ms\tremaining: 672ms\n",
            "329:\tlearn: 0.4382381\ttotal: 330ms\tremaining: 671ms\n",
            "330:\tlearn: 0.4379292\ttotal: 331ms\tremaining: 670ms\n",
            "331:\tlearn: 0.4376984\ttotal: 332ms\tremaining: 668ms\n",
            "332:\tlearn: 0.4376389\ttotal: 333ms\tremaining: 667ms\n",
            "333:\tlearn: 0.4371423\ttotal: 334ms\tremaining: 666ms\n",
            "334:\tlearn: 0.4369366\ttotal: 335ms\tremaining: 665ms\n",
            "335:\tlearn: 0.4363866\ttotal: 336ms\tremaining: 663ms\n",
            "336:\tlearn: 0.4359664\ttotal: 337ms\tremaining: 662ms\n",
            "337:\tlearn: 0.4354269\ttotal: 337ms\tremaining: 661ms\n",
            "338:\tlearn: 0.4352025\ttotal: 338ms\tremaining: 660ms\n",
            "339:\tlearn: 0.4351435\ttotal: 339ms\tremaining: 658ms\n",
            "340:\tlearn: 0.4350405\ttotal: 341ms\tremaining: 660ms\n",
            "341:\tlearn: 0.4347589\ttotal: 342ms\tremaining: 658ms\n",
            "342:\tlearn: 0.4345729\ttotal: 343ms\tremaining: 657ms\n",
            "343:\tlearn: 0.4343641\ttotal: 344ms\tremaining: 655ms\n",
            "344:\tlearn: 0.4341269\ttotal: 344ms\tremaining: 654ms\n",
            "345:\tlearn: 0.4337682\ttotal: 345ms\tremaining: 653ms\n",
            "346:\tlearn: 0.4336824\ttotal: 346ms\tremaining: 651ms\n",
            "347:\tlearn: 0.4333316\ttotal: 347ms\tremaining: 650ms\n",
            "348:\tlearn: 0.4331370\ttotal: 350ms\tremaining: 653ms\n",
            "349:\tlearn: 0.4329646\ttotal: 351ms\tremaining: 652ms\n",
            "350:\tlearn: 0.4328211\ttotal: 352ms\tremaining: 650ms\n",
            "351:\tlearn: 0.4326778\ttotal: 353ms\tremaining: 649ms\n",
            "352:\tlearn: 0.4324679\ttotal: 354ms\tremaining: 648ms\n",
            "353:\tlearn: 0.4322381\ttotal: 355ms\tremaining: 647ms\n",
            "354:\tlearn: 0.4318000\ttotal: 355ms\tremaining: 646ms\n",
            "355:\tlearn: 0.4314467\ttotal: 356ms\tremaining: 645ms\n",
            "356:\tlearn: 0.4313069\ttotal: 357ms\tremaining: 643ms\n",
            "357:\tlearn: 0.4311616\ttotal: 358ms\tremaining: 642ms\n",
            "358:\tlearn: 0.4309455\ttotal: 359ms\tremaining: 641ms\n",
            "359:\tlearn: 0.4307228\ttotal: 360ms\tremaining: 640ms\n",
            "360:\tlearn: 0.4305276\ttotal: 361ms\tremaining: 639ms\n",
            "361:\tlearn: 0.4302946\ttotal: 362ms\tremaining: 637ms\n",
            "362:\tlearn: 0.4300670\ttotal: 363ms\tremaining: 636ms\n",
            "363:\tlearn: 0.4299516\ttotal: 363ms\tremaining: 635ms\n",
            "364:\tlearn: 0.4297513\ttotal: 364ms\tremaining: 634ms\n",
            "365:\tlearn: 0.4295187\ttotal: 365ms\tremaining: 633ms\n",
            "366:\tlearn: 0.4292716\ttotal: 368ms\tremaining: 634ms\n",
            "367:\tlearn: 0.4291016\ttotal: 369ms\tremaining: 634ms\n",
            "368:\tlearn: 0.4289546\ttotal: 370ms\tremaining: 633ms\n",
            "369:\tlearn: 0.4287574\ttotal: 372ms\tremaining: 634ms\n",
            "370:\tlearn: 0.4286465\ttotal: 373ms\tremaining: 633ms\n",
            "371:\tlearn: 0.4284911\ttotal: 374ms\tremaining: 632ms\n",
            "372:\tlearn: 0.4283287\ttotal: 375ms\tremaining: 630ms\n",
            "373:\tlearn: 0.4281581\ttotal: 376ms\tremaining: 629ms\n",
            "374:\tlearn: 0.4278608\ttotal: 377ms\tremaining: 628ms\n",
            "375:\tlearn: 0.4276476\ttotal: 378ms\tremaining: 627ms\n",
            "376:\tlearn: 0.4274635\ttotal: 379ms\tremaining: 625ms\n",
            "377:\tlearn: 0.4273849\ttotal: 380ms\tremaining: 625ms\n",
            "378:\tlearn: 0.4271533\ttotal: 381ms\tremaining: 624ms\n",
            "379:\tlearn: 0.4270045\ttotal: 381ms\tremaining: 622ms\n",
            "380:\tlearn: 0.4267765\ttotal: 382ms\tremaining: 621ms\n",
            "381:\tlearn: 0.4265701\ttotal: 383ms\tremaining: 620ms\n",
            "382:\tlearn: 0.4262447\ttotal: 384ms\tremaining: 619ms\n",
            "383:\tlearn: 0.4262051\ttotal: 385ms\tremaining: 618ms\n",
            "384:\tlearn: 0.4259882\ttotal: 386ms\tremaining: 616ms\n",
            "385:\tlearn: 0.4258334\ttotal: 387ms\tremaining: 615ms\n",
            "386:\tlearn: 0.4255430\ttotal: 388ms\tremaining: 614ms\n",
            "387:\tlearn: 0.4252650\ttotal: 388ms\tremaining: 613ms\n",
            "388:\tlearn: 0.4250839\ttotal: 389ms\tremaining: 612ms\n",
            "389:\tlearn: 0.4247590\ttotal: 390ms\tremaining: 610ms\n",
            "390:\tlearn: 0.4245368\ttotal: 391ms\tremaining: 609ms\n",
            "391:\tlearn: 0.4243815\ttotal: 392ms\tremaining: 608ms\n",
            "392:\tlearn: 0.4240386\ttotal: 393ms\tremaining: 607ms\n",
            "393:\tlearn: 0.4238593\ttotal: 394ms\tremaining: 606ms\n",
            "394:\tlearn: 0.4237594\ttotal: 395ms\tremaining: 605ms\n",
            "395:\tlearn: 0.4233886\ttotal: 396ms\tremaining: 603ms\n",
            "396:\tlearn: 0.4230769\ttotal: 397ms\tremaining: 602ms\n",
            "397:\tlearn: 0.4227567\ttotal: 397ms\tremaining: 601ms\n",
            "398:\tlearn: 0.4224941\ttotal: 398ms\tremaining: 600ms\n",
            "399:\tlearn: 0.4223342\ttotal: 399ms\tremaining: 599ms\n",
            "400:\tlearn: 0.4221384\ttotal: 400ms\tremaining: 598ms\n",
            "401:\tlearn: 0.4219752\ttotal: 401ms\tremaining: 597ms\n",
            "402:\tlearn: 0.4217787\ttotal: 402ms\tremaining: 595ms\n",
            "403:\tlearn: 0.4215895\ttotal: 403ms\tremaining: 594ms\n",
            "404:\tlearn: 0.4213858\ttotal: 404ms\tremaining: 593ms\n",
            "405:\tlearn: 0.4211183\ttotal: 405ms\tremaining: 592ms\n",
            "406:\tlearn: 0.4208790\ttotal: 405ms\tremaining: 591ms\n",
            "407:\tlearn: 0.4207451\ttotal: 406ms\tremaining: 589ms\n",
            "408:\tlearn: 0.4206532\ttotal: 407ms\tremaining: 588ms\n",
            "409:\tlearn: 0.4204647\ttotal: 408ms\tremaining: 587ms\n",
            "410:\tlearn: 0.4202289\ttotal: 409ms\tremaining: 586ms\n",
            "411:\tlearn: 0.4199845\ttotal: 410ms\tremaining: 584ms\n",
            "412:\tlearn: 0.4197548\ttotal: 410ms\tremaining: 583ms\n",
            "413:\tlearn: 0.4195871\ttotal: 411ms\tremaining: 582ms\n",
            "414:\tlearn: 0.4194268\ttotal: 412ms\tremaining: 581ms\n",
            "415:\tlearn: 0.4192761\ttotal: 413ms\tremaining: 580ms\n",
            "416:\tlearn: 0.4190951\ttotal: 414ms\tremaining: 579ms\n",
            "417:\tlearn: 0.4189600\ttotal: 415ms\tremaining: 578ms\n",
            "418:\tlearn: 0.4188471\ttotal: 416ms\tremaining: 576ms\n",
            "419:\tlearn: 0.4186413\ttotal: 417ms\tremaining: 575ms\n",
            "420:\tlearn: 0.4184121\ttotal: 418ms\tremaining: 574ms\n",
            "421:\tlearn: 0.4182710\ttotal: 418ms\tremaining: 573ms\n",
            "422:\tlearn: 0.4181291\ttotal: 419ms\tremaining: 572ms\n",
            "423:\tlearn: 0.4178317\ttotal: 420ms\tremaining: 571ms\n",
            "424:\tlearn: 0.4175535\ttotal: 421ms\tremaining: 570ms\n",
            "425:\tlearn: 0.4172702\ttotal: 422ms\tremaining: 569ms\n",
            "426:\tlearn: 0.4169851\ttotal: 423ms\tremaining: 568ms\n",
            "427:\tlearn: 0.4168762\ttotal: 424ms\tremaining: 566ms\n",
            "428:\tlearn: 0.4167113\ttotal: 425ms\tremaining: 565ms\n",
            "429:\tlearn: 0.4164314\ttotal: 426ms\tremaining: 564ms\n",
            "430:\tlearn: 0.4162821\ttotal: 426ms\tremaining: 563ms\n",
            "431:\tlearn: 0.4161268\ttotal: 427ms\tremaining: 562ms\n",
            "432:\tlearn: 0.4158782\ttotal: 428ms\tremaining: 561ms\n",
            "433:\tlearn: 0.4157751\ttotal: 429ms\tremaining: 560ms\n",
            "434:\tlearn: 0.4156822\ttotal: 430ms\tremaining: 559ms\n",
            "435:\tlearn: 0.4154907\ttotal: 431ms\tremaining: 557ms\n",
            "436:\tlearn: 0.4153244\ttotal: 432ms\tremaining: 556ms\n",
            "437:\tlearn: 0.4151952\ttotal: 433ms\tremaining: 555ms\n",
            "438:\tlearn: 0.4149613\ttotal: 434ms\tremaining: 554ms\n",
            "439:\tlearn: 0.4147637\ttotal: 435ms\tremaining: 553ms\n",
            "440:\tlearn: 0.4146474\ttotal: 435ms\tremaining: 552ms\n",
            "441:\tlearn: 0.4144630\ttotal: 436ms\tremaining: 551ms\n",
            "442:\tlearn: 0.4142057\ttotal: 437ms\tremaining: 550ms\n",
            "443:\tlearn: 0.4140302\ttotal: 438ms\tremaining: 549ms\n",
            "444:\tlearn: 0.4137049\ttotal: 439ms\tremaining: 548ms\n",
            "445:\tlearn: 0.4135657\ttotal: 440ms\tremaining: 546ms\n",
            "446:\tlearn: 0.4134679\ttotal: 441ms\tremaining: 545ms\n",
            "447:\tlearn: 0.4132779\ttotal: 442ms\tremaining: 544ms\n",
            "448:\tlearn: 0.4130583\ttotal: 443ms\tremaining: 543ms\n",
            "449:\tlearn: 0.4128750\ttotal: 444ms\tremaining: 542ms\n",
            "450:\tlearn: 0.4126855\ttotal: 445ms\tremaining: 541ms\n",
            "451:\tlearn: 0.4125078\ttotal: 446ms\tremaining: 540ms\n",
            "452:\tlearn: 0.4122307\ttotal: 447ms\tremaining: 539ms\n",
            "453:\tlearn: 0.4119556\ttotal: 448ms\tremaining: 538ms\n",
            "454:\tlearn: 0.4119239\ttotal: 448ms\tremaining: 537ms\n",
            "455:\tlearn: 0.4117420\ttotal: 449ms\tremaining: 536ms\n",
            "456:\tlearn: 0.4116247\ttotal: 450ms\tremaining: 535ms\n",
            "457:\tlearn: 0.4114332\ttotal: 452ms\tremaining: 534ms\n",
            "458:\tlearn: 0.4112886\ttotal: 453ms\tremaining: 533ms\n",
            "459:\tlearn: 0.4111105\ttotal: 453ms\tremaining: 532ms\n",
            "460:\tlearn: 0.4108642\ttotal: 454ms\tremaining: 531ms\n",
            "461:\tlearn: 0.4107681\ttotal: 455ms\tremaining: 530ms\n",
            "462:\tlearn: 0.4105873\ttotal: 456ms\tremaining: 529ms\n",
            "463:\tlearn: 0.4105158\ttotal: 457ms\tremaining: 528ms\n",
            "464:\tlearn: 0.4103758\ttotal: 458ms\tremaining: 527ms\n",
            "465:\tlearn: 0.4103145\ttotal: 459ms\tremaining: 526ms\n",
            "466:\tlearn: 0.4101864\ttotal: 460ms\tremaining: 525ms\n",
            "467:\tlearn: 0.4100130\ttotal: 461ms\tremaining: 524ms\n",
            "468:\tlearn: 0.4098103\ttotal: 462ms\tremaining: 523ms\n",
            "469:\tlearn: 0.4097252\ttotal: 464ms\tremaining: 524ms\n",
            "470:\tlearn: 0.4095051\ttotal: 466ms\tremaining: 524ms\n",
            "471:\tlearn: 0.4093934\ttotal: 467ms\tremaining: 523ms\n",
            "472:\tlearn: 0.4092365\ttotal: 468ms\tremaining: 522ms\n",
            "473:\tlearn: 0.4090327\ttotal: 469ms\tremaining: 521ms\n",
            "474:\tlearn: 0.4088971\ttotal: 470ms\tremaining: 519ms\n",
            "475:\tlearn: 0.4085750\ttotal: 471ms\tremaining: 518ms\n",
            "476:\tlearn: 0.4084488\ttotal: 472ms\tremaining: 517ms\n",
            "477:\tlearn: 0.4081831\ttotal: 473ms\tremaining: 516ms\n",
            "478:\tlearn: 0.4080255\ttotal: 474ms\tremaining: 515ms\n",
            "479:\tlearn: 0.4078098\ttotal: 475ms\tremaining: 514ms\n",
            "480:\tlearn: 0.4077500\ttotal: 475ms\tremaining: 513ms\n",
            "481:\tlearn: 0.4075671\ttotal: 476ms\tremaining: 512ms\n",
            "482:\tlearn: 0.4073272\ttotal: 477ms\tremaining: 511ms\n",
            "483:\tlearn: 0.4070748\ttotal: 478ms\tremaining: 510ms\n",
            "484:\tlearn: 0.4068557\ttotal: 479ms\tremaining: 508ms\n",
            "485:\tlearn: 0.4066956\ttotal: 480ms\tremaining: 507ms\n",
            "486:\tlearn: 0.4064043\ttotal: 481ms\tremaining: 506ms\n",
            "487:\tlearn: 0.4062889\ttotal: 482ms\tremaining: 505ms\n",
            "488:\tlearn: 0.4061558\ttotal: 482ms\tremaining: 504ms\n",
            "489:\tlearn: 0.4059880\ttotal: 483ms\tremaining: 503ms\n",
            "490:\tlearn: 0.4059879\ttotal: 484ms\tremaining: 502ms\n",
            "491:\tlearn: 0.4059338\ttotal: 485ms\tremaining: 501ms\n",
            "492:\tlearn: 0.4058183\ttotal: 486ms\tremaining: 499ms\n",
            "493:\tlearn: 0.4056530\ttotal: 487ms\tremaining: 498ms\n",
            "494:\tlearn: 0.4055167\ttotal: 487ms\tremaining: 497ms\n",
            "495:\tlearn: 0.4053102\ttotal: 488ms\tremaining: 496ms\n",
            "496:\tlearn: 0.4052121\ttotal: 489ms\tremaining: 495ms\n",
            "497:\tlearn: 0.4050521\ttotal: 490ms\tremaining: 494ms\n",
            "498:\tlearn: 0.4048972\ttotal: 491ms\tremaining: 493ms\n",
            "499:\tlearn: 0.4047562\ttotal: 492ms\tremaining: 492ms\n",
            "500:\tlearn: 0.4045635\ttotal: 493ms\tremaining: 491ms\n",
            "501:\tlearn: 0.4044358\ttotal: 494ms\tremaining: 490ms\n",
            "502:\tlearn: 0.4041621\ttotal: 495ms\tremaining: 489ms\n",
            "503:\tlearn: 0.4040468\ttotal: 495ms\tremaining: 488ms\n",
            "504:\tlearn: 0.4038292\ttotal: 496ms\tremaining: 487ms\n",
            "505:\tlearn: 0.4036291\ttotal: 497ms\tremaining: 485ms\n",
            "506:\tlearn: 0.4033631\ttotal: 498ms\tremaining: 484ms\n",
            "507:\tlearn: 0.4032001\ttotal: 499ms\tremaining: 483ms\n",
            "508:\tlearn: 0.4030541\ttotal: 500ms\tremaining: 482ms\n",
            "509:\tlearn: 0.4028138\ttotal: 501ms\tremaining: 481ms\n",
            "510:\tlearn: 0.4026257\ttotal: 502ms\tremaining: 480ms\n",
            "511:\tlearn: 0.4025482\ttotal: 503ms\tremaining: 479ms\n",
            "512:\tlearn: 0.4023509\ttotal: 504ms\tremaining: 478ms\n",
            "513:\tlearn: 0.4022012\ttotal: 504ms\tremaining: 477ms\n",
            "514:\tlearn: 0.4020207\ttotal: 505ms\tremaining: 476ms\n",
            "515:\tlearn: 0.4017820\ttotal: 506ms\tremaining: 475ms\n",
            "516:\tlearn: 0.4014997\ttotal: 507ms\tremaining: 474ms\n",
            "517:\tlearn: 0.4014055\ttotal: 508ms\tremaining: 473ms\n",
            "518:\tlearn: 0.4011946\ttotal: 509ms\tremaining: 472ms\n",
            "519:\tlearn: 0.4010226\ttotal: 510ms\tremaining: 471ms\n",
            "520:\tlearn: 0.4008629\ttotal: 511ms\tremaining: 470ms\n",
            "521:\tlearn: 0.4007301\ttotal: 512ms\tremaining: 468ms\n",
            "522:\tlearn: 0.4004262\ttotal: 513ms\tremaining: 467ms\n",
            "523:\tlearn: 0.4003140\ttotal: 513ms\tremaining: 466ms\n",
            "524:\tlearn: 0.4001154\ttotal: 514ms\tremaining: 465ms\n",
            "525:\tlearn: 0.3999420\ttotal: 515ms\tremaining: 464ms\n",
            "526:\tlearn: 0.3998001\ttotal: 516ms\tremaining: 463ms\n",
            "527:\tlearn: 0.3996844\ttotal: 517ms\tremaining: 462ms\n",
            "528:\tlearn: 0.3995461\ttotal: 518ms\tremaining: 461ms\n",
            "529:\tlearn: 0.3993957\ttotal: 519ms\tremaining: 460ms\n",
            "530:\tlearn: 0.3991831\ttotal: 520ms\tremaining: 459ms\n",
            "531:\tlearn: 0.3989705\ttotal: 520ms\tremaining: 458ms\n",
            "532:\tlearn: 0.3988834\ttotal: 521ms\tremaining: 457ms\n",
            "533:\tlearn: 0.3985219\ttotal: 523ms\tremaining: 457ms\n",
            "534:\tlearn: 0.3983987\ttotal: 524ms\tremaining: 455ms\n",
            "535:\tlearn: 0.3983275\ttotal: 529ms\tremaining: 458ms\n",
            "536:\tlearn: 0.3981872\ttotal: 530ms\tremaining: 457ms\n",
            "537:\tlearn: 0.3980802\ttotal: 531ms\tremaining: 456ms\n",
            "538:\tlearn: 0.3978898\ttotal: 532ms\tremaining: 455ms\n",
            "539:\tlearn: 0.3977544\ttotal: 533ms\tremaining: 454ms\n",
            "540:\tlearn: 0.3975567\ttotal: 534ms\tremaining: 453ms\n",
            "541:\tlearn: 0.3974449\ttotal: 535ms\tremaining: 452ms\n",
            "542:\tlearn: 0.3972835\ttotal: 535ms\tremaining: 451ms\n",
            "543:\tlearn: 0.3971055\ttotal: 536ms\tremaining: 449ms\n",
            "544:\tlearn: 0.3968345\ttotal: 537ms\tremaining: 448ms\n",
            "545:\tlearn: 0.3966479\ttotal: 538ms\tremaining: 447ms\n",
            "546:\tlearn: 0.3964209\ttotal: 539ms\tremaining: 446ms\n",
            "547:\tlearn: 0.3962986\ttotal: 540ms\tremaining: 445ms\n",
            "548:\tlearn: 0.3961101\ttotal: 541ms\tremaining: 444ms\n",
            "549:\tlearn: 0.3959391\ttotal: 542ms\tremaining: 443ms\n",
            "550:\tlearn: 0.3957822\ttotal: 543ms\tremaining: 442ms\n",
            "551:\tlearn: 0.3955741\ttotal: 543ms\tremaining: 441ms\n",
            "552:\tlearn: 0.3952156\ttotal: 544ms\tremaining: 440ms\n",
            "553:\tlearn: 0.3951178\ttotal: 545ms\tremaining: 439ms\n",
            "554:\tlearn: 0.3949681\ttotal: 546ms\tremaining: 438ms\n",
            "555:\tlearn: 0.3948257\ttotal: 547ms\tremaining: 437ms\n",
            "556:\tlearn: 0.3947592\ttotal: 548ms\tremaining: 436ms\n",
            "557:\tlearn: 0.3945737\ttotal: 549ms\tremaining: 435ms\n",
            "558:\tlearn: 0.3944200\ttotal: 550ms\tremaining: 434ms\n",
            "559:\tlearn: 0.3942644\ttotal: 551ms\tremaining: 433ms\n",
            "560:\tlearn: 0.3941708\ttotal: 552ms\tremaining: 432ms\n",
            "561:\tlearn: 0.3940632\ttotal: 553ms\tremaining: 431ms\n",
            "562:\tlearn: 0.3939968\ttotal: 554ms\tremaining: 430ms\n",
            "563:\tlearn: 0.3938728\ttotal: 554ms\tremaining: 429ms\n",
            "564:\tlearn: 0.3937254\ttotal: 555ms\tremaining: 428ms\n",
            "565:\tlearn: 0.3935556\ttotal: 556ms\tremaining: 427ms\n",
            "566:\tlearn: 0.3933130\ttotal: 557ms\tremaining: 426ms\n",
            "567:\tlearn: 0.3930777\ttotal: 558ms\tremaining: 424ms\n",
            "568:\tlearn: 0.3927566\ttotal: 559ms\tremaining: 423ms\n",
            "569:\tlearn: 0.3926115\ttotal: 560ms\tremaining: 422ms\n",
            "570:\tlearn: 0.3925140\ttotal: 561ms\tremaining: 421ms\n",
            "571:\tlearn: 0.3924271\ttotal: 562ms\tremaining: 420ms\n",
            "572:\tlearn: 0.3923281\ttotal: 563ms\tremaining: 419ms\n",
            "573:\tlearn: 0.3919840\ttotal: 563ms\tremaining: 418ms\n",
            "574:\tlearn: 0.3918662\ttotal: 564ms\tremaining: 417ms\n",
            "575:\tlearn: 0.3917831\ttotal: 565ms\tremaining: 416ms\n",
            "576:\tlearn: 0.3916944\ttotal: 566ms\tremaining: 415ms\n",
            "577:\tlearn: 0.3914893\ttotal: 567ms\tremaining: 414ms\n",
            "578:\tlearn: 0.3913507\ttotal: 568ms\tremaining: 413ms\n",
            "579:\tlearn: 0.3911691\ttotal: 569ms\tremaining: 412ms\n",
            "580:\tlearn: 0.3910106\ttotal: 570ms\tremaining: 411ms\n",
            "581:\tlearn: 0.3908307\ttotal: 571ms\tremaining: 410ms\n",
            "582:\tlearn: 0.3907551\ttotal: 572ms\tremaining: 409ms\n",
            "583:\tlearn: 0.3905379\ttotal: 572ms\tremaining: 408ms\n",
            "584:\tlearn: 0.3904041\ttotal: 573ms\tremaining: 407ms\n",
            "585:\tlearn: 0.3901665\ttotal: 574ms\tremaining: 406ms\n",
            "586:\tlearn: 0.3900866\ttotal: 575ms\tremaining: 405ms\n",
            "587:\tlearn: 0.3898718\ttotal: 576ms\tremaining: 404ms\n",
            "588:\tlearn: 0.3896052\ttotal: 577ms\tremaining: 403ms\n",
            "589:\tlearn: 0.3894222\ttotal: 578ms\tremaining: 402ms\n",
            "590:\tlearn: 0.3892934\ttotal: 579ms\tremaining: 401ms\n",
            "591:\tlearn: 0.3891895\ttotal: 580ms\tremaining: 400ms\n",
            "592:\tlearn: 0.3889301\ttotal: 581ms\tremaining: 398ms\n",
            "593:\tlearn: 0.3887878\ttotal: 581ms\tremaining: 397ms\n",
            "594:\tlearn: 0.3886618\ttotal: 582ms\tremaining: 396ms\n",
            "595:\tlearn: 0.3885425\ttotal: 583ms\tremaining: 395ms\n",
            "596:\tlearn: 0.3882798\ttotal: 584ms\tremaining: 394ms\n",
            "597:\tlearn: 0.3881891\ttotal: 585ms\tremaining: 393ms\n",
            "598:\tlearn: 0.3880699\ttotal: 586ms\tremaining: 392ms\n",
            "599:\tlearn: 0.3879146\ttotal: 587ms\tremaining: 391ms\n",
            "600:\tlearn: 0.3876965\ttotal: 588ms\tremaining: 390ms\n",
            "601:\tlearn: 0.3875401\ttotal: 588ms\tremaining: 389ms\n",
            "602:\tlearn: 0.3874871\ttotal: 589ms\tremaining: 388ms\n",
            "603:\tlearn: 0.3873434\ttotal: 590ms\tremaining: 387ms\n",
            "604:\tlearn: 0.3872448\ttotal: 591ms\tremaining: 386ms\n",
            "605:\tlearn: 0.3871126\ttotal: 592ms\tremaining: 385ms\n",
            "606:\tlearn: 0.3869191\ttotal: 593ms\tremaining: 384ms\n",
            "607:\tlearn: 0.3866911\ttotal: 594ms\tremaining: 383ms\n",
            "608:\tlearn: 0.3866250\ttotal: 595ms\tremaining: 382ms\n",
            "609:\tlearn: 0.3863452\ttotal: 596ms\tremaining: 381ms\n",
            "610:\tlearn: 0.3860881\ttotal: 597ms\tremaining: 380ms\n",
            "611:\tlearn: 0.3859660\ttotal: 598ms\tremaining: 379ms\n",
            "612:\tlearn: 0.3858821\ttotal: 599ms\tremaining: 378ms\n",
            "613:\tlearn: 0.3857429\ttotal: 599ms\tremaining: 377ms\n",
            "614:\tlearn: 0.3855486\ttotal: 600ms\tremaining: 376ms\n",
            "615:\tlearn: 0.3854465\ttotal: 601ms\tremaining: 375ms\n",
            "616:\tlearn: 0.3852954\ttotal: 602ms\tremaining: 374ms\n",
            "617:\tlearn: 0.3850705\ttotal: 603ms\tremaining: 373ms\n",
            "618:\tlearn: 0.3848562\ttotal: 604ms\tremaining: 372ms\n",
            "619:\tlearn: 0.3846912\ttotal: 605ms\tremaining: 371ms\n",
            "620:\tlearn: 0.3846324\ttotal: 606ms\tremaining: 370ms\n",
            "621:\tlearn: 0.3844634\ttotal: 607ms\tremaining: 369ms\n",
            "622:\tlearn: 0.3842866\ttotal: 607ms\tremaining: 368ms\n",
            "623:\tlearn: 0.3841502\ttotal: 608ms\tremaining: 367ms\n",
            "624:\tlearn: 0.3840356\ttotal: 609ms\tremaining: 366ms\n",
            "625:\tlearn: 0.3838524\ttotal: 610ms\tremaining: 365ms\n",
            "626:\tlearn: 0.3837193\ttotal: 611ms\tremaining: 364ms\n",
            "627:\tlearn: 0.3835429\ttotal: 612ms\tremaining: 363ms\n",
            "628:\tlearn: 0.3833566\ttotal: 613ms\tremaining: 362ms\n",
            "629:\tlearn: 0.3833567\ttotal: 614ms\tremaining: 360ms\n",
            "630:\tlearn: 0.3832341\ttotal: 614ms\tremaining: 359ms\n",
            "631:\tlearn: 0.3831047\ttotal: 615ms\tremaining: 358ms\n",
            "632:\tlearn: 0.3830039\ttotal: 616ms\tremaining: 357ms\n",
            "633:\tlearn: 0.3829137\ttotal: 617ms\tremaining: 356ms\n",
            "634:\tlearn: 0.3828394\ttotal: 618ms\tremaining: 355ms\n",
            "635:\tlearn: 0.3825977\ttotal: 619ms\tremaining: 354ms\n",
            "636:\tlearn: 0.3823422\ttotal: 620ms\tremaining: 353ms\n",
            "637:\tlearn: 0.3822055\ttotal: 621ms\tremaining: 352ms\n",
            "638:\tlearn: 0.3819766\ttotal: 622ms\tremaining: 351ms\n",
            "639:\tlearn: 0.3819083\ttotal: 623ms\tremaining: 350ms\n",
            "640:\tlearn: 0.3816329\ttotal: 623ms\tremaining: 349ms\n",
            "641:\tlearn: 0.3814521\ttotal: 624ms\tremaining: 348ms\n",
            "642:\tlearn: 0.3812648\ttotal: 625ms\tremaining: 347ms\n",
            "643:\tlearn: 0.3812338\ttotal: 626ms\tremaining: 346ms\n",
            "644:\tlearn: 0.3812225\ttotal: 627ms\tremaining: 345ms\n",
            "645:\tlearn: 0.3810621\ttotal: 628ms\tremaining: 344ms\n",
            "646:\tlearn: 0.3809750\ttotal: 629ms\tremaining: 343ms\n",
            "647:\tlearn: 0.3808769\ttotal: 630ms\tremaining: 342ms\n",
            "648:\tlearn: 0.3806254\ttotal: 630ms\tremaining: 341ms\n",
            "649:\tlearn: 0.3804437\ttotal: 632ms\tremaining: 340ms\n",
            "650:\tlearn: 0.3801785\ttotal: 633ms\tremaining: 339ms\n",
            "651:\tlearn: 0.3799932\ttotal: 635ms\tremaining: 339ms\n",
            "652:\tlearn: 0.3798934\ttotal: 635ms\tremaining: 338ms\n",
            "653:\tlearn: 0.3797117\ttotal: 636ms\tremaining: 337ms\n",
            "654:\tlearn: 0.3794614\ttotal: 637ms\tremaining: 336ms\n",
            "655:\tlearn: 0.3792810\ttotal: 638ms\tremaining: 335ms\n",
            "656:\tlearn: 0.3791690\ttotal: 639ms\tremaining: 334ms\n",
            "657:\tlearn: 0.3790288\ttotal: 640ms\tremaining: 333ms\n",
            "658:\tlearn: 0.3788656\ttotal: 641ms\tremaining: 332ms\n",
            "659:\tlearn: 0.3787027\ttotal: 642ms\tremaining: 331ms\n",
            "660:\tlearn: 0.3786051\ttotal: 643ms\tremaining: 330ms\n",
            "661:\tlearn: 0.3784705\ttotal: 644ms\tremaining: 329ms\n",
            "662:\tlearn: 0.3782929\ttotal: 644ms\tremaining: 328ms\n",
            "663:\tlearn: 0.3781874\ttotal: 645ms\tremaining: 327ms\n",
            "664:\tlearn: 0.3778950\ttotal: 646ms\tremaining: 326ms\n",
            "665:\tlearn: 0.3776985\ttotal: 648ms\tremaining: 325ms\n",
            "666:\tlearn: 0.3773509\ttotal: 649ms\tremaining: 324ms\n",
            "667:\tlearn: 0.3770825\ttotal: 650ms\tremaining: 323ms\n",
            "668:\tlearn: 0.3768808\ttotal: 651ms\tremaining: 322ms\n",
            "669:\tlearn: 0.3766717\ttotal: 652ms\tremaining: 321ms\n",
            "670:\tlearn: 0.3765623\ttotal: 652ms\tremaining: 320ms\n",
            "671:\tlearn: 0.3763565\ttotal: 653ms\tremaining: 319ms\n",
            "672:\tlearn: 0.3760919\ttotal: 654ms\tremaining: 318ms\n",
            "673:\tlearn: 0.3758906\ttotal: 655ms\tremaining: 317ms\n",
            "674:\tlearn: 0.3757368\ttotal: 656ms\tremaining: 316ms\n",
            "675:\tlearn: 0.3754099\ttotal: 657ms\tremaining: 315ms\n",
            "676:\tlearn: 0.3753056\ttotal: 658ms\tremaining: 314ms\n",
            "677:\tlearn: 0.3751116\ttotal: 659ms\tremaining: 313ms\n",
            "678:\tlearn: 0.3750075\ttotal: 660ms\tremaining: 312ms\n",
            "679:\tlearn: 0.3747735\ttotal: 661ms\tremaining: 311ms\n",
            "680:\tlearn: 0.3744798\ttotal: 661ms\tremaining: 310ms\n",
            "681:\tlearn: 0.3742259\ttotal: 662ms\tremaining: 309ms\n",
            "682:\tlearn: 0.3740242\ttotal: 663ms\tremaining: 308ms\n",
            "683:\tlearn: 0.3737704\ttotal: 664ms\tremaining: 307ms\n",
            "684:\tlearn: 0.3736105\ttotal: 665ms\tremaining: 306ms\n",
            "685:\tlearn: 0.3735494\ttotal: 666ms\tremaining: 305ms\n",
            "686:\tlearn: 0.3734619\ttotal: 667ms\tremaining: 304ms\n",
            "687:\tlearn: 0.3732864\ttotal: 668ms\tremaining: 303ms\n",
            "688:\tlearn: 0.3730553\ttotal: 669ms\tremaining: 302ms\n",
            "689:\tlearn: 0.3728294\ttotal: 670ms\tremaining: 301ms\n",
            "690:\tlearn: 0.3727258\ttotal: 670ms\tremaining: 300ms\n",
            "691:\tlearn: 0.3725911\ttotal: 671ms\tremaining: 299ms\n",
            "692:\tlearn: 0.3724406\ttotal: 672ms\tremaining: 298ms\n",
            "693:\tlearn: 0.3722241\ttotal: 673ms\tremaining: 297ms\n",
            "694:\tlearn: 0.3718927\ttotal: 674ms\tremaining: 296ms\n",
            "695:\tlearn: 0.3717521\ttotal: 675ms\tremaining: 295ms\n",
            "696:\tlearn: 0.3716611\ttotal: 676ms\tremaining: 294ms\n",
            "697:\tlearn: 0.3715395\ttotal: 677ms\tremaining: 293ms\n",
            "698:\tlearn: 0.3713639\ttotal: 678ms\tremaining: 292ms\n",
            "699:\tlearn: 0.3711241\ttotal: 679ms\tremaining: 291ms\n",
            "700:\tlearn: 0.3709998\ttotal: 679ms\tremaining: 290ms\n",
            "701:\tlearn: 0.3707927\ttotal: 680ms\tremaining: 289ms\n",
            "702:\tlearn: 0.3706344\ttotal: 681ms\tremaining: 288ms\n",
            "703:\tlearn: 0.3704742\ttotal: 682ms\tremaining: 287ms\n",
            "704:\tlearn: 0.3703088\ttotal: 683ms\tremaining: 286ms\n",
            "705:\tlearn: 0.3701679\ttotal: 684ms\tremaining: 285ms\n",
            "706:\tlearn: 0.3700414\ttotal: 685ms\tremaining: 284ms\n",
            "707:\tlearn: 0.3698940\ttotal: 686ms\tremaining: 283ms\n",
            "708:\tlearn: 0.3697417\ttotal: 687ms\tremaining: 282ms\n",
            "709:\tlearn: 0.3695682\ttotal: 688ms\tremaining: 281ms\n",
            "710:\tlearn: 0.3694526\ttotal: 689ms\tremaining: 280ms\n",
            "711:\tlearn: 0.3692789\ttotal: 690ms\tremaining: 279ms\n",
            "712:\tlearn: 0.3690178\ttotal: 691ms\tremaining: 278ms\n",
            "713:\tlearn: 0.3689119\ttotal: 692ms\tremaining: 277ms\n",
            "714:\tlearn: 0.3686884\ttotal: 693ms\tremaining: 276ms\n",
            "715:\tlearn: 0.3683784\ttotal: 694ms\tremaining: 275ms\n",
            "716:\tlearn: 0.3682427\ttotal: 695ms\tremaining: 274ms\n",
            "717:\tlearn: 0.3681192\ttotal: 695ms\tremaining: 273ms\n",
            "718:\tlearn: 0.3680375\ttotal: 696ms\tremaining: 272ms\n",
            "719:\tlearn: 0.3678634\ttotal: 697ms\tremaining: 271ms\n",
            "720:\tlearn: 0.3676110\ttotal: 698ms\tremaining: 270ms\n",
            "721:\tlearn: 0.3674879\ttotal: 699ms\tremaining: 269ms\n",
            "722:\tlearn: 0.3673091\ttotal: 700ms\tremaining: 268ms\n",
            "723:\tlearn: 0.3670964\ttotal: 707ms\tremaining: 270ms\n",
            "724:\tlearn: 0.3668353\ttotal: 709ms\tremaining: 269ms\n",
            "725:\tlearn: 0.3665804\ttotal: 710ms\tremaining: 268ms\n",
            "726:\tlearn: 0.3664099\ttotal: 713ms\tremaining: 268ms\n",
            "727:\tlearn: 0.3662631\ttotal: 715ms\tremaining: 267ms\n",
            "728:\tlearn: 0.3661066\ttotal: 715ms\tremaining: 266ms\n",
            "729:\tlearn: 0.3658922\ttotal: 716ms\tremaining: 265ms\n",
            "730:\tlearn: 0.3658023\ttotal: 717ms\tremaining: 264ms\n",
            "731:\tlearn: 0.3656478\ttotal: 718ms\tremaining: 263ms\n",
            "732:\tlearn: 0.3654404\ttotal: 719ms\tremaining: 262ms\n",
            "733:\tlearn: 0.3653613\ttotal: 720ms\tremaining: 261ms\n",
            "734:\tlearn: 0.3652144\ttotal: 721ms\tremaining: 260ms\n",
            "735:\tlearn: 0.3650452\ttotal: 722ms\tremaining: 259ms\n",
            "736:\tlearn: 0.3648617\ttotal: 722ms\tremaining: 258ms\n",
            "737:\tlearn: 0.3647305\ttotal: 723ms\tremaining: 257ms\n",
            "738:\tlearn: 0.3645805\ttotal: 724ms\tremaining: 256ms\n",
            "739:\tlearn: 0.3645304\ttotal: 725ms\tremaining: 255ms\n",
            "740:\tlearn: 0.3644237\ttotal: 726ms\tremaining: 254ms\n",
            "741:\tlearn: 0.3642326\ttotal: 727ms\tremaining: 253ms\n",
            "742:\tlearn: 0.3639596\ttotal: 728ms\tremaining: 252ms\n",
            "743:\tlearn: 0.3638006\ttotal: 729ms\tremaining: 251ms\n",
            "744:\tlearn: 0.3636642\ttotal: 730ms\tremaining: 250ms\n",
            "745:\tlearn: 0.3633946\ttotal: 730ms\tremaining: 249ms\n",
            "746:\tlearn: 0.3633427\ttotal: 731ms\tremaining: 248ms\n",
            "747:\tlearn: 0.3632337\ttotal: 732ms\tremaining: 247ms\n",
            "748:\tlearn: 0.3629906\ttotal: 733ms\tremaining: 246ms\n",
            "749:\tlearn: 0.3628534\ttotal: 734ms\tremaining: 245ms\n",
            "750:\tlearn: 0.3627680\ttotal: 735ms\tremaining: 244ms\n",
            "751:\tlearn: 0.3625656\ttotal: 736ms\tremaining: 243ms\n",
            "752:\tlearn: 0.3624118\ttotal: 737ms\tremaining: 242ms\n",
            "753:\tlearn: 0.3622566\ttotal: 738ms\tremaining: 241ms\n",
            "754:\tlearn: 0.3619995\ttotal: 739ms\tremaining: 240ms\n",
            "755:\tlearn: 0.3618033\ttotal: 740ms\tremaining: 239ms\n",
            "756:\tlearn: 0.3617264\ttotal: 740ms\tremaining: 238ms\n",
            "757:\tlearn: 0.3616279\ttotal: 741ms\tremaining: 237ms\n",
            "758:\tlearn: 0.3614464\ttotal: 742ms\tremaining: 236ms\n",
            "759:\tlearn: 0.3613268\ttotal: 743ms\tremaining: 235ms\n",
            "760:\tlearn: 0.3611657\ttotal: 744ms\tremaining: 234ms\n",
            "761:\tlearn: 0.3610635\ttotal: 745ms\tremaining: 233ms\n",
            "762:\tlearn: 0.3609410\ttotal: 746ms\tremaining: 232ms\n",
            "763:\tlearn: 0.3608019\ttotal: 747ms\tremaining: 231ms\n",
            "764:\tlearn: 0.3606535\ttotal: 748ms\tremaining: 230ms\n",
            "765:\tlearn: 0.3606003\ttotal: 748ms\tremaining: 229ms\n",
            "766:\tlearn: 0.3604350\ttotal: 749ms\tremaining: 228ms\n",
            "767:\tlearn: 0.3601938\ttotal: 750ms\tremaining: 227ms\n",
            "768:\tlearn: 0.3600086\ttotal: 751ms\tremaining: 226ms\n",
            "769:\tlearn: 0.3599128\ttotal: 752ms\tremaining: 225ms\n",
            "770:\tlearn: 0.3596407\ttotal: 753ms\tremaining: 224ms\n",
            "771:\tlearn: 0.3594655\ttotal: 754ms\tremaining: 223ms\n",
            "772:\tlearn: 0.3593125\ttotal: 755ms\tremaining: 222ms\n",
            "773:\tlearn: 0.3590180\ttotal: 756ms\tremaining: 221ms\n",
            "774:\tlearn: 0.3589238\ttotal: 756ms\tremaining: 220ms\n",
            "775:\tlearn: 0.3586484\ttotal: 757ms\tremaining: 219ms\n",
            "776:\tlearn: 0.3583937\ttotal: 758ms\tremaining: 218ms\n",
            "777:\tlearn: 0.3582787\ttotal: 759ms\tremaining: 217ms\n",
            "778:\tlearn: 0.3581995\ttotal: 760ms\tremaining: 216ms\n",
            "779:\tlearn: 0.3580569\ttotal: 761ms\tremaining: 215ms\n",
            "780:\tlearn: 0.3578959\ttotal: 762ms\tremaining: 214ms\n",
            "781:\tlearn: 0.3578136\ttotal: 763ms\tremaining: 213ms\n",
            "782:\tlearn: 0.3576696\ttotal: 764ms\tremaining: 212ms\n",
            "783:\tlearn: 0.3574227\ttotal: 764ms\tremaining: 211ms\n",
            "784:\tlearn: 0.3572091\ttotal: 765ms\tremaining: 210ms\n",
            "785:\tlearn: 0.3570000\ttotal: 766ms\tremaining: 209ms\n",
            "786:\tlearn: 0.3567777\ttotal: 767ms\tremaining: 208ms\n",
            "787:\tlearn: 0.3566560\ttotal: 768ms\tremaining: 207ms\n",
            "788:\tlearn: 0.3564887\ttotal: 769ms\tremaining: 206ms\n",
            "789:\tlearn: 0.3562704\ttotal: 770ms\tremaining: 205ms\n",
            "790:\tlearn: 0.3561822\ttotal: 771ms\tremaining: 204ms\n",
            "791:\tlearn: 0.3560283\ttotal: 772ms\tremaining: 203ms\n",
            "792:\tlearn: 0.3559007\ttotal: 773ms\tremaining: 202ms\n",
            "793:\tlearn: 0.3557372\ttotal: 773ms\tremaining: 201ms\n",
            "794:\tlearn: 0.3555104\ttotal: 774ms\tremaining: 200ms\n",
            "795:\tlearn: 0.3553738\ttotal: 775ms\tremaining: 199ms\n",
            "796:\tlearn: 0.3551548\ttotal: 776ms\tremaining: 198ms\n",
            "797:\tlearn: 0.3550100\ttotal: 777ms\tremaining: 197ms\n",
            "798:\tlearn: 0.3549017\ttotal: 778ms\tremaining: 196ms\n",
            "799:\tlearn: 0.3548009\ttotal: 779ms\tremaining: 195ms\n",
            "800:\tlearn: 0.3546290\ttotal: 780ms\tremaining: 194ms\n",
            "801:\tlearn: 0.3544755\ttotal: 781ms\tremaining: 193ms\n",
            "802:\tlearn: 0.3543501\ttotal: 781ms\tremaining: 192ms\n",
            "803:\tlearn: 0.3541882\ttotal: 782ms\tremaining: 191ms\n",
            "804:\tlearn: 0.3541380\ttotal: 783ms\tremaining: 190ms\n",
            "805:\tlearn: 0.3539999\ttotal: 784ms\tremaining: 189ms\n",
            "806:\tlearn: 0.3538686\ttotal: 785ms\tremaining: 188ms\n",
            "807:\tlearn: 0.3537307\ttotal: 786ms\tremaining: 187ms\n",
            "808:\tlearn: 0.3536468\ttotal: 787ms\tremaining: 186ms\n",
            "809:\tlearn: 0.3534953\ttotal: 788ms\tremaining: 185ms\n",
            "810:\tlearn: 0.3533831\ttotal: 789ms\tremaining: 184ms\n",
            "811:\tlearn: 0.3532052\ttotal: 789ms\tremaining: 183ms\n",
            "812:\tlearn: 0.3530451\ttotal: 790ms\tremaining: 182ms\n",
            "813:\tlearn: 0.3529015\ttotal: 792ms\tremaining: 181ms\n",
            "814:\tlearn: 0.3527748\ttotal: 792ms\tremaining: 180ms\n",
            "815:\tlearn: 0.3526550\ttotal: 793ms\tremaining: 179ms\n",
            "816:\tlearn: 0.3525073\ttotal: 794ms\tremaining: 178ms\n",
            "817:\tlearn: 0.3522929\ttotal: 795ms\tremaining: 177ms\n",
            "818:\tlearn: 0.3521603\ttotal: 796ms\tremaining: 176ms\n",
            "819:\tlearn: 0.3520894\ttotal: 797ms\tremaining: 175ms\n",
            "820:\tlearn: 0.3519557\ttotal: 798ms\tremaining: 174ms\n",
            "821:\tlearn: 0.3518075\ttotal: 799ms\tremaining: 173ms\n",
            "822:\tlearn: 0.3517272\ttotal: 800ms\tremaining: 172ms\n",
            "823:\tlearn: 0.3515279\ttotal: 801ms\tremaining: 171ms\n",
            "824:\tlearn: 0.3513501\ttotal: 802ms\tremaining: 170ms\n",
            "825:\tlearn: 0.3511903\ttotal: 803ms\tremaining: 169ms\n",
            "826:\tlearn: 0.3510730\ttotal: 804ms\tremaining: 168ms\n",
            "827:\tlearn: 0.3508536\ttotal: 804ms\tremaining: 167ms\n",
            "828:\tlearn: 0.3507590\ttotal: 805ms\tremaining: 166ms\n",
            "829:\tlearn: 0.3505823\ttotal: 806ms\tremaining: 165ms\n",
            "830:\tlearn: 0.3504714\ttotal: 807ms\tremaining: 164ms\n",
            "831:\tlearn: 0.3503366\ttotal: 808ms\tremaining: 163ms\n",
            "832:\tlearn: 0.3501973\ttotal: 809ms\tremaining: 162ms\n",
            "833:\tlearn: 0.3500547\ttotal: 810ms\tremaining: 161ms\n",
            "834:\tlearn: 0.3499121\ttotal: 821ms\tremaining: 162ms\n",
            "835:\tlearn: 0.3497652\ttotal: 822ms\tremaining: 161ms\n",
            "836:\tlearn: 0.3496607\ttotal: 823ms\tremaining: 160ms\n",
            "837:\tlearn: 0.3494480\ttotal: 824ms\tremaining: 159ms\n",
            "838:\tlearn: 0.3493171\ttotal: 825ms\tremaining: 158ms\n",
            "839:\tlearn: 0.3491875\ttotal: 826ms\tremaining: 157ms\n",
            "840:\tlearn: 0.3490636\ttotal: 826ms\tremaining: 156ms\n",
            "841:\tlearn: 0.3489657\ttotal: 827ms\tremaining: 155ms\n",
            "842:\tlearn: 0.3488358\ttotal: 828ms\tremaining: 154ms\n",
            "843:\tlearn: 0.3487265\ttotal: 829ms\tremaining: 153ms\n",
            "844:\tlearn: 0.3484858\ttotal: 829ms\tremaining: 152ms\n",
            "845:\tlearn: 0.3482525\ttotal: 830ms\tremaining: 151ms\n",
            "846:\tlearn: 0.3480468\ttotal: 831ms\tremaining: 150ms\n",
            "847:\tlearn: 0.3479477\ttotal: 832ms\tremaining: 149ms\n",
            "848:\tlearn: 0.3478095\ttotal: 833ms\tremaining: 148ms\n",
            "849:\tlearn: 0.3477269\ttotal: 834ms\tremaining: 147ms\n",
            "850:\tlearn: 0.3476085\ttotal: 835ms\tremaining: 146ms\n",
            "851:\tlearn: 0.3473873\ttotal: 836ms\tremaining: 145ms\n",
            "852:\tlearn: 0.3473108\ttotal: 836ms\tremaining: 144ms\n",
            "853:\tlearn: 0.3471419\ttotal: 837ms\tremaining: 143ms\n",
            "854:\tlearn: 0.3470384\ttotal: 838ms\tremaining: 142ms\n",
            "855:\tlearn: 0.3469443\ttotal: 839ms\tremaining: 141ms\n",
            "856:\tlearn: 0.3467838\ttotal: 840ms\tremaining: 140ms\n",
            "857:\tlearn: 0.3465302\ttotal: 841ms\tremaining: 139ms\n",
            "858:\tlearn: 0.3464125\ttotal: 842ms\tremaining: 138ms\n",
            "859:\tlearn: 0.3462605\ttotal: 843ms\tremaining: 137ms\n",
            "860:\tlearn: 0.3461561\ttotal: 844ms\tremaining: 136ms\n",
            "861:\tlearn: 0.3459930\ttotal: 845ms\tremaining: 135ms\n",
            "862:\tlearn: 0.3458408\ttotal: 846ms\tremaining: 134ms\n",
            "863:\tlearn: 0.3457744\ttotal: 847ms\tremaining: 133ms\n",
            "864:\tlearn: 0.3456981\ttotal: 848ms\tremaining: 132ms\n",
            "865:\tlearn: 0.3455808\ttotal: 849ms\tremaining: 131ms\n",
            "866:\tlearn: 0.3454962\ttotal: 850ms\tremaining: 130ms\n",
            "867:\tlearn: 0.3453718\ttotal: 851ms\tremaining: 129ms\n",
            "868:\tlearn: 0.3453013\ttotal: 852ms\tremaining: 128ms\n",
            "869:\tlearn: 0.3452123\ttotal: 853ms\tremaining: 127ms\n",
            "870:\tlearn: 0.3451072\ttotal: 853ms\tremaining: 126ms\n",
            "871:\tlearn: 0.3450137\ttotal: 854ms\tremaining: 125ms\n",
            "872:\tlearn: 0.3449170\ttotal: 855ms\tremaining: 124ms\n",
            "873:\tlearn: 0.3448319\ttotal: 856ms\tremaining: 123ms\n",
            "874:\tlearn: 0.3447098\ttotal: 857ms\tremaining: 122ms\n",
            "875:\tlearn: 0.3445717\ttotal: 858ms\tremaining: 121ms\n",
            "876:\tlearn: 0.3444119\ttotal: 859ms\tremaining: 120ms\n",
            "877:\tlearn: 0.3442962\ttotal: 860ms\tremaining: 119ms\n",
            "878:\tlearn: 0.3440912\ttotal: 861ms\tremaining: 119ms\n",
            "879:\tlearn: 0.3439913\ttotal: 862ms\tremaining: 118ms\n",
            "880:\tlearn: 0.3438740\ttotal: 863ms\tremaining: 117ms\n",
            "881:\tlearn: 0.3436619\ttotal: 864ms\tremaining: 116ms\n",
            "882:\tlearn: 0.3434148\ttotal: 865ms\tremaining: 115ms\n",
            "883:\tlearn: 0.3432596\ttotal: 866ms\tremaining: 114ms\n",
            "884:\tlearn: 0.3431176\ttotal: 866ms\tremaining: 113ms\n",
            "885:\tlearn: 0.3429230\ttotal: 867ms\tremaining: 112ms\n",
            "886:\tlearn: 0.3428431\ttotal: 868ms\tremaining: 111ms\n",
            "887:\tlearn: 0.3427508\ttotal: 869ms\tremaining: 110ms\n",
            "888:\tlearn: 0.3426243\ttotal: 870ms\tremaining: 109ms\n",
            "889:\tlearn: 0.3424304\ttotal: 871ms\tremaining: 108ms\n",
            "890:\tlearn: 0.3422449\ttotal: 872ms\tremaining: 107ms\n",
            "891:\tlearn: 0.3421311\ttotal: 873ms\tremaining: 106ms\n",
            "892:\tlearn: 0.3419964\ttotal: 874ms\tremaining: 105ms\n",
            "893:\tlearn: 0.3419137\ttotal: 875ms\tremaining: 104ms\n",
            "894:\tlearn: 0.3418336\ttotal: 876ms\tremaining: 103ms\n",
            "895:\tlearn: 0.3416846\ttotal: 877ms\tremaining: 102ms\n",
            "896:\tlearn: 0.3414871\ttotal: 878ms\tremaining: 101ms\n",
            "897:\tlearn: 0.3413381\ttotal: 878ms\tremaining: 99.8ms\n",
            "898:\tlearn: 0.3412203\ttotal: 879ms\tremaining: 98.8ms\n",
            "899:\tlearn: 0.3411143\ttotal: 880ms\tremaining: 97.8ms\n",
            "900:\tlearn: 0.3410429\ttotal: 881ms\tremaining: 96.8ms\n",
            "901:\tlearn: 0.3408335\ttotal: 882ms\tremaining: 95.8ms\n",
            "902:\tlearn: 0.3407311\ttotal: 883ms\tremaining: 94.8ms\n",
            "903:\tlearn: 0.3405006\ttotal: 884ms\tremaining: 93.8ms\n",
            "904:\tlearn: 0.3403832\ttotal: 886ms\tremaining: 93ms\n",
            "905:\tlearn: 0.3402229\ttotal: 887ms\tremaining: 92ms\n",
            "906:\tlearn: 0.3401652\ttotal: 888ms\tremaining: 91ms\n",
            "907:\tlearn: 0.3400901\ttotal: 889ms\tremaining: 90ms\n",
            "908:\tlearn: 0.3400223\ttotal: 889ms\tremaining: 89ms\n",
            "909:\tlearn: 0.3399598\ttotal: 891ms\tremaining: 88.1ms\n",
            "910:\tlearn: 0.3398935\ttotal: 893ms\tremaining: 87.2ms\n",
            "911:\tlearn: 0.3397795\ttotal: 894ms\tremaining: 86.3ms\n",
            "912:\tlearn: 0.3395957\ttotal: 895ms\tremaining: 85.3ms\n",
            "913:\tlearn: 0.3394121\ttotal: 897ms\tremaining: 84.4ms\n",
            "914:\tlearn: 0.3392735\ttotal: 899ms\tremaining: 83.5ms\n",
            "915:\tlearn: 0.3390582\ttotal: 901ms\tremaining: 82.6ms\n",
            "916:\tlearn: 0.3389406\ttotal: 902ms\tremaining: 81.7ms\n",
            "917:\tlearn: 0.3388136\ttotal: 904ms\tremaining: 80.7ms\n",
            "918:\tlearn: 0.3387028\ttotal: 905ms\tremaining: 79.7ms\n",
            "919:\tlearn: 0.3385899\ttotal: 906ms\tremaining: 78.7ms\n",
            "920:\tlearn: 0.3384172\ttotal: 907ms\tremaining: 77.8ms\n",
            "921:\tlearn: 0.3383205\ttotal: 907ms\tremaining: 76.8ms\n",
            "922:\tlearn: 0.3382150\ttotal: 908ms\tremaining: 75.8ms\n",
            "923:\tlearn: 0.3380788\ttotal: 909ms\tremaining: 74.8ms\n",
            "924:\tlearn: 0.3379697\ttotal: 910ms\tremaining: 73.8ms\n",
            "925:\tlearn: 0.3378668\ttotal: 911ms\tremaining: 72.8ms\n",
            "926:\tlearn: 0.3377458\ttotal: 912ms\tremaining: 71.8ms\n",
            "927:\tlearn: 0.3375881\ttotal: 913ms\tremaining: 70.9ms\n",
            "928:\tlearn: 0.3374461\ttotal: 914ms\tremaining: 69.9ms\n",
            "929:\tlearn: 0.3372844\ttotal: 915ms\tremaining: 68.9ms\n",
            "930:\tlearn: 0.3371806\ttotal: 916ms\tremaining: 67.9ms\n",
            "931:\tlearn: 0.3370854\ttotal: 917ms\tremaining: 66.9ms\n",
            "932:\tlearn: 0.3369433\ttotal: 918ms\tremaining: 65.9ms\n",
            "933:\tlearn: 0.3368258\ttotal: 919ms\tremaining: 64.9ms\n",
            "934:\tlearn: 0.3366252\ttotal: 920ms\tremaining: 64ms\n",
            "935:\tlearn: 0.3364252\ttotal: 921ms\tremaining: 63ms\n",
            "936:\tlearn: 0.3362430\ttotal: 922ms\tremaining: 62ms\n",
            "937:\tlearn: 0.3360822\ttotal: 923ms\tremaining: 61ms\n",
            "938:\tlearn: 0.3358906\ttotal: 924ms\tremaining: 60ms\n",
            "939:\tlearn: 0.3357362\ttotal: 925ms\tremaining: 59ms\n",
            "940:\tlearn: 0.3356123\ttotal: 926ms\tremaining: 58.1ms\n",
            "941:\tlearn: 0.3354260\ttotal: 927ms\tremaining: 57.1ms\n",
            "942:\tlearn: 0.3353304\ttotal: 928ms\tremaining: 56.1ms\n",
            "943:\tlearn: 0.3350920\ttotal: 929ms\tremaining: 55.1ms\n",
            "944:\tlearn: 0.3349395\ttotal: 930ms\tremaining: 54.1ms\n",
            "945:\tlearn: 0.3348330\ttotal: 934ms\tremaining: 53.3ms\n",
            "946:\tlearn: 0.3347074\ttotal: 936ms\tremaining: 52.4ms\n",
            "947:\tlearn: 0.3345781\ttotal: 936ms\tremaining: 51.4ms\n",
            "948:\tlearn: 0.3344529\ttotal: 938ms\tremaining: 50.4ms\n",
            "949:\tlearn: 0.3343487\ttotal: 940ms\tremaining: 49.5ms\n",
            "950:\tlearn: 0.3342342\ttotal: 941ms\tremaining: 48.5ms\n",
            "951:\tlearn: 0.3341609\ttotal: 943ms\tremaining: 47.6ms\n",
            "952:\tlearn: 0.3339380\ttotal: 944ms\tremaining: 46.6ms\n",
            "953:\tlearn: 0.3338562\ttotal: 946ms\tremaining: 45.6ms\n",
            "954:\tlearn: 0.3337627\ttotal: 947ms\tremaining: 44.6ms\n",
            "955:\tlearn: 0.3336883\ttotal: 948ms\tremaining: 43.6ms\n",
            "956:\tlearn: 0.3335286\ttotal: 949ms\tremaining: 42.6ms\n",
            "957:\tlearn: 0.3333080\ttotal: 950ms\tremaining: 41.6ms\n",
            "958:\tlearn: 0.3331754\ttotal: 951ms\tremaining: 40.6ms\n",
            "959:\tlearn: 0.3330518\ttotal: 952ms\tremaining: 39.7ms\n",
            "960:\tlearn: 0.3329133\ttotal: 953ms\tremaining: 38.7ms\n",
            "961:\tlearn: 0.3327684\ttotal: 953ms\tremaining: 37.7ms\n",
            "962:\tlearn: 0.3326309\ttotal: 954ms\tremaining: 36.7ms\n",
            "963:\tlearn: 0.3325188\ttotal: 955ms\tremaining: 35.7ms\n",
            "964:\tlearn: 0.3324277\ttotal: 956ms\tremaining: 34.7ms\n",
            "965:\tlearn: 0.3323448\ttotal: 957ms\tremaining: 33.7ms\n",
            "966:\tlearn: 0.3322417\ttotal: 958ms\tremaining: 32.7ms\n",
            "967:\tlearn: 0.3321535\ttotal: 959ms\tremaining: 31.7ms\n",
            "968:\tlearn: 0.3320695\ttotal: 959ms\tremaining: 30.7ms\n",
            "969:\tlearn: 0.3319828\ttotal: 960ms\tremaining: 29.7ms\n",
            "970:\tlearn: 0.3318715\ttotal: 961ms\tremaining: 28.7ms\n",
            "971:\tlearn: 0.3318162\ttotal: 962ms\tremaining: 27.7ms\n",
            "972:\tlearn: 0.3317244\ttotal: 963ms\tremaining: 26.7ms\n",
            "973:\tlearn: 0.3315264\ttotal: 964ms\tremaining: 25.7ms\n",
            "974:\tlearn: 0.3313373\ttotal: 965ms\tremaining: 24.7ms\n",
            "975:\tlearn: 0.3312396\ttotal: 965ms\tremaining: 23.7ms\n",
            "976:\tlearn: 0.3311803\ttotal: 966ms\tremaining: 22.8ms\n",
            "977:\tlearn: 0.3311139\ttotal: 967ms\tremaining: 21.8ms\n",
            "978:\tlearn: 0.3310073\ttotal: 968ms\tremaining: 20.8ms\n",
            "979:\tlearn: 0.3309185\ttotal: 969ms\tremaining: 19.8ms\n",
            "980:\tlearn: 0.3308071\ttotal: 970ms\tremaining: 18.8ms\n",
            "981:\tlearn: 0.3307001\ttotal: 971ms\tremaining: 17.8ms\n",
            "982:\tlearn: 0.3305306\ttotal: 972ms\tremaining: 16.8ms\n",
            "983:\tlearn: 0.3304539\ttotal: 973ms\tremaining: 15.8ms\n",
            "984:\tlearn: 0.3303629\ttotal: 974ms\tremaining: 14.8ms\n",
            "985:\tlearn: 0.3302921\ttotal: 975ms\tremaining: 13.8ms\n",
            "986:\tlearn: 0.3302873\ttotal: 976ms\tremaining: 12.9ms\n",
            "987:\tlearn: 0.3301423\ttotal: 978ms\tremaining: 11.9ms\n",
            "988:\tlearn: 0.3300881\ttotal: 979ms\tremaining: 10.9ms\n",
            "989:\tlearn: 0.3299910\ttotal: 980ms\tremaining: 9.9ms\n",
            "990:\tlearn: 0.3298189\ttotal: 982ms\tremaining: 8.92ms\n",
            "991:\tlearn: 0.3296919\ttotal: 984ms\tremaining: 7.93ms\n",
            "992:\tlearn: 0.3296088\ttotal: 985ms\tremaining: 6.94ms\n",
            "993:\tlearn: 0.3295395\ttotal: 986ms\tremaining: 5.95ms\n",
            "994:\tlearn: 0.3294026\ttotal: 987ms\tremaining: 4.96ms\n",
            "995:\tlearn: 0.3292194\ttotal: 987ms\tremaining: 3.96ms\n",
            "996:\tlearn: 0.3291153\ttotal: 988ms\tremaining: 2.97ms\n",
            "997:\tlearn: 0.3290353\ttotal: 989ms\tremaining: 1.98ms\n",
            "998:\tlearn: 0.3289449\ttotal: 992ms\tremaining: 992us\n",
            "999:\tlearn: 0.3288333\ttotal: 993ms\tremaining: 0us\n"
          ]
        },
        {
          "output_type": "execute_result",
          "data": {
            "text/plain": [
              "<catboost.core.CatBoostClassifier at 0x7f4928b44d10>"
            ]
          },
          "metadata": {},
          "execution_count": 436
        }
      ]
    },
    {
      "cell_type": "markdown",
      "metadata": {
        "id": "MGLbkDaKcbCi"
      },
      "source": [
        "###Train"
      ]
    },
    {
      "cell_type": "code",
      "metadata": {
        "colab": {
          "base_uri": "https://localhost:8080/"
        },
        "id": "9XMF_L0tcA7-",
        "outputId": "6605a9b0-bbf2-4224-c0c3-053dbcfde8f2"
      },
      "source": [
        "threshold = 0.39\n",
        "\n",
        "train_proba_cb = model_cb.predict_proba(X_train)\n",
        "train_proba_cb = (train_proba_cb [:,1] >= threshold).astype('int')\n",
        "summary_report(y_train,train_proba_cb,X_train,model_cb)"
      ],
      "execution_count": null,
      "outputs": [
        {
          "output_type": "stream",
          "name": "stdout",
          "text": [
            "              precision    recall  f1-score   support\n",
            "\n",
            "           0       0.88      0.83      0.86       597\n",
            "           1       0.75      0.81      0.78       358\n",
            "\n",
            "    accuracy                           0.83       955\n",
            "   macro avg       0.81      0.82      0.82       955\n",
            "weighted avg       0.83      0.83      0.83       955\n",
            "\n",
            "True Positives: 291\n",
            "False Positives: 99\n",
            "True Negatives: 498\n",
            "False Negatives: 67\n"
          ]
        }
      ]
    },
    {
      "cell_type": "code",
      "metadata": {
        "colab": {
          "base_uri": "https://localhost:8080/"
        },
        "id": "Xi4JUiVAcXN9",
        "outputId": "0e73f83b-2b41-416a-c02b-85240a05d1e7"
      },
      "source": [
        "print('F1 score:', f1_score(y_train, train_proba_cb, average='weighted'))\n",
        "print('Accuracy score:', accuracy_score(y_train, train_proba_cb))"
      ],
      "execution_count": null,
      "outputs": [
        {
          "output_type": "stream",
          "name": "stdout",
          "text": [
            "F1 score: 0.8275027097940557\n",
            "Accuracy score: 0.8261780104712042\n"
          ]
        }
      ]
    },
    {
      "cell_type": "markdown",
      "metadata": {
        "id": "cyMX_WQ7ceDM"
      },
      "source": [
        "###Test"
      ]
    },
    {
      "cell_type": "code",
      "metadata": {
        "colab": {
          "base_uri": "https://localhost:8080/"
        },
        "id": "UohJ1iEqvuSs",
        "outputId": "532da39b-631e-4983-ae7a-96afd7604cda"
      },
      "source": [
        "threshold = 0.39\n",
        "\n",
        "predicted_proba_cb = model_cb.predict_proba(X_test)\n",
        "predicted_proba_cb = (predicted_proba_cb [:,1] >= threshold).astype('int')\n",
        "summary_report(y_test,predicted_proba_cb,X_test,model_cb)"
      ],
      "execution_count": null,
      "outputs": [
        {
          "output_type": "stream",
          "name": "stdout",
          "text": [
            "              precision    recall  f1-score   support\n",
            "\n",
            "           0       0.78      0.77      0.77       309\n",
            "           1       0.63      0.64      0.64       191\n",
            "\n",
            "    accuracy                           0.72       500\n",
            "   macro avg       0.71      0.71      0.71       500\n",
            "weighted avg       0.72      0.72      0.72       500\n",
            "\n",
            "True Positives: 123\n",
            "False Positives: 71\n",
            "True Negatives: 238\n",
            "False Negatives: 68\n"
          ]
        }
      ]
    },
    {
      "cell_type": "code",
      "metadata": {
        "colab": {
          "base_uri": "https://localhost:8080/"
        },
        "id": "GGWowtaBO7ZJ",
        "outputId": "c6aa7678-4491-40ae-9a45-bd2c27800f58"
      },
      "source": [
        "print('F1 score:', f1_score(y_test, predicted_proba_cb, average='weighted'))\n",
        "print('Accuracy score:', accuracy_score(y_test, predicted_proba_cb))"
      ],
      "execution_count": null,
      "outputs": [
        {
          "output_type": "stream",
          "name": "stdout",
          "text": [
            "F1 score: 0.7224050681026292\n",
            "Accuracy score: 0.722\n"
          ]
        }
      ]
    },
    {
      "cell_type": "markdown",
      "metadata": {
        "id": "ztQRO1CJP283"
      },
      "source": [
        "##Naive bayes"
      ]
    },
    {
      "cell_type": "code",
      "metadata": {
        "colab": {
          "base_uri": "https://localhost:8080/"
        },
        "id": "e47imEkLv7ha",
        "outputId": "8ae77c7c-1eca-4455-fc23-59c67453ed3d"
      },
      "source": [
        "model_nb = CategoricalNB()\n",
        "\n",
        "model_nb.fit(X_train1,y_train1)"
      ],
      "execution_count": null,
      "outputs": [
        {
          "output_type": "execute_result",
          "data": {
            "text/plain": [
              "CategoricalNB(alpha=1.0, class_prior=None, fit_prior=True)"
            ]
          },
          "metadata": {},
          "execution_count": 439
        }
      ]
    },
    {
      "cell_type": "markdown",
      "metadata": {
        "id": "Bzqw_rJtdOQl"
      },
      "source": [
        "###Train"
      ]
    },
    {
      "cell_type": "code",
      "metadata": {
        "colab": {
          "base_uri": "https://localhost:8080/"
        },
        "id": "xPKjkCV7dNhu",
        "outputId": "4f2d4997-6563-4afb-8926-d102d7fd185f"
      },
      "source": [
        "threshold = 0.35\n",
        "\n",
        "train_proba_nb = model_nb.predict_proba(X_train)\n",
        "train_proba_nb = (train_proba_nb [:,1] >= threshold).astype('int')\n",
        "summary_report(y_train,train_proba_nb,X_train,model_nb)"
      ],
      "execution_count": null,
      "outputs": [
        {
          "output_type": "stream",
          "name": "stdout",
          "text": [
            "              precision    recall  f1-score   support\n",
            "\n",
            "           0       0.76      0.68      0.71       597\n",
            "           1       0.54      0.64      0.59       358\n",
            "\n",
            "    accuracy                           0.66       955\n",
            "   macro avg       0.65      0.66      0.65       955\n",
            "weighted avg       0.68      0.66      0.67       955\n",
            "\n",
            "True Positives: 230\n",
            "False Positives: 194\n",
            "True Negatives: 403\n",
            "False Negatives: 128\n"
          ]
        }
      ]
    },
    {
      "cell_type": "code",
      "metadata": {
        "colab": {
          "base_uri": "https://localhost:8080/"
        },
        "id": "l_I_JkHMddFG",
        "outputId": "b7024e2a-254c-4487-e74b-c57b1e7e478b"
      },
      "source": [
        "print('F1 score:', f1_score(y_train, train_proba_nb, average='weighted'))\n",
        "print('Accuracy score:', accuracy_score(y_train, train_proba_nb))"
      ],
      "execution_count": null,
      "outputs": [
        {
          "output_type": "stream",
          "name": "stdout",
          "text": [
            "F1 score: 0.6671916466263458\n",
            "Accuracy score: 0.6628272251308901\n"
          ]
        }
      ]
    },
    {
      "cell_type": "markdown",
      "metadata": {
        "id": "9sBx-ow3dK_C"
      },
      "source": [
        "###Test"
      ]
    },
    {
      "cell_type": "code",
      "metadata": {
        "colab": {
          "base_uri": "https://localhost:8080/"
        },
        "id": "VzyJRmDIqUqS",
        "outputId": "8f848048-5eb7-46b8-bd10-c29141c543cf"
      },
      "source": [
        "threshold = 0.35\n",
        "\n",
        "predicted_proba_nb = model_nb.predict_proba(X_test)\n",
        "predicted_proba_nb = (predicted_proba_nb [:,1] >= threshold).astype('int')\n",
        "summary_report(y_test,predicted_proba_nb,X_test,model_nb)"
      ],
      "execution_count": null,
      "outputs": [
        {
          "output_type": "stream",
          "name": "stdout",
          "text": [
            "              precision    recall  f1-score   support\n",
            "\n",
            "           0       0.76      0.68      0.72       309\n",
            "           1       0.56      0.66      0.61       191\n",
            "\n",
            "    accuracy                           0.67       500\n",
            "   macro avg       0.66      0.67      0.66       500\n",
            "weighted avg       0.69      0.67      0.68       500\n",
            "\n",
            "True Positives: 126\n",
            "False Positives: 98\n",
            "True Negatives: 211\n",
            "False Negatives: 65\n"
          ]
        }
      ]
    },
    {
      "cell_type": "code",
      "metadata": {
        "colab": {
          "base_uri": "https://localhost:8080/"
        },
        "id": "80MxKhqOQGl2",
        "outputId": "79d30194-761f-4984-ed67-6e16b4847b35"
      },
      "source": [
        "print('F1 score:', f1_score(y_test, predicted_proba_nb, average='weighted'))\n",
        "print('Accuracy score:', accuracy_score(y_test, predicted_proba_nb))"
      ],
      "execution_count": null,
      "outputs": [
        {
          "output_type": "stream",
          "name": "stdout",
          "text": [
            "F1 score: 0.6777665739882607\n",
            "Accuracy score: 0.674\n"
          ]
        }
      ]
    },
    {
      "cell_type": "markdown",
      "metadata": {
        "id": "gQ1QXXF5QjqG"
      },
      "source": [
        "##Random Forest"
      ]
    },
    {
      "cell_type": "code",
      "metadata": {
        "colab": {
          "base_uri": "https://localhost:8080/"
        },
        "id": "mwJxzoW4v-Ig",
        "outputId": "b7920aef-ad88-4c9d-85fe-87fd9f87bde1"
      },
      "source": [
        "model_RF = RandomForestClassifier(n_estimators=10)\n",
        "model_RF.fit(X_train1,y_train1)"
      ],
      "execution_count": null,
      "outputs": [
        {
          "output_type": "execute_result",
          "data": {
            "text/plain": [
              "RandomForestClassifier(bootstrap=True, ccp_alpha=0.0, class_weight=None,\n",
              "                       criterion='gini', max_depth=None, max_features='auto',\n",
              "                       max_leaf_nodes=None, max_samples=None,\n",
              "                       min_impurity_decrease=0.0, min_impurity_split=None,\n",
              "                       min_samples_leaf=1, min_samples_split=2,\n",
              "                       min_weight_fraction_leaf=0.0, n_estimators=10,\n",
              "                       n_jobs=None, oob_score=False, random_state=None,\n",
              "                       verbose=0, warm_start=False)"
            ]
          },
          "metadata": {},
          "execution_count": 454
        }
      ]
    },
    {
      "cell_type": "markdown",
      "metadata": {
        "id": "7oQzd1T6d-9U"
      },
      "source": [
        "###Train"
      ]
    },
    {
      "cell_type": "code",
      "metadata": {
        "colab": {
          "base_uri": "https://localhost:8080/"
        },
        "id": "aGMRkuCod-Jn",
        "outputId": "4c6a96e8-0fd0-4781-ce78-5370c334fa55"
      },
      "source": [
        "threshold = 0.39\n",
        "\n",
        "train_proba_rf = model_RF.predict_proba(X_train)\n",
        "train_proba_rf = (train_proba_rf [:,1] >= threshold).astype('int')\n",
        "summary_report(y_train,train_proba_rf,X_train,model_RF)"
      ],
      "execution_count": null,
      "outputs": [
        {
          "output_type": "stream",
          "name": "stdout",
          "text": [
            "              precision    recall  f1-score   support\n",
            "\n",
            "           0       0.93      0.87      0.90       597\n",
            "           1       0.81      0.89      0.85       358\n",
            "\n",
            "    accuracy                           0.88       955\n",
            "   macro avg       0.87      0.88      0.87       955\n",
            "weighted avg       0.88      0.88      0.88       955\n",
            "\n",
            "True Positives: 320\n",
            "False Positives: 77\n",
            "True Negatives: 520\n",
            "False Negatives: 38\n"
          ]
        }
      ]
    },
    {
      "cell_type": "code",
      "metadata": {
        "colab": {
          "base_uri": "https://localhost:8080/"
        },
        "id": "M0mLn4GqeNmv",
        "outputId": "e2989762-89bb-41c2-ffcc-506d35039883"
      },
      "source": [
        "print(f'F1 score:',f1_score(y_train,train_proba_rf,average='weighted'))\n",
        "print(f'Accuracy score: {accuracy_score(y_train,train_proba_rf)}')"
      ],
      "execution_count": null,
      "outputs": [
        {
          "output_type": "stream",
          "name": "stdout",
          "text": [
            "F1 score: 0.8806582620250663\n",
            "Accuracy score: 0.8795811518324608\n"
          ]
        }
      ]
    },
    {
      "cell_type": "markdown",
      "metadata": {
        "id": "09Y8NGa4d8we"
      },
      "source": [
        "###Test"
      ]
    },
    {
      "cell_type": "code",
      "metadata": {
        "colab": {
          "base_uri": "https://localhost:8080/"
        },
        "id": "CWv_urAwqXez",
        "outputId": "d00da1aa-8d79-42f4-ba3f-21f7c095a5bf"
      },
      "source": [
        "threshold = 0.39\n",
        "\n",
        "predicted_proba_rf = model_RF.predict_proba(X_test)\n",
        "predicted_proba_rf = (predicted_proba_rf [:,1] >= threshold).astype('int')\n",
        "summary_report(y_test,predicted_proba_rf,X_test,model_RF)"
      ],
      "execution_count": null,
      "outputs": [
        {
          "output_type": "stream",
          "name": "stdout",
          "text": [
            "              precision    recall  f1-score   support\n",
            "\n",
            "           0       0.77      0.76      0.77       309\n",
            "           1       0.62      0.64      0.63       191\n",
            "\n",
            "    accuracy                           0.71       500\n",
            "   macro avg       0.70      0.70      0.70       500\n",
            "weighted avg       0.72      0.71      0.71       500\n",
            "\n",
            "True Positives: 122\n",
            "False Positives: 74\n",
            "True Negatives: 235\n",
            "False Negatives: 69\n"
          ]
        }
      ]
    },
    {
      "cell_type": "code",
      "metadata": {
        "colab": {
          "base_uri": "https://localhost:8080/"
        },
        "id": "Eq3jE-OxQ1XZ",
        "outputId": "473eeca9-c67b-4d01-815d-e8be3f81a196"
      },
      "source": [
        "print(f'F1 score:',f1_score(y_test, predicted_proba_rf,average='weighted'))\n",
        "print(f'Accuracy score: {accuracy_score(y_test, predicted_proba_rf)}')"
      ],
      "execution_count": null,
      "outputs": [
        {
          "output_type": "stream",
          "name": "stdout",
          "text": [
            "F1 score: 0.7146811504398666\n",
            "Accuracy score: 0.714\n"
          ]
        }
      ]
    },
    {
      "cell_type": "markdown",
      "metadata": {
        "id": "TkmJ0YpBSB5h"
      },
      "source": [
        "##Model result Comparison"
      ]
    },
    {
      "cell_type": "code",
      "metadata": {
        "colab": {
          "base_uri": "https://localhost:8080/"
        },
        "id": "ZX1vyWO8GzWA",
        "outputId": "de03cbcc-2c74-405b-bb99-e2583fc98b98"
      },
      "source": [
        "print('========CatBoost========')\n",
        "print('F1 score:', f1_score(y_test, predicted_proba_cb, average='weighted'))\n",
        "print('Accuracy score:', accuracy_score(y_test, predicted_proba_cb))\n",
        "print(' ')\n",
        "print('========Naive Bayes========')\n",
        "print('F1 score:', f1_score(y_test, predicted_proba_nb, average='weighted'))\n",
        "print('Accuracy score:', accuracy_score(y_test, predicted_proba_nb))\n",
        "print(' ')\n",
        "print('========Random Forest========')\n",
        "print(f'F1 score:',f1_score(y_test, predicted_proba_rf,average='weighted'))\n",
        "print(f'Accuracy score: {accuracy_score(y_test, predicted_proba_rf)}')"
      ],
      "execution_count": null,
      "outputs": [
        {
          "output_type": "stream",
          "name": "stdout",
          "text": [
            "========CatBoost========\n",
            "F1 score: 0.7224050681026292\n",
            "Accuracy score: 0.722\n",
            " \n",
            "========Naive Bayes========\n",
            "F1 score: 0.6777665739882607\n",
            "Accuracy score: 0.674\n",
            " \n",
            "========Random Forest========\n",
            "F1 score: 0.7146811504398666\n",
            "Accuracy score: 0.714\n"
          ]
        }
      ]
    },
    {
      "cell_type": "markdown",
      "metadata": {
        "id": "LzKD0N8aZJqx"
      },
      "source": [
        "After the imbalance problem was solved by resampling and set threshold, it was found that the machine learning catboost model gave better results than the other 2 models."
      ]
    }
  ]
}